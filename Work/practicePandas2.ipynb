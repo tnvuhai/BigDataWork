{
 "cells": [
  {
   "cell_type": "markdown",
   "id": "8a124529-711b-4146-b037-bc7ce5865429",
   "metadata": {},
   "source": [
    "# Họ tên: Nguyễn Vũ Hải\n",
    "# Lớp: CNTT K18 CLC\n",
    "# Mã SV: DTC195480201CLC0006"
   ]
  },
  {
   "cell_type": "code",
   "execution_count": 1,
   "id": "bb003f33-dff0-4f02-a90a-ea638164b31d",
   "metadata": {},
   "outputs": [],
   "source": [
    "%matplotlib inline\n",
    "import matplotlib\n",
    "import seaborn as sns\n",
    "import numpy as np"
   ]
  },
  {
   "cell_type": "code",
   "execution_count": 2,
   "id": "2d94140c-c6ed-4efe-85bd-fb04567d2108",
   "metadata": {},
   "outputs": [],
   "source": [
    "import pandas as pd"
   ]
  },
  {
   "cell_type": "code",
   "execution_count": 3,
   "id": "b8f36606-088a-4f04-8531-e9eb599ffa01",
   "metadata": {},
   "outputs": [
    {
     "name": "stderr",
     "output_type": "stream",
     "text": [
      "C:\\Users\\mamto\\AppData\\Local\\Temp\\ipykernel_15232\\15317537.py:1: DtypeWarning: Columns (3,4,5,6,12) have mixed types. Specify dtype option on import or set low_memory=False.\n",
      "  df_salary = pd.read_csv(\"Salaries.csv\")\n"
     ]
    },
    {
     "data": {
      "text/html": [
       "<div>\n",
       "<style scoped>\n",
       "    .dataframe tbody tr th:only-of-type {\n",
       "        vertical-align: middle;\n",
       "    }\n",
       "\n",
       "    .dataframe tbody tr th {\n",
       "        vertical-align: top;\n",
       "    }\n",
       "\n",
       "    .dataframe thead th {\n",
       "        text-align: right;\n",
       "    }\n",
       "</style>\n",
       "<table border=\"1\" class=\"dataframe\">\n",
       "  <thead>\n",
       "    <tr style=\"text-align: right;\">\n",
       "      <th></th>\n",
       "      <th>Id</th>\n",
       "      <th>EmployeeName</th>\n",
       "      <th>JobTitle</th>\n",
       "      <th>BasePay</th>\n",
       "      <th>OvertimePay</th>\n",
       "      <th>OtherPay</th>\n",
       "      <th>Benefits</th>\n",
       "      <th>TotalPay</th>\n",
       "      <th>TotalPayBenefits</th>\n",
       "      <th>Year</th>\n",
       "      <th>Notes</th>\n",
       "      <th>Agency</th>\n",
       "      <th>Status</th>\n",
       "    </tr>\n",
       "  </thead>\n",
       "  <tbody>\n",
       "    <tr>\n",
       "      <th>0</th>\n",
       "      <td>1</td>\n",
       "      <td>NATHANIEL FORD</td>\n",
       "      <td>GENERAL MANAGER-METROPOLITAN TRANSIT AUTHORITY</td>\n",
       "      <td>167411.18</td>\n",
       "      <td>0.0</td>\n",
       "      <td>400184.25</td>\n",
       "      <td>NaN</td>\n",
       "      <td>567595.43</td>\n",
       "      <td>567595.43</td>\n",
       "      <td>2011</td>\n",
       "      <td>NaN</td>\n",
       "      <td>San Francisco</td>\n",
       "      <td>NaN</td>\n",
       "    </tr>\n",
       "    <tr>\n",
       "      <th>1</th>\n",
       "      <td>2</td>\n",
       "      <td>GARY JIMENEZ</td>\n",
       "      <td>CAPTAIN III (POLICE DEPARTMENT)</td>\n",
       "      <td>155966.02</td>\n",
       "      <td>245131.88</td>\n",
       "      <td>137811.38</td>\n",
       "      <td>NaN</td>\n",
       "      <td>538909.28</td>\n",
       "      <td>538909.28</td>\n",
       "      <td>2011</td>\n",
       "      <td>NaN</td>\n",
       "      <td>San Francisco</td>\n",
       "      <td>NaN</td>\n",
       "    </tr>\n",
       "    <tr>\n",
       "      <th>2</th>\n",
       "      <td>3</td>\n",
       "      <td>ALBERT PARDINI</td>\n",
       "      <td>CAPTAIN III (POLICE DEPARTMENT)</td>\n",
       "      <td>212739.13</td>\n",
       "      <td>106088.18</td>\n",
       "      <td>16452.6</td>\n",
       "      <td>NaN</td>\n",
       "      <td>335279.91</td>\n",
       "      <td>335279.91</td>\n",
       "      <td>2011</td>\n",
       "      <td>NaN</td>\n",
       "      <td>San Francisco</td>\n",
       "      <td>NaN</td>\n",
       "    </tr>\n",
       "    <tr>\n",
       "      <th>3</th>\n",
       "      <td>4</td>\n",
       "      <td>CHRISTOPHER CHONG</td>\n",
       "      <td>WIRE ROPE CABLE MAINTENANCE MECHANIC</td>\n",
       "      <td>77916.0</td>\n",
       "      <td>56120.71</td>\n",
       "      <td>198306.9</td>\n",
       "      <td>NaN</td>\n",
       "      <td>332343.61</td>\n",
       "      <td>332343.61</td>\n",
       "      <td>2011</td>\n",
       "      <td>NaN</td>\n",
       "      <td>San Francisco</td>\n",
       "      <td>NaN</td>\n",
       "    </tr>\n",
       "    <tr>\n",
       "      <th>4</th>\n",
       "      <td>5</td>\n",
       "      <td>PATRICK GARDNER</td>\n",
       "      <td>DEPUTY CHIEF OF DEPARTMENT,(FIRE DEPARTMENT)</td>\n",
       "      <td>134401.6</td>\n",
       "      <td>9737.0</td>\n",
       "      <td>182234.59</td>\n",
       "      <td>NaN</td>\n",
       "      <td>326373.19</td>\n",
       "      <td>326373.19</td>\n",
       "      <td>2011</td>\n",
       "      <td>NaN</td>\n",
       "      <td>San Francisco</td>\n",
       "      <td>NaN</td>\n",
       "    </tr>\n",
       "  </tbody>\n",
       "</table>\n",
       "</div>"
      ],
      "text/plain": [
       "   Id       EmployeeName                                        JobTitle  \\\n",
       "0   1     NATHANIEL FORD  GENERAL MANAGER-METROPOLITAN TRANSIT AUTHORITY   \n",
       "1   2       GARY JIMENEZ                 CAPTAIN III (POLICE DEPARTMENT)   \n",
       "2   3     ALBERT PARDINI                 CAPTAIN III (POLICE DEPARTMENT)   \n",
       "3   4  CHRISTOPHER CHONG            WIRE ROPE CABLE MAINTENANCE MECHANIC   \n",
       "4   5    PATRICK GARDNER    DEPUTY CHIEF OF DEPARTMENT,(FIRE DEPARTMENT)   \n",
       "\n",
       "     BasePay OvertimePay   OtherPay Benefits   TotalPay  TotalPayBenefits  \\\n",
       "0  167411.18         0.0  400184.25      NaN  567595.43         567595.43   \n",
       "1  155966.02   245131.88  137811.38      NaN  538909.28         538909.28   \n",
       "2  212739.13   106088.18    16452.6      NaN  335279.91         335279.91   \n",
       "3    77916.0    56120.71   198306.9      NaN  332343.61         332343.61   \n",
       "4   134401.6      9737.0  182234.59      NaN  326373.19         326373.19   \n",
       "\n",
       "   Year  Notes         Agency Status  \n",
       "0  2011    NaN  San Francisco    NaN  \n",
       "1  2011    NaN  San Francisco    NaN  \n",
       "2  2011    NaN  San Francisco    NaN  \n",
       "3  2011    NaN  San Francisco    NaN  \n",
       "4  2011    NaN  San Francisco    NaN  "
      ]
     },
     "execution_count": 3,
     "metadata": {},
     "output_type": "execute_result"
    }
   ],
   "source": [
    "df_salary = pd.read_csv(\"Salaries.csv\")\n",
    "df_salary.head()"
   ]
  },
  {
   "cell_type": "code",
   "execution_count": 27,
   "id": "dace19fb-c493-4708-96fc-51297e8109c2",
   "metadata": {},
   "outputs": [],
   "source": [
    "df_salary.BasePay = pd.to_numeric(df_salary.BasePay, errors='coerce')\n",
    "df_salary.OvertimePay = pd.to_numeric(df_salary.OvertimePay, errors='coerce')"
   ]
  },
  {
   "cell_type": "markdown",
   "id": "45bc8db7-11ec-481c-9ac5-ab049a581f94",
   "metadata": {},
   "source": [
    "Bài 1. Hãy dùng hàm groupby để hiển thị trung bình lương (TotalPay) theo năm (Year)."
   ]
  },
  {
   "cell_type": "code",
   "execution_count": 7,
   "id": "4c3cf1dd-ec66-4254-ae9c-81b63410957a",
   "metadata": {},
   "outputs": [
    {
     "data": {
      "text/html": [
       "<div>\n",
       "<style scoped>\n",
       "    .dataframe tbody tr th:only-of-type {\n",
       "        vertical-align: middle;\n",
       "    }\n",
       "\n",
       "    .dataframe tbody tr th {\n",
       "        vertical-align: top;\n",
       "    }\n",
       "\n",
       "    .dataframe thead th {\n",
       "        text-align: right;\n",
       "    }\n",
       "</style>\n",
       "<table border=\"1\" class=\"dataframe\">\n",
       "  <thead>\n",
       "    <tr style=\"text-align: right;\">\n",
       "      <th></th>\n",
       "      <th>TotalPay</th>\n",
       "    </tr>\n",
       "    <tr>\n",
       "      <th>Year</th>\n",
       "      <th></th>\n",
       "    </tr>\n",
       "  </thead>\n",
       "  <tbody>\n",
       "    <tr>\n",
       "      <th>2011</th>\n",
       "      <td>2.594195e+09</td>\n",
       "    </tr>\n",
       "    <tr>\n",
       "      <th>2012</th>\n",
       "      <td>2.724848e+09</td>\n",
       "    </tr>\n",
       "    <tr>\n",
       "      <th>2013</th>\n",
       "      <td>2.918656e+09</td>\n",
       "    </tr>\n",
       "    <tr>\n",
       "      <th>2014</th>\n",
       "      <td>2.876911e+09</td>\n",
       "    </tr>\n",
       "  </tbody>\n",
       "</table>\n",
       "</div>"
      ],
      "text/plain": [
       "          TotalPay\n",
       "Year              \n",
       "2011  2.594195e+09\n",
       "2012  2.724848e+09\n",
       "2013  2.918656e+09\n",
       "2014  2.876911e+09"
      ]
     },
     "execution_count": 7,
     "metadata": {},
     "output_type": "execute_result"
    }
   ],
   "source": [
    "df_salary[[\"TotalPay\",\"Year\"]].groupby(\"Year\").sum()"
   ]
  },
  {
   "cell_type": "markdown",
   "id": "d748e58a-1bba-448f-9b7f-5f4ebba3e4ff",
   "metadata": {},
   "source": [
    "Bài 2. Hãy dùng hàm `groupby` để hiển thị tổng lương (TotalPay) theo năm. Sắp xếp theo thứ tự giảm dần."
   ]
  },
  {
   "cell_type": "code",
   "execution_count": 11,
   "id": "3f8e4062-e65a-4471-a5f5-1f578b831c4e",
   "metadata": {},
   "outputs": [
    {
     "data": {
      "text/html": [
       "<div>\n",
       "<style scoped>\n",
       "    .dataframe tbody tr th:only-of-type {\n",
       "        vertical-align: middle;\n",
       "    }\n",
       "\n",
       "    .dataframe tbody tr th {\n",
       "        vertical-align: top;\n",
       "    }\n",
       "\n",
       "    .dataframe thead th {\n",
       "        text-align: right;\n",
       "    }\n",
       "</style>\n",
       "<table border=\"1\" class=\"dataframe\">\n",
       "  <thead>\n",
       "    <tr style=\"text-align: right;\">\n",
       "      <th></th>\n",
       "      <th>TotalPay</th>\n",
       "    </tr>\n",
       "    <tr>\n",
       "      <th>Year</th>\n",
       "      <th></th>\n",
       "    </tr>\n",
       "  </thead>\n",
       "  <tbody>\n",
       "    <tr>\n",
       "      <th>2014</th>\n",
       "      <td>2.876911e+09</td>\n",
       "    </tr>\n",
       "    <tr>\n",
       "      <th>2013</th>\n",
       "      <td>2.918656e+09</td>\n",
       "    </tr>\n",
       "    <tr>\n",
       "      <th>2012</th>\n",
       "      <td>2.724848e+09</td>\n",
       "    </tr>\n",
       "    <tr>\n",
       "      <th>2011</th>\n",
       "      <td>2.594195e+09</td>\n",
       "    </tr>\n",
       "  </tbody>\n",
       "</table>\n",
       "</div>"
      ],
      "text/plain": [
       "          TotalPay\n",
       "Year              \n",
       "2014  2.876911e+09\n",
       "2013  2.918656e+09\n",
       "2012  2.724848e+09\n",
       "2011  2.594195e+09"
      ]
     },
     "execution_count": 11,
     "metadata": {},
     "output_type": "execute_result"
    }
   ],
   "source": [
    "df_salary[[\"TotalPay\",\"Year\"]].groupby(\"Year\").sum().sort_values(\"Year\",ascending = False)"
   ]
  },
  {
   "cell_type": "markdown",
   "id": "7542a9c1-6984-498d-a7bb-3148c878b5fa",
   "metadata": {},
   "source": [
    "Bài 3. Hiển thị số lượng công việc khác nhau trong dataframe `sal_df`."
   ]
  },
  {
   "cell_type": "code",
   "execution_count": 12,
   "id": "c28bc634-5868-4ec4-9309-2aaf24d17834",
   "metadata": {},
   "outputs": [
    {
     "data": {
      "text/plain": [
       "148654"
      ]
     },
     "execution_count": 12,
     "metadata": {},
     "output_type": "execute_result"
    }
   ],
   "source": [
    "df_salary.JobTitle.count()"
   ]
  },
  {
   "cell_type": "markdown",
   "id": "c2b91555-f5c8-4dc4-b5eb-437fb650a416",
   "metadata": {},
   "source": [
    "Bài 4. Điền giá trị 0.0 cho các ô trống trong `sal_df`."
   ]
  },
  {
   "cell_type": "code",
   "execution_count": 14,
   "id": "779795f8-538c-4f94-92e2-a7f276617025",
   "metadata": {},
   "outputs": [
    {
     "name": "stdout",
     "output_type": "stream",
     "text": [
      "Kiểm tra null trong bảng Id                  0\n",
      "EmployeeName        0\n",
      "JobTitle            0\n",
      "BasePay             0\n",
      "OvertimePay         0\n",
      "OtherPay            0\n",
      "Benefits            0\n",
      "TotalPay            0\n",
      "TotalPayBenefits    0\n",
      "Year                0\n",
      "Notes               0\n",
      "Agency              0\n",
      "Status              0\n",
      "dtype: int64\n"
     ]
    }
   ],
   "source": [
    "df_salary = df_salary.replace(np.nan,0)\n",
    "print(f\"Kiểm tra null trong bảng {df_salary.isnull().sum()}\")"
   ]
  },
  {
   "cell_type": "markdown",
   "id": "355fffb6-8c11-4773-9ee6-a7fe8bc415b1",
   "metadata": {},
   "source": [
    "Bài 5. Tìm tên nhân viên có mức lương cao "
   ]
  },
  {
   "cell_type": "code",
   "execution_count": 25,
   "id": "121c9a46-e007-4417-9f95-a9671a9da537",
   "metadata": {},
   "outputs": [
    {
     "data": {
      "text/html": [
       "<div>\n",
       "<style scoped>\n",
       "    .dataframe tbody tr th:only-of-type {\n",
       "        vertical-align: middle;\n",
       "    }\n",
       "\n",
       "    .dataframe tbody tr th {\n",
       "        vertical-align: top;\n",
       "    }\n",
       "\n",
       "    .dataframe thead th {\n",
       "        text-align: right;\n",
       "    }\n",
       "</style>\n",
       "<table border=\"1\" class=\"dataframe\">\n",
       "  <thead>\n",
       "    <tr style=\"text-align: right;\">\n",
       "      <th></th>\n",
       "      <th>BasePay</th>\n",
       "    </tr>\n",
       "    <tr>\n",
       "      <th>EmployeeName</th>\n",
       "      <th></th>\n",
       "    </tr>\n",
       "  </thead>\n",
       "  <tbody>\n",
       "    <tr>\n",
       "      <th>Kevin Lee</th>\n",
       "      <td>1142948.78</td>\n",
       "    </tr>\n",
       "  </tbody>\n",
       "</table>\n",
       "</div>"
      ],
      "text/plain": [
       "                 BasePay\n",
       "EmployeeName            \n",
       "Kevin Lee     1142948.78"
      ]
     },
     "execution_count": 25,
     "metadata": {},
     "output_type": "execute_result"
    }
   ],
   "source": [
    "df_salary[[\"EmployeeName\",\"BasePay\"]].groupby(\"EmployeeName\").sum().sort_values(\"BasePay\",ascending = False).head(1)"
   ]
  },
  {
   "cell_type": "markdown",
   "id": "8ec1ee59-6009-4412-88ab-7a1056d4aff9",
   "metadata": {},
   "source": [
    "Bài 6. Vẽ đồ thị dạng histogram của tiền lương ngoài giờ (OvertimePay)."
   ]
  },
  {
   "cell_type": "code",
   "execution_count": 28,
   "id": "b18e7bd5-16bb-4ca3-9032-0ac993dc6165",
   "metadata": {},
   "outputs": [
    {
     "data": {
      "text/plain": [
       "<AxesSubplot: >"
      ]
     },
     "execution_count": 28,
     "metadata": {},
     "output_type": "execute_result"
    },
    {
     "data": {
      "image/png": "[encoded data removed]",
      "text/plain": [
       "<Figure size 640x480 with 1 Axes>"
      ]
     },
     "metadata": {},
     "output_type": "display_data"
    }
   ],
   "source": [
    "df_salary.OvertimePay.plot()"
   ]
  },
  {
   "cell_type": "markdown",
   "id": "38b3dd12-95e0-42bc-bcf9-12b27231d849",
   "metadata": {},
   "source": [
    "Bài 7. Hợp nhất 2 df từ 2 bảng `orders` và `customers`"
   ]
  },
  {
   "cell_type": "code",
   "execution_count": 33,
   "id": "b6d2443e-e0d5-4d59-a5ac-6fa5635731f0",
   "metadata": {},
   "outputs": [],
   "source": [
    "df_orders = pd.read_csv(\"orders.csv\")\n",
    "df_customers = pd.read_csv(\"customers.csv\")"
   ]
  },
  {
   "cell_type": "code",
   "execution_count": 49,
   "id": "ab15fd9a-715e-4cfd-b0f8-f360d0e024ca",
   "metadata": {},
   "outputs": [
    {
     "name": "stdout",
     "output_type": "stream",
     "text": [
      "(2000, 4)\n"
     ]
    },
    {
     "data": {
      "text/html": [
       "<div>\n",
       "<style scoped>\n",
       "    .dataframe tbody tr th:only-of-type {\n",
       "        vertical-align: middle;\n",
       "    }\n",
       "\n",
       "    .dataframe tbody tr th {\n",
       "        vertical-align: top;\n",
       "    }\n",
       "\n",
       "    .dataframe thead th {\n",
       "        text-align: right;\n",
       "    }\n",
       "</style>\n",
       "<table border=\"1\" class=\"dataframe\">\n",
       "  <thead>\n",
       "    <tr style=\"text-align: right;\">\n",
       "      <th></th>\n",
       "      <th>id</th>\n",
       "      <th>customer_id</th>\n",
       "      <th>product_id</th>\n",
       "      <th>delivery_country</th>\n",
       "    </tr>\n",
       "  </thead>\n",
       "  <tbody>\n",
       "    <tr>\n",
       "      <th>0</th>\n",
       "      <td>0</td>\n",
       "      <td>1866</td>\n",
       "      <td>686</td>\n",
       "      <td>India</td>\n",
       "    </tr>\n",
       "    <tr>\n",
       "      <th>1</th>\n",
       "      <td>1</td>\n",
       "      <td>1921</td>\n",
       "      <td>617</td>\n",
       "      <td>China</td>\n",
       "    </tr>\n",
       "    <tr>\n",
       "      <th>2</th>\n",
       "      <td>1</td>\n",
       "      <td>1921</td>\n",
       "      <td>54</td>\n",
       "      <td>Armenia</td>\n",
       "    </tr>\n",
       "    <tr>\n",
       "      <th>3</th>\n",
       "      <td>1</td>\n",
       "      <td>1921</td>\n",
       "      <td>566</td>\n",
       "      <td>China</td>\n",
       "    </tr>\n",
       "    <tr>\n",
       "      <th>4</th>\n",
       "      <td>1</td>\n",
       "      <td>1921</td>\n",
       "      <td>128</td>\n",
       "      <td>Lebanon</td>\n",
       "    </tr>\n",
       "  </tbody>\n",
       "</table>\n",
       "</div>"
      ],
      "text/plain": [
       "   id  customer_id  product_id delivery_country\n",
       "0   0         1866         686            India\n",
       "1   1         1921         617            China\n",
       "2   1         1921          54          Armenia\n",
       "3   1         1921         566            China\n",
       "4   1         1921         128          Lebanon"
      ]
     },
     "execution_count": 49,
     "metadata": {},
     "output_type": "execute_result"
    }
   ],
   "source": [
    "print(df_orders.shape)\n",
    "df_orders.head()"
   ]
  },
  {
   "cell_type": "code",
   "execution_count": 51,
   "id": "cd4d4cd1-5ad3-41ab-a217-eaa307892eab",
   "metadata": {},
   "outputs": [
    {
     "name": "stdout",
     "output_type": "stream",
     "text": [
      "(519, 3)\n"
     ]
    },
    {
     "data": {
      "text/html": [
       "<div>\n",
       "<style scoped>\n",
       "    .dataframe tbody tr th:only-of-type {\n",
       "        vertical-align: middle;\n",
       "    }\n",
       "\n",
       "    .dataframe tbody tr th {\n",
       "        vertical-align: top;\n",
       "    }\n",
       "\n",
       "    .dataframe thead th {\n",
       "        text-align: right;\n",
       "    }\n",
       "</style>\n",
       "<table border=\"1\" class=\"dataframe\">\n",
       "  <thead>\n",
       "    <tr style=\"text-align: right;\">\n",
       "      <th></th>\n",
       "      <th>id</th>\n",
       "      <th>name</th>\n",
       "      <th>billing_country</th>\n",
       "    </tr>\n",
       "  </thead>\n",
       "  <tbody>\n",
       "    <tr>\n",
       "      <th>0</th>\n",
       "      <td>1</td>\n",
       "      <td>Serenity Ladner</td>\n",
       "      <td>Canada</td>\n",
       "    </tr>\n",
       "    <tr>\n",
       "      <th>1</th>\n",
       "      <td>2</td>\n",
       "      <td>Lucy Baldwin</td>\n",
       "      <td>Canada</td>\n",
       "    </tr>\n",
       "    <tr>\n",
       "      <th>2</th>\n",
       "      <td>5</td>\n",
       "      <td>Skylar Coffman</td>\n",
       "      <td>USA</td>\n",
       "    </tr>\n",
       "    <tr>\n",
       "      <th>3</th>\n",
       "      <td>6</td>\n",
       "      <td>Riley Kinsey</td>\n",
       "      <td>USA</td>\n",
       "    </tr>\n",
       "    <tr>\n",
       "      <th>4</th>\n",
       "      <td>7</td>\n",
       "      <td>Heidi Spurlock</td>\n",
       "      <td>Canada</td>\n",
       "    </tr>\n",
       "  </tbody>\n",
       "</table>\n",
       "</div>"
      ],
      "text/plain": [
       "   id             name billing_country\n",
       "0   1  Serenity Ladner          Canada\n",
       "1   2     Lucy Baldwin          Canada\n",
       "2   5   Skylar Coffman             USA\n",
       "3   6     Riley Kinsey             USA\n",
       "4   7   Heidi Spurlock          Canada"
      ]
     },
     "execution_count": 51,
     "metadata": {},
     "output_type": "execute_result"
    }
   ],
   "source": [
    "print(df_customers.shape)\n",
    "df_customers.head()"
   ]
  },
  {
   "cell_type": "code",
   "execution_count": 56,
   "id": "f49d66d8-03a3-40d5-8c27-8209d9e8eaa6",
   "metadata": {},
   "outputs": [
    {
     "data": {
      "text/html": [
       "<div>\n",
       "<style scoped>\n",
       "    .dataframe tbody tr th:only-of-type {\n",
       "        vertical-align: middle;\n",
       "    }\n",
       "\n",
       "    .dataframe tbody tr th {\n",
       "        vertical-align: top;\n",
       "    }\n",
       "\n",
       "    .dataframe thead th {\n",
       "        text-align: right;\n",
       "    }\n",
       "</style>\n",
       "<table border=\"1\" class=\"dataframe\">\n",
       "  <thead>\n",
       "    <tr style=\"text-align: right;\">\n",
       "      <th></th>\n",
       "      <th>id_x</th>\n",
       "      <th>name</th>\n",
       "      <th>billing_country</th>\n",
       "      <th>id_y</th>\n",
       "      <th>customer_id</th>\n",
       "      <th>product_id</th>\n",
       "      <th>delivery_country</th>\n",
       "    </tr>\n",
       "  </thead>\n",
       "  <tbody>\n",
       "    <tr>\n",
       "      <th>0</th>\n",
       "      <td>1</td>\n",
       "      <td>Serenity Ladner</td>\n",
       "      <td>Canada</td>\n",
       "      <td>189.0</td>\n",
       "      <td>1.0</td>\n",
       "      <td>307.0</td>\n",
       "      <td>Canada</td>\n",
       "    </tr>\n",
       "    <tr>\n",
       "      <th>1</th>\n",
       "      <td>1</td>\n",
       "      <td>Serenity Ladner</td>\n",
       "      <td>Canada</td>\n",
       "      <td>189.0</td>\n",
       "      <td>1.0</td>\n",
       "      <td>508.0</td>\n",
       "      <td>Poland</td>\n",
       "    </tr>\n",
       "    <tr>\n",
       "      <th>2</th>\n",
       "      <td>1</td>\n",
       "      <td>Serenity Ladner</td>\n",
       "      <td>Canada</td>\n",
       "      <td>949.0</td>\n",
       "      <td>1.0</td>\n",
       "      <td>431.0</td>\n",
       "      <td>Canada</td>\n",
       "    </tr>\n",
       "    <tr>\n",
       "      <th>3</th>\n",
       "      <td>1</td>\n",
       "      <td>Serenity Ladner</td>\n",
       "      <td>Canada</td>\n",
       "      <td>949.0</td>\n",
       "      <td>1.0</td>\n",
       "      <td>592.0</td>\n",
       "      <td>Canada</td>\n",
       "    </tr>\n",
       "    <tr>\n",
       "      <th>4</th>\n",
       "      <td>2</td>\n",
       "      <td>Lucy Baldwin</td>\n",
       "      <td>Canada</td>\n",
       "      <td>NaN</td>\n",
       "      <td>NaN</td>\n",
       "      <td>NaN</td>\n",
       "      <td>NaN</td>\n",
       "    </tr>\n",
       "    <tr>\n",
       "      <th>...</th>\n",
       "      <td>...</td>\n",
       "      <td>...</td>\n",
       "      <td>...</td>\n",
       "      <td>...</td>\n",
       "      <td>...</td>\n",
       "      <td>...</td>\n",
       "      <td>...</td>\n",
       "    </tr>\n",
       "    <tr>\n",
       "      <th>2092</th>\n",
       "      <td>2095</td>\n",
       "      <td>Ngo Vuong</td>\n",
       "      <td>Vietnam</td>\n",
       "      <td>303.0</td>\n",
       "      <td>2095.0</td>\n",
       "      <td>25.0</td>\n",
       "      <td>Vietnam</td>\n",
       "    </tr>\n",
       "    <tr>\n",
       "      <th>2093</th>\n",
       "      <td>2095</td>\n",
       "      <td>Ngo Vuong</td>\n",
       "      <td>Vietnam</td>\n",
       "      <td>303.0</td>\n",
       "      <td>2095.0</td>\n",
       "      <td>650.0</td>\n",
       "      <td>Vietnam</td>\n",
       "    </tr>\n",
       "    <tr>\n",
       "      <th>2094</th>\n",
       "      <td>2095</td>\n",
       "      <td>Ngo Vuong</td>\n",
       "      <td>Vietnam</td>\n",
       "      <td>494.0</td>\n",
       "      <td>2095.0</td>\n",
       "      <td>208.0</td>\n",
       "      <td>Vietnam</td>\n",
       "    </tr>\n",
       "    <tr>\n",
       "      <th>2095</th>\n",
       "      <td>2095</td>\n",
       "      <td>Ngo Vuong</td>\n",
       "      <td>Vietnam</td>\n",
       "      <td>494.0</td>\n",
       "      <td>2095.0</td>\n",
       "      <td>211.0</td>\n",
       "      <td>Vietnam</td>\n",
       "    </tr>\n",
       "    <tr>\n",
       "      <th>2096</th>\n",
       "      <td>2096</td>\n",
       "      <td>Phan Thinh</td>\n",
       "      <td>Vietnam</td>\n",
       "      <td>395.0</td>\n",
       "      <td>2096.0</td>\n",
       "      <td>394.0</td>\n",
       "      <td>Albania</td>\n",
       "    </tr>\n",
       "  </tbody>\n",
       "</table>\n",
       "<p>2097 rows × 7 columns</p>\n",
       "</div>"
      ],
      "text/plain": [
       "      id_x             name billing_country   id_y  customer_id  product_id  \\\n",
       "0        1  Serenity Ladner          Canada  189.0          1.0       307.0   \n",
       "1        1  Serenity Ladner          Canada  189.0          1.0       508.0   \n",
       "2        1  Serenity Ladner          Canada  949.0          1.0       431.0   \n",
       "3        1  Serenity Ladner          Canada  949.0          1.0       592.0   \n",
       "4        2     Lucy Baldwin          Canada    NaN          NaN         NaN   \n",
       "...    ...              ...             ...    ...          ...         ...   \n",
       "2092  2095        Ngo Vuong         Vietnam  303.0       2095.0        25.0   \n",
       "2093  2095        Ngo Vuong         Vietnam  303.0       2095.0       650.0   \n",
       "2094  2095        Ngo Vuong         Vietnam  494.0       2095.0       208.0   \n",
       "2095  2095        Ngo Vuong         Vietnam  494.0       2095.0       211.0   \n",
       "2096  2096       Phan Thinh         Vietnam  395.0       2096.0       394.0   \n",
       "\n",
       "     delivery_country  \n",
       "0              Canada  \n",
       "1              Poland  \n",
       "2              Canada  \n",
       "3              Canada  \n",
       "4                 NaN  \n",
       "...               ...  \n",
       "2092          Vietnam  \n",
       "2093          Vietnam  \n",
       "2094          Vietnam  \n",
       "2095          Vietnam  \n",
       "2096          Albania  \n",
       "\n",
       "[2097 rows x 7 columns]"
      ]
     },
     "execution_count": 56,
     "metadata": {},
     "output_type": "execute_result"
    }
   ],
   "source": [
    "joined_df = df_customers.merge(df_orders,how=\"left\", left_on = [\"id\"], right_on = [\"customer_id\"])\n",
    "joined_df"
   ]
  },
  {
   "cell_type": "code",
   "execution_count": null,
   "id": "99c9a194-9286-4f65-b653-d1abdd20475c",
   "metadata": {},
   "outputs": [],
   "source": []
  }
 ],
 "metadata": {
  "kernelspec": {
   "display_name": "Python 3 (ipykernel)",
   "language": "python",
   "name": "python3"
  },
  "language_info": {
   "codemirror_mode": {
    "name": "ipython",
    "version": 3
   },
   "file_extension": ".py",
   "mimetype": "text/x-python",
   "name": "python",
   "nbconvert_exporter": "python",
   "pygments_lexer": "ipython3",
   "version": "3.9.13"
  }
 },
 "nbformat": 4,
 "nbformat_minor": 5
}
