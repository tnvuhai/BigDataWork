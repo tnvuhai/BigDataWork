{
 "cells": [
  {
   "cell_type": "markdown",
   "id": "a1f07826-fab0-4dbe-aa66-7c571fcfc454",
   "metadata": {},
   "source": [
    "# Họ tên: Nguyễn Vũ Hải\n",
    "# Lớp: CNTT K18 CLC\n",
    "# Mã SV: DTC195480201CLC0006"
   ]
  },
  {
   "cell_type": "markdown",
   "id": "6fb6a048-9922-4b08-829f-f0469c0dead7",
   "metadata": {},
   "source": [
    "Bài 1. Hãy tạo 1 bảng có tên \"company\" trong database \"testdb.db\" với các trường thông tin (id: int; name: text; product_id: int; country: text)"
   ]
  },
  {
   "cell_type": "code",
   "execution_count": 27,
   "id": "203f84b5-f0a7-4648-8353-ad5dd3698ae8",
   "metadata": {},
   "outputs": [],
   "source": [
    "#importing libraries\n",
    "import pandas as pd\n",
    "import sqlite3\n",
    "import numpy as np"
   ]
  },
  {
   "cell_type": "code",
   "execution_count": 2,
   "id": "62729fa4-8f9a-4136-9f08-c6ec09d6bef0",
   "metadata": {},
   "outputs": [
    {
     "name": "stdout",
     "output_type": "stream",
     "text": [
      "Collecting ipython-sql\n",
      "  Downloading ipython_sql-0.5.0-py3-none-any.whl (20 kB)\n",
      "Collecting sqlparse\n",
      "  Downloading sqlparse-0.4.3-py3-none-any.whl (42 kB)\n",
      "     ---------------------------------------- 42.8/42.8 kB 1.0 MB/s eta 0:00:00\n",
      "Requirement already satisfied: ipython-genutils in d:\\anaconda3\\envs\\nlp\\lib\\site-packages (from ipython-sql) (0.2.0)\n",
      "Requirement already satisfied: ipython in d:\\anaconda3\\envs\\nlp\\lib\\site-packages (from ipython-sql) (8.4.0)\n",
      "Collecting prettytable\n",
      "  Downloading prettytable-3.6.0-py3-none-any.whl (27 kB)\n",
      "Requirement already satisfied: six in d:\\anaconda3\\envs\\nlp\\lib\\site-packages (from ipython-sql) (1.16.0)\n",
      "Collecting sqlalchemy>=2.0\n",
      "  Downloading SQLAlchemy-2.0.5.post1-cp39-cp39-win_amd64.whl (2.0 MB)\n",
      "     ---------------------------------------- 2.0/2.0 MB 4.6 MB/s eta 0:00:00\n",
      "Collecting greenlet!=0.4.17\n",
      "  Downloading greenlet-2.0.2-cp39-cp39-win_amd64.whl (192 kB)\n",
      "     -------------------------------------- 192.1/192.1 kB 5.9 MB/s eta 0:00:00\n",
      "Requirement already satisfied: typing-extensions>=4.2.0 in d:\\anaconda3\\envs\\nlp\\lib\\site-packages (from sqlalchemy>=2.0->ipython-sql) (4.3.0)\n",
      "Requirement already satisfied: jedi>=0.16 in d:\\anaconda3\\envs\\nlp\\lib\\site-packages (from ipython->ipython-sql) (0.18.1)\n",
      "Requirement already satisfied: colorama in d:\\anaconda3\\envs\\nlp\\lib\\site-packages (from ipython->ipython-sql) (0.4.5)\n",
      "Requirement already satisfied: backcall in d:\\anaconda3\\envs\\nlp\\lib\\site-packages (from ipython->ipython-sql) (0.2.0)\n",
      "Requirement already satisfied: decorator in d:\\anaconda3\\envs\\nlp\\lib\\site-packages (from ipython->ipython-sql) (5.1.1)\n",
      "Requirement already satisfied: pygments>=2.4.0 in d:\\anaconda3\\envs\\nlp\\lib\\site-packages (from ipython->ipython-sql) (2.11.2)\n",
      "Requirement already satisfied: matplotlib-inline in d:\\anaconda3\\envs\\nlp\\lib\\site-packages (from ipython->ipython-sql) (0.1.6)\n",
      "Requirement already satisfied: traitlets>=5 in d:\\anaconda3\\envs\\nlp\\lib\\site-packages (from ipython->ipython-sql) (5.1.1)\n",
      "Requirement already satisfied: stack-data in d:\\anaconda3\\envs\\nlp\\lib\\site-packages (from ipython->ipython-sql) (0.2.0)\n",
      "Requirement already satisfied: pickleshare in d:\\anaconda3\\envs\\nlp\\lib\\site-packages (from ipython->ipython-sql) (0.7.5)\n",
      "Requirement already satisfied: prompt-toolkit!=3.0.0,!=3.0.1,<3.1.0,>=2.0.0 in d:\\anaconda3\\envs\\nlp\\lib\\site-packages (from ipython->ipython-sql) (3.0.20)\n",
      "Requirement already satisfied: setuptools>=18.5 in d:\\anaconda3\\envs\\nlp\\lib\\site-packages (from ipython->ipython-sql) (63.4.1)\n",
      "Requirement already satisfied: wcwidth in d:\\anaconda3\\envs\\nlp\\lib\\site-packages (from prettytable->ipython-sql) (0.2.5)\n",
      "Requirement already satisfied: parso<0.9.0,>=0.8.0 in d:\\anaconda3\\envs\\nlp\\lib\\site-packages (from jedi>=0.16->ipython->ipython-sql) (0.8.3)\n",
      "Requirement already satisfied: asttokens in d:\\anaconda3\\envs\\nlp\\lib\\site-packages (from stack-data->ipython->ipython-sql) (2.0.5)\n",
      "Requirement already satisfied: pure-eval in d:\\anaconda3\\envs\\nlp\\lib\\site-packages (from stack-data->ipython->ipython-sql) (0.2.2)\n",
      "Requirement already satisfied: executing in d:\\anaconda3\\envs\\nlp\\lib\\site-packages (from stack-data->ipython->ipython-sql) (0.8.3)\n",
      "Installing collected packages: sqlparse, prettytable, greenlet, sqlalchemy, ipython-sql\n",
      "Successfully installed greenlet-2.0.2 ipython-sql-0.5.0 prettytable-3.6.0 sqlalchemy-2.0.5.post1 sqlparse-0.4.3\n"
     ]
    }
   ],
   "source": [
    "!pip install ipython-sql"
   ]
  },
  {
   "cell_type": "code",
   "execution_count": 3,
   "id": "251bf8cd-6280-482b-a6f1-346111fe9c92",
   "metadata": {},
   "outputs": [],
   "source": [
    "#Connecting sqlite3 and creating a Database\n",
    "conn1 = sqlite3.connect(\"testdb.db\")"
   ]
  },
  {
   "cell_type": "code",
   "execution_count": 4,
   "id": "539398a8-98de-4ecb-837b-9a46912a2436",
   "metadata": {},
   "outputs": [
    {
     "data": {
      "text/html": [
       "<div>\n",
       "<style scoped>\n",
       "    .dataframe tbody tr th:only-of-type {\n",
       "        vertical-align: middle;\n",
       "    }\n",
       "\n",
       "    .dataframe tbody tr th {\n",
       "        vertical-align: top;\n",
       "    }\n",
       "\n",
       "    .dataframe thead th {\n",
       "        text-align: right;\n",
       "    }\n",
       "</style>\n",
       "<table border=\"1\" class=\"dataframe\">\n",
       "  <thead>\n",
       "    <tr style=\"text-align: right;\">\n",
       "      <th></th>\n",
       "      <th>id</th>\n",
       "      <th>name</th>\n",
       "      <th>product_id</th>\n",
       "      <th>country</th>\n",
       "    </tr>\n",
       "  </thead>\n",
       "  <tbody>\n",
       "  </tbody>\n",
       "</table>\n",
       "</div>"
      ],
      "text/plain": [
       "Empty DataFrame\n",
       "Columns: [id, name, product_id, country]\n",
       "Index: []"
      ]
     },
     "execution_count": 4,
     "metadata": {},
     "output_type": "execute_result"
    }
   ],
   "source": [
    "company_df = pd.DataFrame(columns=[\"id\", \"name\", \"product_id\", \"country\"])\n",
    "company_df"
   ]
  },
  {
   "cell_type": "code",
   "execution_count": 5,
   "id": "ec23cd35-5843-4696-b0b8-572178940ce0",
   "metadata": {},
   "outputs": [
    {
     "data": {
      "text/plain": [
       "0"
      ]
     },
     "execution_count": 5,
     "metadata": {},
     "output_type": "execute_result"
    }
   ],
   "source": [
    "company_df.to_sql(\"company\", conn1, index=False, if_exists=\"replace\")\n"
   ]
  },
  {
   "cell_type": "code",
   "execution_count": 12,
   "id": "bf7a8aa9-8c27-4bb8-aaf4-079bca05107c",
   "metadata": {},
   "outputs": [
    {
     "name": "stdout",
     "output_type": "stream",
     "text": [
      "The sql extension is already loaded. To reload it, use:\n",
      "  %reload_ext sql\n"
     ]
    }
   ],
   "source": [
    "# Loading the sql module to ipython using line magic\n",
    "%load_ext sql\n"
   ]
  },
  {
   "cell_type": "code",
   "execution_count": 13,
   "id": "4a5c68a4-f262-44dc-a8fa-5a90448a944b",
   "metadata": {},
   "outputs": [],
   "source": [
    "%sql sqlite:///testdb.db"
   ]
  },
  {
   "cell_type": "code",
   "execution_count": 14,
   "id": "4eef4b66-61bc-4ffd-9a6b-d35472218afc",
   "metadata": {},
   "outputs": [
    {
     "name": "stdout",
     "output_type": "stream",
     "text": [
      " * sqlite:///testdb.db\n",
      "Done.\n"
     ]
    },
    {
     "data": {
      "text/html": [
       "<table>\n",
       "    <thead>\n",
       "        <tr>\n",
       "            <th>id</th>\n",
       "            <th>name</th>\n",
       "            <th>product_id</th>\n",
       "            <th>country</th>\n",
       "        </tr>\n",
       "    </thead>\n",
       "    <tbody>\n",
       "    </tbody>\n",
       "</table>"
      ],
      "text/plain": [
       "[]"
      ]
     },
     "execution_count": 14,
     "metadata": {},
     "output_type": "execute_result"
    }
   ],
   "source": [
    "# Using magic line %sql  to switch to sql syntax (CRUD operations)\n",
    "%sql SELECT * FROM company LIMIT 20;"
   ]
  },
  {
   "cell_type": "markdown",
   "id": "8632e4cf-11ae-46a0-9c27-820e96762489",
   "metadata": {},
   "source": [
    "Bài 2. Hãy thêm 3 thực thể (entity) vào bảng có tên \"company\" trong database \"testdb.db\";"
   ]
  },
  {
   "cell_type": "code",
   "execution_count": 20,
   "id": "6366609b-32bd-426f-adc3-87b9afc200ed",
   "metadata": {},
   "outputs": [],
   "source": [
    "sqlCommand1 = \"INSERT INTO company (id, name, product_id, country) VALUES (?, ?, ?, ?);\"\n",
    "listSQL1 = [\n",
    "    (1, 'Chair', 1, \"Vietnam\"), \n",
    "    (2, 'Computer', 2, \"Vietnam\"), \n",
    "    (3, 'Toothbrush', 3, \"Vietnam\"),\n",
    "]\n",
    "cursor1 = conn1.cursor()\n",
    "cursor1.executemany(sqlCommand1, listSQL1)\n",
    "conn1.commit()"
   ]
  },
  {
   "cell_type": "code",
   "execution_count": 21,
   "id": "4982f603-6242-4bfc-b2ca-bbaa630ef313",
   "metadata": {},
   "outputs": [
    {
     "name": "stdout",
     "output_type": "stream",
     "text": [
      " * sqlite:///testdb.db\n",
      "Done.\n"
     ]
    },
    {
     "data": {
      "text/html": [
       "<table>\n",
       "    <thead>\n",
       "        <tr>\n",
       "            <th>id</th>\n",
       "            <th>name</th>\n",
       "            <th>product_id</th>\n",
       "            <th>country</th>\n",
       "        </tr>\n",
       "    </thead>\n",
       "    <tbody>\n",
       "        <tr>\n",
       "            <td>1</td>\n",
       "            <td>Chair</td>\n",
       "            <td>1</td>\n",
       "            <td>Vietnam</td>\n",
       "        </tr>\n",
       "        <tr>\n",
       "            <td>2</td>\n",
       "            <td>Computer</td>\n",
       "            <td>2</td>\n",
       "            <td>Vietnam</td>\n",
       "        </tr>\n",
       "        <tr>\n",
       "            <td>3</td>\n",
       "            <td>Toothbrush</td>\n",
       "            <td>3</td>\n",
       "            <td>Vietnam</td>\n",
       "        </tr>\n",
       "    </tbody>\n",
       "</table>"
      ],
      "text/plain": [
       "[('1', 'Chair', '1', 'Vietnam'),\n",
       " ('2', 'Computer', '2', 'Vietnam'),\n",
       " ('3', 'Toothbrush', '3', 'Vietnam')]"
      ]
     },
     "execution_count": 21,
     "metadata": {},
     "output_type": "execute_result"
    }
   ],
   "source": [
    "%sql SELECT * FROM company LIMIT 20;"
   ]
  },
  {
   "cell_type": "markdown",
   "id": "a9c54e02-e7cf-4fc1-af17-da181cf697cc",
   "metadata": {},
   "source": [
    "Bài 3. Tạo 1 database có tên \"testdb2\""
   ]
  },
  {
   "cell_type": "code",
   "execution_count": 29,
   "id": "2eafdaa9-9e84-4574-a9d3-450344e9b148",
   "metadata": {},
   "outputs": [],
   "source": [
    "conn2 = sqlite3.connect(\"testdb2.db\")"
   ]
  },
  {
   "cell_type": "markdown",
   "id": "89384b4b-ca58-438f-a3a1-a2312c67cb7b",
   "metadata": {},
   "source": [
    "Bài 4.Hãy đọc file `salaries.csv` vào pandas dataframe. Tải dataframe vào database \"`testdb2`\" và đặt tên bảng `salaries_tab`."
   ]
  },
  {
   "cell_type": "code",
   "execution_count": 28,
   "id": "0f1de801-0628-4099-89ac-527bfd421b6a",
   "metadata": {},
   "outputs": [
    {
     "name": "stderr",
     "output_type": "stream",
     "text": [
      "C:\\Users\\mamto\\AppData\\Local\\Temp\\ipykernel_19856\\62089567.py:1: DtypeWarning: Columns (3,4,5,6,12) have mixed types. Specify dtype option on import or set low_memory=False.\n",
      "  df_salary = pd.read_csv(\"Salaries.csv\")\n"
     ]
    },
    {
     "data": {
      "text/html": [
       "<div>\n",
       "<style scoped>\n",
       "    .dataframe tbody tr th:only-of-type {\n",
       "        vertical-align: middle;\n",
       "    }\n",
       "\n",
       "    .dataframe tbody tr th {\n",
       "        vertical-align: top;\n",
       "    }\n",
       "\n",
       "    .dataframe thead th {\n",
       "        text-align: right;\n",
       "    }\n",
       "</style>\n",
       "<table border=\"1\" class=\"dataframe\">\n",
       "  <thead>\n",
       "    <tr style=\"text-align: right;\">\n",
       "      <th></th>\n",
       "      <th>Id</th>\n",
       "      <th>EmployeeName</th>\n",
       "      <th>JobTitle</th>\n",
       "      <th>BasePay</th>\n",
       "      <th>OvertimePay</th>\n",
       "      <th>OtherPay</th>\n",
       "      <th>Benefits</th>\n",
       "      <th>TotalPay</th>\n",
       "      <th>TotalPayBenefits</th>\n",
       "      <th>Year</th>\n",
       "      <th>Notes</th>\n",
       "      <th>Agency</th>\n",
       "      <th>Status</th>\n",
       "    </tr>\n",
       "  </thead>\n",
       "  <tbody>\n",
       "    <tr>\n",
       "      <th>0</th>\n",
       "      <td>1</td>\n",
       "      <td>NATHANIEL FORD</td>\n",
       "      <td>GENERAL MANAGER-METROPOLITAN TRANSIT AUTHORITY</td>\n",
       "      <td>167411.18</td>\n",
       "      <td>0.00</td>\n",
       "      <td>400184.25</td>\n",
       "      <td>0</td>\n",
       "      <td>567595.43</td>\n",
       "      <td>567595.43</td>\n",
       "      <td>2011</td>\n",
       "      <td>0.0</td>\n",
       "      <td>San Francisco</td>\n",
       "      <td>0</td>\n",
       "    </tr>\n",
       "    <tr>\n",
       "      <th>1</th>\n",
       "      <td>2</td>\n",
       "      <td>GARY JIMENEZ</td>\n",
       "      <td>CAPTAIN III (POLICE DEPARTMENT)</td>\n",
       "      <td>155966.02</td>\n",
       "      <td>245131.88</td>\n",
       "      <td>137811.38</td>\n",
       "      <td>0</td>\n",
       "      <td>538909.28</td>\n",
       "      <td>538909.28</td>\n",
       "      <td>2011</td>\n",
       "      <td>0.0</td>\n",
       "      <td>San Francisco</td>\n",
       "      <td>0</td>\n",
       "    </tr>\n",
       "    <tr>\n",
       "      <th>2</th>\n",
       "      <td>3</td>\n",
       "      <td>ALBERT PARDINI</td>\n",
       "      <td>CAPTAIN III (POLICE DEPARTMENT)</td>\n",
       "      <td>212739.13</td>\n",
       "      <td>106088.18</td>\n",
       "      <td>16452.6</td>\n",
       "      <td>0</td>\n",
       "      <td>335279.91</td>\n",
       "      <td>335279.91</td>\n",
       "      <td>2011</td>\n",
       "      <td>0.0</td>\n",
       "      <td>San Francisco</td>\n",
       "      <td>0</td>\n",
       "    </tr>\n",
       "    <tr>\n",
       "      <th>3</th>\n",
       "      <td>4</td>\n",
       "      <td>CHRISTOPHER CHONG</td>\n",
       "      <td>WIRE ROPE CABLE MAINTENANCE MECHANIC</td>\n",
       "      <td>77916.00</td>\n",
       "      <td>56120.71</td>\n",
       "      <td>198306.9</td>\n",
       "      <td>0</td>\n",
       "      <td>332343.61</td>\n",
       "      <td>332343.61</td>\n",
       "      <td>2011</td>\n",
       "      <td>0.0</td>\n",
       "      <td>San Francisco</td>\n",
       "      <td>0</td>\n",
       "    </tr>\n",
       "    <tr>\n",
       "      <th>4</th>\n",
       "      <td>5</td>\n",
       "      <td>PATRICK GARDNER</td>\n",
       "      <td>DEPUTY CHIEF OF DEPARTMENT,(FIRE DEPARTMENT)</td>\n",
       "      <td>134401.60</td>\n",
       "      <td>9737.00</td>\n",
       "      <td>182234.59</td>\n",
       "      <td>0</td>\n",
       "      <td>326373.19</td>\n",
       "      <td>326373.19</td>\n",
       "      <td>2011</td>\n",
       "      <td>0.0</td>\n",
       "      <td>San Francisco</td>\n",
       "      <td>0</td>\n",
       "    </tr>\n",
       "  </tbody>\n",
       "</table>\n",
       "</div>"
      ],
      "text/plain": [
       "   Id       EmployeeName                                        JobTitle  \\\n",
       "0   1     NATHANIEL FORD  GENERAL MANAGER-METROPOLITAN TRANSIT AUTHORITY   \n",
       "1   2       GARY JIMENEZ                 CAPTAIN III (POLICE DEPARTMENT)   \n",
       "2   3     ALBERT PARDINI                 CAPTAIN III (POLICE DEPARTMENT)   \n",
       "3   4  CHRISTOPHER CHONG            WIRE ROPE CABLE MAINTENANCE MECHANIC   \n",
       "4   5    PATRICK GARDNER    DEPUTY CHIEF OF DEPARTMENT,(FIRE DEPARTMENT)   \n",
       "\n",
       "     BasePay  OvertimePay   OtherPay Benefits   TotalPay  TotalPayBenefits  \\\n",
       "0  167411.18         0.00  400184.25        0  567595.43         567595.43   \n",
       "1  155966.02    245131.88  137811.38        0  538909.28         538909.28   \n",
       "2  212739.13    106088.18    16452.6        0  335279.91         335279.91   \n",
       "3   77916.00     56120.71   198306.9        0  332343.61         332343.61   \n",
       "4  134401.60      9737.00  182234.59        0  326373.19         326373.19   \n",
       "\n",
       "   Year  Notes         Agency Status  \n",
       "0  2011    0.0  San Francisco      0  \n",
       "1  2011    0.0  San Francisco      0  \n",
       "2  2011    0.0  San Francisco      0  \n",
       "3  2011    0.0  San Francisco      0  \n",
       "4  2011    0.0  San Francisco      0  "
      ]
     },
     "execution_count": 28,
     "metadata": {},
     "output_type": "execute_result"
    }
   ],
   "source": [
    "df_salary = pd.read_csv(\"Salaries.csv\")\n",
    "df_salary.BasePay = pd.to_numeric(df_salary.BasePay, errors='coerce')\n",
    "df_salary.OvertimePay = pd.to_numeric(df_salary.OvertimePay, errors='coerce')\n",
    "df_salary.TotalPayBenefits = pd.to_numeric(df_salary.TotalPayBenefits, errors='coerce')\n",
    "df_salary = df_salary.replace(np.nan,0)\n",
    "df_salary.head()"
   ]
  },
  {
   "cell_type": "code",
   "execution_count": 30,
   "id": "8d0a9815-c76e-4784-81d0-7e823b19070b",
   "metadata": {},
   "outputs": [
    {
     "data": {
      "text/plain": [
       "148654"
      ]
     },
     "execution_count": 30,
     "metadata": {},
     "output_type": "execute_result"
    }
   ],
   "source": [
    "df_salary.to_sql(\"salaries_tab\", conn2, index=False, if_exists=\"replace\")"
   ]
  },
  {
   "cell_type": "markdown",
   "id": "a82c7cf7-9006-4a7c-88df-d6ebb56d2f49",
   "metadata": {},
   "source": [
    "Bài 5. Xem 10 hàng đầu tiên của bảng `salaries_tab` "
   ]
  },
  {
   "cell_type": "code",
   "execution_count": 31,
   "id": "abcfb645-2e79-43bf-8d8e-f005c0103636",
   "metadata": {},
   "outputs": [
    {
     "name": "stdout",
     "output_type": "stream",
     "text": [
      "The sql extension is already loaded. To reload it, use:\n",
      "  %reload_ext sql\n",
      "   sqlite:///testdb.db\n",
      " * sqlite:///testdb2.db\n",
      "Done.\n"
     ]
    },
    {
     "data": {
      "text/html": [
       "<table>\n",
       "    <thead>\n",
       "        <tr>\n",
       "            <th>Id</th>\n",
       "            <th>EmployeeName</th>\n",
       "            <th>JobTitle</th>\n",
       "            <th>BasePay</th>\n",
       "            <th>OvertimePay</th>\n",
       "            <th>OtherPay</th>\n",
       "            <th>Benefits</th>\n",
       "            <th>TotalPay</th>\n",
       "            <th>TotalPayBenefits</th>\n",
       "            <th>Year</th>\n",
       "            <th>Notes</th>\n",
       "            <th>Agency</th>\n",
       "            <th>Status</th>\n",
       "        </tr>\n",
       "    </thead>\n",
       "    <tbody>\n",
       "        <tr>\n",
       "            <td>1</td>\n",
       "            <td>NATHANIEL FORD</td>\n",
       "            <td>GENERAL MANAGER-METROPOLITAN TRANSIT AUTHORITY</td>\n",
       "            <td>167411.18</td>\n",
       "            <td>0.0</td>\n",
       "            <td>400184.25</td>\n",
       "            <td>0</td>\n",
       "            <td>567595.43</td>\n",
       "            <td>567595.43</td>\n",
       "            <td>2011</td>\n",
       "            <td>0.0</td>\n",
       "            <td>San Francisco</td>\n",
       "            <td>0</td>\n",
       "        </tr>\n",
       "        <tr>\n",
       "            <td>2</td>\n",
       "            <td>GARY JIMENEZ</td>\n",
       "            <td>CAPTAIN III (POLICE DEPARTMENT)</td>\n",
       "            <td>155966.02</td>\n",
       "            <td>245131.88</td>\n",
       "            <td>137811.38</td>\n",
       "            <td>0</td>\n",
       "            <td>538909.28</td>\n",
       "            <td>538909.28</td>\n",
       "            <td>2011</td>\n",
       "            <td>0.0</td>\n",
       "            <td>San Francisco</td>\n",
       "            <td>0</td>\n",
       "        </tr>\n",
       "        <tr>\n",
       "            <td>3</td>\n",
       "            <td>ALBERT PARDINI</td>\n",
       "            <td>CAPTAIN III (POLICE DEPARTMENT)</td>\n",
       "            <td>212739.13</td>\n",
       "            <td>106088.18</td>\n",
       "            <td>16452.6</td>\n",
       "            <td>0</td>\n",
       "            <td>335279.91</td>\n",
       "            <td>335279.91</td>\n",
       "            <td>2011</td>\n",
       "            <td>0.0</td>\n",
       "            <td>San Francisco</td>\n",
       "            <td>0</td>\n",
       "        </tr>\n",
       "        <tr>\n",
       "            <td>4</td>\n",
       "            <td>CHRISTOPHER CHONG</td>\n",
       "            <td>WIRE ROPE CABLE MAINTENANCE MECHANIC</td>\n",
       "            <td>77916.0</td>\n",
       "            <td>56120.71</td>\n",
       "            <td>198306.9</td>\n",
       "            <td>0</td>\n",
       "            <td>332343.61</td>\n",
       "            <td>332343.61</td>\n",
       "            <td>2011</td>\n",
       "            <td>0.0</td>\n",
       "            <td>San Francisco</td>\n",
       "            <td>0</td>\n",
       "        </tr>\n",
       "        <tr>\n",
       "            <td>5</td>\n",
       "            <td>PATRICK GARDNER</td>\n",
       "            <td>DEPUTY CHIEF OF DEPARTMENT,(FIRE DEPARTMENT)</td>\n",
       "            <td>134401.6</td>\n",
       "            <td>9737.0</td>\n",
       "            <td>182234.59</td>\n",
       "            <td>0</td>\n",
       "            <td>326373.19</td>\n",
       "            <td>326373.19</td>\n",
       "            <td>2011</td>\n",
       "            <td>0.0</td>\n",
       "            <td>San Francisco</td>\n",
       "            <td>0</td>\n",
       "        </tr>\n",
       "        <tr>\n",
       "            <td>6</td>\n",
       "            <td>DAVID SULLIVAN</td>\n",
       "            <td>ASSISTANT DEPUTY CHIEF II</td>\n",
       "            <td>118602.0</td>\n",
       "            <td>8601.0</td>\n",
       "            <td>189082.74</td>\n",
       "            <td>0</td>\n",
       "            <td>316285.74</td>\n",
       "            <td>316285.74</td>\n",
       "            <td>2011</td>\n",
       "            <td>0.0</td>\n",
       "            <td>San Francisco</td>\n",
       "            <td>0</td>\n",
       "        </tr>\n",
       "        <tr>\n",
       "            <td>7</td>\n",
       "            <td>ALSON LEE</td>\n",
       "            <td>BATTALION CHIEF, (FIRE DEPARTMENT)</td>\n",
       "            <td>92492.01</td>\n",
       "            <td>89062.9</td>\n",
       "            <td>134426.14</td>\n",
       "            <td>0</td>\n",
       "            <td>315981.05</td>\n",
       "            <td>315981.05</td>\n",
       "            <td>2011</td>\n",
       "            <td>0.0</td>\n",
       "            <td>San Francisco</td>\n",
       "            <td>0</td>\n",
       "        </tr>\n",
       "        <tr>\n",
       "            <td>8</td>\n",
       "            <td>DAVID KUSHNER</td>\n",
       "            <td>DEPUTY DIRECTOR OF INVESTMENTS</td>\n",
       "            <td>256576.96</td>\n",
       "            <td>0.0</td>\n",
       "            <td>51322.5</td>\n",
       "            <td>0</td>\n",
       "            <td>307899.46</td>\n",
       "            <td>307899.46</td>\n",
       "            <td>2011</td>\n",
       "            <td>0.0</td>\n",
       "            <td>San Francisco</td>\n",
       "            <td>0</td>\n",
       "        </tr>\n",
       "        <tr>\n",
       "            <td>9</td>\n",
       "            <td>MICHAEL MORRIS</td>\n",
       "            <td>BATTALION CHIEF, (FIRE DEPARTMENT)</td>\n",
       "            <td>176932.64</td>\n",
       "            <td>86362.68</td>\n",
       "            <td>40132.23</td>\n",
       "            <td>0</td>\n",
       "            <td>303427.55</td>\n",
       "            <td>303427.55</td>\n",
       "            <td>2011</td>\n",
       "            <td>0.0</td>\n",
       "            <td>San Francisco</td>\n",
       "            <td>0</td>\n",
       "        </tr>\n",
       "        <tr>\n",
       "            <td>10</td>\n",
       "            <td>JOANNE HAYES-WHITE</td>\n",
       "            <td>CHIEF OF DEPARTMENT, (FIRE DEPARTMENT)</td>\n",
       "            <td>285262.0</td>\n",
       "            <td>0.0</td>\n",
       "            <td>17115.73</td>\n",
       "            <td>0</td>\n",
       "            <td>302377.73</td>\n",
       "            <td>302377.73</td>\n",
       "            <td>2011</td>\n",
       "            <td>0.0</td>\n",
       "            <td>San Francisco</td>\n",
       "            <td>0</td>\n",
       "        </tr>\n",
       "    </tbody>\n",
       "</table>"
      ],
      "text/plain": [
       "[(1, 'NATHANIEL FORD', 'GENERAL MANAGER-METROPOLITAN TRANSIT AUTHORITY', 167411.18, 0.0, '400184.25', '0', 567595.43, 567595.43, 2011, 0.0, 'San Francisco', '0'),\n",
       " (2, 'GARY JIMENEZ', 'CAPTAIN III (POLICE DEPARTMENT)', 155966.02, 245131.88, '137811.38', '0', 538909.28, 538909.28, 2011, 0.0, 'San Francisco', '0'),\n",
       " (3, 'ALBERT PARDINI', 'CAPTAIN III (POLICE DEPARTMENT)', 212739.13, 106088.18, '16452.6', '0', 335279.91, 335279.91, 2011, 0.0, 'San Francisco', '0'),\n",
       " (4, 'CHRISTOPHER CHONG', 'WIRE ROPE CABLE MAINTENANCE MECHANIC', 77916.0, 56120.71, '198306.9', '0', 332343.61, 332343.61, 2011, 0.0, 'San Francisco', '0'),\n",
       " (5, 'PATRICK GARDNER', 'DEPUTY CHIEF OF DEPARTMENT,(FIRE DEPARTMENT)', 134401.6, 9737.0, '182234.59', '0', 326373.19, 326373.19, 2011, 0.0, 'San Francisco', '0'),\n",
       " (6, 'DAVID SULLIVAN', 'ASSISTANT DEPUTY CHIEF II', 118602.0, 8601.0, '189082.74', '0', 316285.74, 316285.74, 2011, 0.0, 'San Francisco', '0'),\n",
       " (7, 'ALSON LEE', 'BATTALION CHIEF, (FIRE DEPARTMENT)', 92492.01, 89062.9, '134426.14', '0', 315981.05, 315981.05, 2011, 0.0, 'San Francisco', '0'),\n",
       " (8, 'DAVID KUSHNER', 'DEPUTY DIRECTOR OF INVESTMENTS', 256576.96, 0.0, '51322.5', '0', 307899.46, 307899.46, 2011, 0.0, 'San Francisco', '0'),\n",
       " (9, 'MICHAEL MORRIS', 'BATTALION CHIEF, (FIRE DEPARTMENT)', 176932.64, 86362.68, '40132.23', '0', 303427.55, 303427.55, 2011, 0.0, 'San Francisco', '0'),\n",
       " (10, 'JOANNE HAYES-WHITE', 'CHIEF OF DEPARTMENT, (FIRE DEPARTMENT)', 285262.0, 0.0, '17115.73', '0', 302377.73, 302377.73, 2011, 0.0, 'San Francisco', '0')]"
      ]
     },
     "execution_count": 31,
     "metadata": {},
     "output_type": "execute_result"
    }
   ],
   "source": [
    "# Loading the sql module to ipython using line magic\n",
    "%load_ext sql\n",
    "%sql sqlite:///testdb2.db\n",
    "%sql SELECT * FROM salaries_tab LIMIT 10;"
   ]
  },
  {
   "cell_type": "markdown",
   "id": "1e896144-84f7-4df4-8ddc-610ae378f1e6",
   "metadata": {},
   "source": [
    "Bài 6. \n",
    "a. Hãy hiển thị thông tin Họ tên, nghề nghiệp của những nhân viên có mức lương cơ bản (BasePay) trên 200000. \n",
    "\n",
    "b. Hãy lưu thông tin Họ tên, nghề nghiệp, tên công ty (agency) của 100 nhân viên có mức lương tổng (TotalPayBenefits) cao nhất vào biến cục bộ `saved_results` và đọc kết quả về file `saved_results.csv`\n"
   ]
  },
  {
   "cell_type": "code",
   "execution_count": 32,
   "id": "9137499d-f4a9-4318-b8b1-ae4a9fb7a270",
   "metadata": {},
   "outputs": [
    {
     "name": "stdout",
     "output_type": "stream",
     "text": [
      "   sqlite:///testdb.db\n",
      " * sqlite:///testdb2.db\n",
      "Done.\n",
      "Returning data to local variable result\n"
     ]
    }
   ],
   "source": [
    " %sql result << SELECT * FROM salaries_tab WHERE BasePay >= 200000; "
   ]
  },
  {
   "cell_type": "code",
   "execution_count": 34,
   "id": "e0fb902a-c0ab-4b3a-9cdd-47722e76fb4d",
   "metadata": {},
   "outputs": [],
   "source": [
    "result = pd.DataFrame(result)"
   ]
  },
  {
   "cell_type": "code",
   "execution_count": 36,
   "id": "1ba9c09e-74ba-44fe-9aa5-612e8382808c",
   "metadata": {},
   "outputs": [
    {
     "data": {
      "text/html": [
       "<div>\n",
       "<style scoped>\n",
       "    .dataframe tbody tr th:only-of-type {\n",
       "        vertical-align: middle;\n",
       "    }\n",
       "\n",
       "    .dataframe tbody tr th {\n",
       "        vertical-align: top;\n",
       "    }\n",
       "\n",
       "    .dataframe thead th {\n",
       "        text-align: right;\n",
       "    }\n",
       "</style>\n",
       "<table border=\"1\" class=\"dataframe\">\n",
       "  <thead>\n",
       "    <tr style=\"text-align: right;\">\n",
       "      <th></th>\n",
       "      <th>Id</th>\n",
       "      <th>EmployeeName</th>\n",
       "      <th>JobTitle</th>\n",
       "      <th>BasePay</th>\n",
       "      <th>OvertimePay</th>\n",
       "      <th>OtherPay</th>\n",
       "      <th>Benefits</th>\n",
       "      <th>TotalPay</th>\n",
       "      <th>TotalPayBenefits</th>\n",
       "      <th>Year</th>\n",
       "      <th>Notes</th>\n",
       "      <th>Agency</th>\n",
       "      <th>Status</th>\n",
       "    </tr>\n",
       "  </thead>\n",
       "  <tbody>\n",
       "    <tr>\n",
       "      <th>0</th>\n",
       "      <td>3</td>\n",
       "      <td>ALBERT PARDINI</td>\n",
       "      <td>CAPTAIN III (POLICE DEPARTMENT)</td>\n",
       "      <td>212739.13</td>\n",
       "      <td>106088.18</td>\n",
       "      <td>16452.6</td>\n",
       "      <td>0</td>\n",
       "      <td>335279.91</td>\n",
       "      <td>335279.91</td>\n",
       "      <td>2011</td>\n",
       "      <td>0.0</td>\n",
       "      <td>San Francisco</td>\n",
       "      <td>0</td>\n",
       "    </tr>\n",
       "    <tr>\n",
       "      <th>1</th>\n",
       "      <td>8</td>\n",
       "      <td>DAVID KUSHNER</td>\n",
       "      <td>DEPUTY DIRECTOR OF INVESTMENTS</td>\n",
       "      <td>256576.96</td>\n",
       "      <td>0.00</td>\n",
       "      <td>51322.5</td>\n",
       "      <td>0</td>\n",
       "      <td>307899.46</td>\n",
       "      <td>307899.46</td>\n",
       "      <td>2011</td>\n",
       "      <td>0.0</td>\n",
       "      <td>San Francisco</td>\n",
       "      <td>0</td>\n",
       "    </tr>\n",
       "    <tr>\n",
       "      <th>2</th>\n",
       "      <td>10</td>\n",
       "      <td>JOANNE HAYES-WHITE</td>\n",
       "      <td>CHIEF OF DEPARTMENT, (FIRE DEPARTMENT)</td>\n",
       "      <td>285262.00</td>\n",
       "      <td>0.00</td>\n",
       "      <td>17115.73</td>\n",
       "      <td>0</td>\n",
       "      <td>302377.73</td>\n",
       "      <td>302377.73</td>\n",
       "      <td>2011</td>\n",
       "      <td>0.0</td>\n",
       "      <td>San Francisco</td>\n",
       "      <td>0</td>\n",
       "    </tr>\n",
       "    <tr>\n",
       "      <th>3</th>\n",
       "      <td>13</td>\n",
       "      <td>EDWARD HARRINGTON</td>\n",
       "      <td>EXECUTIVE CONTRACT EMPLOYEE</td>\n",
       "      <td>294580.02</td>\n",
       "      <td>0.00</td>\n",
       "      <td>0.0</td>\n",
       "      <td>0</td>\n",
       "      <td>294580.02</td>\n",
       "      <td>294580.02</td>\n",
       "      <td>2011</td>\n",
       "      <td>0.0</td>\n",
       "      <td>San Francisco</td>\n",
       "      <td>0</td>\n",
       "    </tr>\n",
       "    <tr>\n",
       "      <th>4</th>\n",
       "      <td>14</td>\n",
       "      <td>JOHN MARTIN</td>\n",
       "      <td>DEPARTMENT HEAD V</td>\n",
       "      <td>271329.03</td>\n",
       "      <td>0.00</td>\n",
       "      <td>21342.59</td>\n",
       "      <td>0</td>\n",
       "      <td>292671.62</td>\n",
       "      <td>292671.62</td>\n",
       "      <td>2011</td>\n",
       "      <td>0.0</td>\n",
       "      <td>San Francisco</td>\n",
       "      <td>0</td>\n",
       "    </tr>\n",
       "  </tbody>\n",
       "</table>\n",
       "</div>"
      ],
      "text/plain": [
       "   Id        EmployeeName                                JobTitle    BasePay  \\\n",
       "0   3      ALBERT PARDINI         CAPTAIN III (POLICE DEPARTMENT)  212739.13   \n",
       "1   8       DAVID KUSHNER          DEPUTY DIRECTOR OF INVESTMENTS  256576.96   \n",
       "2  10  JOANNE HAYES-WHITE  CHIEF OF DEPARTMENT, (FIRE DEPARTMENT)  285262.00   \n",
       "3  13   EDWARD HARRINGTON             EXECUTIVE CONTRACT EMPLOYEE  294580.02   \n",
       "4  14         JOHN MARTIN                       DEPARTMENT HEAD V  271329.03   \n",
       "\n",
       "   OvertimePay  OtherPay Benefits   TotalPay  TotalPayBenefits  Year  Notes  \\\n",
       "0    106088.18   16452.6        0  335279.91         335279.91  2011    0.0   \n",
       "1         0.00   51322.5        0  307899.46         307899.46  2011    0.0   \n",
       "2         0.00  17115.73        0  302377.73         302377.73  2011    0.0   \n",
       "3         0.00       0.0        0  294580.02         294580.02  2011    0.0   \n",
       "4         0.00  21342.59        0  292671.62         292671.62  2011    0.0   \n",
       "\n",
       "          Agency Status  \n",
       "0  San Francisco      0  \n",
       "1  San Francisco      0  \n",
       "2  San Francisco      0  \n",
       "3  San Francisco      0  \n",
       "4  San Francisco      0  "
      ]
     },
     "execution_count": 36,
     "metadata": {},
     "output_type": "execute_result"
    }
   ],
   "source": [
    "result.head()"
   ]
  },
  {
   "cell_type": "code",
   "execution_count": 37,
   "id": "78b4de39-c11f-4f7d-852a-de26c13bcf2d",
   "metadata": {},
   "outputs": [
    {
     "name": "stdout",
     "output_type": "stream",
     "text": [
      "   sqlite:///testdb.db\n",
      " * sqlite:///testdb2.db\n",
      "Done.\n",
      "Returning data to local variable result2\n"
     ]
    }
   ],
   "source": [
    " %sql result2 << SELECT * FROM salaries_tab ORDER BY TotalPayBenefits DESC LIMIT 100"
   ]
  },
  {
   "cell_type": "code",
   "execution_count": 38,
   "id": "25867673-44aa-4085-81f0-9cab464adee4",
   "metadata": {},
   "outputs": [],
   "source": [
    "result2 = pd.DataFrame(result2)"
   ]
  },
  {
   "cell_type": "code",
   "execution_count": 42,
   "id": "cd077363-4acc-4c6b-89e0-00f777917f23",
   "metadata": {},
   "outputs": [
    {
     "data": {
      "text/html": [
       "<div>\n",
       "<style scoped>\n",
       "    .dataframe tbody tr th:only-of-type {\n",
       "        vertical-align: middle;\n",
       "    }\n",
       "\n",
       "    .dataframe tbody tr th {\n",
       "        vertical-align: top;\n",
       "    }\n",
       "\n",
       "    .dataframe thead th {\n",
       "        text-align: right;\n",
       "    }\n",
       "</style>\n",
       "<table border=\"1\" class=\"dataframe\">\n",
       "  <thead>\n",
       "    <tr style=\"text-align: right;\">\n",
       "      <th></th>\n",
       "      <th>Id</th>\n",
       "      <th>EmployeeName</th>\n",
       "      <th>JobTitle</th>\n",
       "      <th>BasePay</th>\n",
       "      <th>OvertimePay</th>\n",
       "      <th>OtherPay</th>\n",
       "      <th>Benefits</th>\n",
       "      <th>TotalPay</th>\n",
       "      <th>TotalPayBenefits</th>\n",
       "      <th>Year</th>\n",
       "      <th>Notes</th>\n",
       "      <th>Agency</th>\n",
       "      <th>Status</th>\n",
       "    </tr>\n",
       "  </thead>\n",
       "  <tbody>\n",
       "    <tr>\n",
       "      <th>0</th>\n",
       "      <td>1</td>\n",
       "      <td>NATHANIEL FORD</td>\n",
       "      <td>GENERAL MANAGER-METROPOLITAN TRANSIT AUTHORITY</td>\n",
       "      <td>167411.18</td>\n",
       "      <td>0.00</td>\n",
       "      <td>400184.25</td>\n",
       "      <td>0</td>\n",
       "      <td>567595.43</td>\n",
       "      <td>567595.43</td>\n",
       "      <td>2011</td>\n",
       "      <td>0.0</td>\n",
       "      <td>San Francisco</td>\n",
       "      <td>0</td>\n",
       "    </tr>\n",
       "    <tr>\n",
       "      <th>1</th>\n",
       "      <td>2</td>\n",
       "      <td>GARY JIMENEZ</td>\n",
       "      <td>CAPTAIN III (POLICE DEPARTMENT)</td>\n",
       "      <td>155966.02</td>\n",
       "      <td>245131.88</td>\n",
       "      <td>137811.38</td>\n",
       "      <td>0</td>\n",
       "      <td>538909.28</td>\n",
       "      <td>538909.28</td>\n",
       "      <td>2011</td>\n",
       "      <td>0.0</td>\n",
       "      <td>San Francisco</td>\n",
       "      <td>0</td>\n",
       "    </tr>\n",
       "    <tr>\n",
       "      <th>2</th>\n",
       "      <td>110532</td>\n",
       "      <td>David Shinn</td>\n",
       "      <td>Deputy Chief 3</td>\n",
       "      <td>129150.01</td>\n",
       "      <td>0.00</td>\n",
       "      <td>342802.63</td>\n",
       "      <td>38780.04</td>\n",
       "      <td>471952.64</td>\n",
       "      <td>510732.68</td>\n",
       "      <td>2014</td>\n",
       "      <td>0.0</td>\n",
       "      <td>San Francisco</td>\n",
       "      <td>PT</td>\n",
       "    </tr>\n",
       "    <tr>\n",
       "      <th>3</th>\n",
       "      <td>110533</td>\n",
       "      <td>Amy P Hart</td>\n",
       "      <td>Asst Med Examiner</td>\n",
       "      <td>318835.49</td>\n",
       "      <td>10712.95</td>\n",
       "      <td>60563.54</td>\n",
       "      <td>89540.23</td>\n",
       "      <td>390111.98</td>\n",
       "      <td>479652.21</td>\n",
       "      <td>2014</td>\n",
       "      <td>0.0</td>\n",
       "      <td>San Francisco</td>\n",
       "      <td>FT</td>\n",
       "    </tr>\n",
       "    <tr>\n",
       "      <th>4</th>\n",
       "      <td>110534</td>\n",
       "      <td>William J Coaker Jr.</td>\n",
       "      <td>Chief Investment Officer</td>\n",
       "      <td>257340.00</td>\n",
       "      <td>0.00</td>\n",
       "      <td>82313.7</td>\n",
       "      <td>96570.66</td>\n",
       "      <td>339653.70</td>\n",
       "      <td>436224.36</td>\n",
       "      <td>2014</td>\n",
       "      <td>0.0</td>\n",
       "      <td>San Francisco</td>\n",
       "      <td>PT</td>\n",
       "    </tr>\n",
       "  </tbody>\n",
       "</table>\n",
       "</div>"
      ],
      "text/plain": [
       "       Id          EmployeeName  \\\n",
       "0       1        NATHANIEL FORD   \n",
       "1       2          GARY JIMENEZ   \n",
       "2  110532           David Shinn   \n",
       "3  110533            Amy P Hart   \n",
       "4  110534  William J Coaker Jr.   \n",
       "\n",
       "                                         JobTitle    BasePay  OvertimePay  \\\n",
       "0  GENERAL MANAGER-METROPOLITAN TRANSIT AUTHORITY  167411.18         0.00   \n",
       "1                 CAPTAIN III (POLICE DEPARTMENT)  155966.02    245131.88   \n",
       "2                                  Deputy Chief 3  129150.01         0.00   \n",
       "3                               Asst Med Examiner  318835.49     10712.95   \n",
       "4                        Chief Investment Officer  257340.00         0.00   \n",
       "\n",
       "    OtherPay  Benefits   TotalPay  TotalPayBenefits  Year  Notes  \\\n",
       "0  400184.25         0  567595.43         567595.43  2011    0.0   \n",
       "1  137811.38         0  538909.28         538909.28  2011    0.0   \n",
       "2  342802.63  38780.04  471952.64         510732.68  2014    0.0   \n",
       "3   60563.54  89540.23  390111.98         479652.21  2014    0.0   \n",
       "4    82313.7  96570.66  339653.70         436224.36  2014    0.0   \n",
       "\n",
       "          Agency Status  \n",
       "0  San Francisco      0  \n",
       "1  San Francisco      0  \n",
       "2  San Francisco     PT  \n",
       "3  San Francisco     FT  \n",
       "4  San Francisco     PT  "
      ]
     },
     "execution_count": 42,
     "metadata": {},
     "output_type": "execute_result"
    }
   ],
   "source": [
    "result2.to_csv(\"saved_results.csv\")\n",
    "result2.head()"
   ]
  },
  {
   "cell_type": "markdown",
   "id": "340914cd-6de4-40aa-8921-b6a7a500087b",
   "metadata": {},
   "source": [
    "Bài 7. Hãy đọc kết quả của truy vấn sql các thông tin Họ tên, nghề nghiệp, công ty của những nhân viên có mức lương tổng(TotalPayBenefits) dưới 100000 và lưu vào Pandas dataframe.\n",
    "Hiển thị 5 dòng đầu của dataframe đó và đếm số lượng nhân viên."
   ]
  },
  {
   "cell_type": "code",
   "execution_count": 54,
   "id": "b3fb0ba8-9172-4af9-9dd9-ac357b895232",
   "metadata": {},
   "outputs": [
    {
     "name": "stdout",
     "output_type": "stream",
     "text": [
      "   sqlite:///testdb.db\n",
      " * sqlite:///testdb2.db\n",
      "Done.\n",
      "Returning data to local variable result3\n"
     ]
    }
   ],
   "source": [
    " %sql result3 << SELECT EmployeeName, JobTitle, Agency, TotalPayBenefits FROM salaries_tab WHERE TotalPayBenefits <= 100000"
   ]
  },
  {
   "cell_type": "code",
   "execution_count": 60,
   "id": "cbe4d6ac-69f0-41ed-9788-5ef0a4e4f841",
   "metadata": {},
   "outputs": [],
   "source": [
    "result3 = pd.DataFrame(result3)"
   ]
  },
  {
   "cell_type": "code",
   "execution_count": 63,
   "id": "d1ddd7f3-191f-4b22-8a4a-3ed20730b2dc",
   "metadata": {},
   "outputs": [
    {
     "name": "stdout",
     "output_type": "stream",
     "text": [
      "Số lượng nhân viên là: 81585\n"
     ]
    },
    {
     "data": {
      "text/html": [
       "<div>\n",
       "<style scoped>\n",
       "    .dataframe tbody tr th:only-of-type {\n",
       "        vertical-align: middle;\n",
       "    }\n",
       "\n",
       "    .dataframe tbody tr th {\n",
       "        vertical-align: top;\n",
       "    }\n",
       "\n",
       "    .dataframe thead th {\n",
       "        text-align: right;\n",
       "    }\n",
       "</style>\n",
       "<table border=\"1\" class=\"dataframe\">\n",
       "  <thead>\n",
       "    <tr style=\"text-align: right;\">\n",
       "      <th></th>\n",
       "      <th>EmployeeName</th>\n",
       "      <th>JobTitle</th>\n",
       "      <th>Agency</th>\n",
       "      <th>TotalPayBenefits</th>\n",
       "    </tr>\n",
       "  </thead>\n",
       "  <tbody>\n",
       "    <tr>\n",
       "      <th>0</th>\n",
       "      <td>ERIKA KIEFER</td>\n",
       "      <td>REGISTERED NURSE</td>\n",
       "      <td>San Francisco</td>\n",
       "      <td>99983.35</td>\n",
       "    </tr>\n",
       "    <tr>\n",
       "      <th>1</th>\n",
       "      <td>GREGORY DORAIS</td>\n",
       "      <td>ELECTRONIC MAINTENANCE TECHNICIAN</td>\n",
       "      <td>San Francisco</td>\n",
       "      <td>99982.16</td>\n",
       "    </tr>\n",
       "    <tr>\n",
       "      <th>2</th>\n",
       "      <td>GRACE ENRIQUEZ</td>\n",
       "      <td>IS ADMINISTRATOR III</td>\n",
       "      <td>San Francisco</td>\n",
       "      <td>99962.70</td>\n",
       "    </tr>\n",
       "    <tr>\n",
       "      <th>3</th>\n",
       "      <td>RONALD SHEREDY</td>\n",
       "      <td>PHYSICAL THERAPIST</td>\n",
       "      <td>San Francisco</td>\n",
       "      <td>99961.59</td>\n",
       "    </tr>\n",
       "    <tr>\n",
       "      <th>4</th>\n",
       "      <td>MARY GODFREY</td>\n",
       "      <td>OCCUPATIONAL THERAPIST</td>\n",
       "      <td>San Francisco</td>\n",
       "      <td>99961.33</td>\n",
       "    </tr>\n",
       "  </tbody>\n",
       "</table>\n",
       "</div>"
      ],
      "text/plain": [
       "     EmployeeName                           JobTitle         Agency  \\\n",
       "0    ERIKA KIEFER                   REGISTERED NURSE  San Francisco   \n",
       "1  GREGORY DORAIS  ELECTRONIC MAINTENANCE TECHNICIAN  San Francisco   \n",
       "2  GRACE ENRIQUEZ               IS ADMINISTRATOR III  San Francisco   \n",
       "3  RONALD SHEREDY                 PHYSICAL THERAPIST  San Francisco   \n",
       "4    MARY GODFREY             OCCUPATIONAL THERAPIST  San Francisco   \n",
       "\n",
       "   TotalPayBenefits  \n",
       "0          99983.35  \n",
       "1          99982.16  \n",
       "2          99962.70  \n",
       "3          99961.59  \n",
       "4          99961.33  "
      ]
     },
     "execution_count": 63,
     "metadata": {},
     "output_type": "execute_result"
    }
   ],
   "source": [
    "print(f\"Số lượng nhân viên là: {result3.shape[0]}\")\n",
    "result3.head(5)"
   ]
  },
  {
   "cell_type": "code",
   "execution_count": null,
   "id": "d5fb2080-261a-4113-be2a-d4a235c59ae8",
   "metadata": {},
   "outputs": [],
   "source": []
  }
 ],
 "metadata": {
  "kernelspec": {
   "display_name": "Python 3 (ipykernel)",
   "language": "python",
   "name": "python3"
  },
  "language_info": {
   "codemirror_mode": {
    "name": "ipython",
    "version": 3
   },
   "file_extension": ".py",
   "mimetype": "text/x-python",
   "name": "python",
   "nbconvert_exporter": "python",
   "pygments_lexer": "ipython3",
   "version": "3.9.13"
  }
 },
 "nbformat": 4,
 "nbformat_minor": 5
}
