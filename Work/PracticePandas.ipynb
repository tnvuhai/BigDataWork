{
 "cells": [
  {
   "cell_type": "markdown",
   "id": "c0ebda56-f610-4aec-a4bd-c309fdbcbe37",
   "metadata": {},
   "source": [
    "# Họ tên: Nguyễn Vũ Hải\n",
    "# Lớp: CNTT K18 CLC\n",
    "# Mã SV: DTC195480201CLC0006"
   ]
  },
  {
   "cell_type": "code",
   "execution_count": 3,
   "id": "a41d0ce5-85d9-40e8-9e59-bd3c0c5e530b",
   "metadata": {},
   "outputs": [],
   "source": [
    "import pandas as pd\n",
    "import numpy as np"
   ]
  },
  {
   "cell_type": "markdown",
   "id": "0ea3f57b-cb6a-4f40-8851-0423bc1cf524",
   "metadata": {},
   "source": [
    "# Bài 1. Tạo 1 DataFrame tên 'df' từ mảng numpy array kích thước 20x5 các số nguyên có giá trị ngẫu nhiên từ 0 đến 20, với tên cột là ['c0','c1', 'c2'. 'c3', 'c4']. Hãy mô tả các thông số thống kê của 'df'. "
   ]
  },
  {
   "cell_type": "code",
   "execution_count": 61,
   "id": "02bc662c-22b9-455f-b1d5-6884d1328714",
   "metadata": {},
   "outputs": [
    {
     "data": {
      "text/html": [
       "<div>\n",
       "<style scoped>\n",
       "    .dataframe tbody tr th:only-of-type {\n",
       "        vertical-align: middle;\n",
       "    }\n",
       "\n",
       "    .dataframe tbody tr th {\n",
       "        vertical-align: top;\n",
       "    }\n",
       "\n",
       "    .dataframe thead th {\n",
       "        text-align: right;\n",
       "    }\n",
       "</style>\n",
       "<table border=\"1\" class=\"dataframe\">\n",
       "  <thead>\n",
       "    <tr style=\"text-align: right;\">\n",
       "      <th></th>\n",
       "      <th>c0</th>\n",
       "      <th>c1</th>\n",
       "      <th>c2</th>\n",
       "      <th>c3</th>\n",
       "      <th>c4</th>\n",
       "    </tr>\n",
       "  </thead>\n",
       "  <tbody>\n",
       "    <tr>\n",
       "      <th>0</th>\n",
       "      <td>7</td>\n",
       "      <td>1</td>\n",
       "      <td>7</td>\n",
       "      <td>14</td>\n",
       "      <td>7</td>\n",
       "    </tr>\n",
       "    <tr>\n",
       "      <th>1</th>\n",
       "      <td>10</td>\n",
       "      <td>2</td>\n",
       "      <td>8</td>\n",
       "      <td>13</td>\n",
       "      <td>2</td>\n",
       "    </tr>\n",
       "    <tr>\n",
       "      <th>2</th>\n",
       "      <td>9</td>\n",
       "      <td>19</td>\n",
       "      <td>9</td>\n",
       "      <td>7</td>\n",
       "      <td>8</td>\n",
       "    </tr>\n",
       "    <tr>\n",
       "      <th>3</th>\n",
       "      <td>4</td>\n",
       "      <td>9</td>\n",
       "      <td>0</td>\n",
       "      <td>0</td>\n",
       "      <td>8</td>\n",
       "    </tr>\n",
       "    <tr>\n",
       "      <th>4</th>\n",
       "      <td>1</td>\n",
       "      <td>9</td>\n",
       "      <td>10</td>\n",
       "      <td>1</td>\n",
       "      <td>2</td>\n",
       "    </tr>\n",
       "  </tbody>\n",
       "</table>\n",
       "</div>"
      ],
      "text/plain": [
       "   c0  c1  c2  c3  c4\n",
       "0   7   1   7  14   7\n",
       "1  10   2   8  13   2\n",
       "2   9  19   9   7   8\n",
       "3   4   9   0   0   8\n",
       "4   1   9  10   1   2"
      ]
     },
     "metadata": {},
     "output_type": "display_data"
    }
   ],
   "source": [
    "arr = np.random.randint(0,20,(20,5))\n",
    "#print(arr)\n",
    "df = pd.DataFrame(arr,columns = ['c0','c1', 'c2', 'c3', 'c4'])\n",
    "display(df.head(5))"
   ]
  },
  {
   "cell_type": "markdown",
   "id": "bf7c6a09-c013-4309-9091-fb52e911ccc9",
   "metadata": {},
   "source": [
    "# Bài 2. Thực hiện các thao tác sau với df:\n",
    "    a. Hiển thị 4 entries đầu tiên và 2 entries cuối cùng của df\n",
    "    b. Hiển thị 10 phần tử đầu tiên của cột \"c1\"\n",
    "    c. Hiển thị 3 phần tử cuối cùng của cột \"c1\"\n",
    "    d. Bổ sung 1 cột \"c5\" gồm dãy các số 10.\n",
    "    e. Tìm phần tử có giá trị lớn nhất trong df.\n",
    "    f. Xóa hàng thứ 5 và cột 'c1' của df."
   ]
  },
  {
   "cell_type": "code",
   "execution_count": 62,
   "id": "7141b95e-a548-49e9-b784-fc5d9d8d2343",
   "metadata": {},
   "outputs": [
    {
     "name": "stdout",
     "output_type": "stream",
     "text": [
      "Hiển thị 4 entries đầu tiên\n"
     ]
    },
    {
     "data": {
      "text/html": [
       "<div>\n",
       "<style scoped>\n",
       "    .dataframe tbody tr th:only-of-type {\n",
       "        vertical-align: middle;\n",
       "    }\n",
       "\n",
       "    .dataframe tbody tr th {\n",
       "        vertical-align: top;\n",
       "    }\n",
       "\n",
       "    .dataframe thead th {\n",
       "        text-align: right;\n",
       "    }\n",
       "</style>\n",
       "<table border=\"1\" class=\"dataframe\">\n",
       "  <thead>\n",
       "    <tr style=\"text-align: right;\">\n",
       "      <th></th>\n",
       "      <th>c0</th>\n",
       "      <th>c1</th>\n",
       "      <th>c2</th>\n",
       "      <th>c3</th>\n",
       "      <th>c4</th>\n",
       "    </tr>\n",
       "  </thead>\n",
       "  <tbody>\n",
       "    <tr>\n",
       "      <th>0</th>\n",
       "      <td>7</td>\n",
       "      <td>1</td>\n",
       "      <td>7</td>\n",
       "      <td>14</td>\n",
       "      <td>7</td>\n",
       "    </tr>\n",
       "    <tr>\n",
       "      <th>1</th>\n",
       "      <td>10</td>\n",
       "      <td>2</td>\n",
       "      <td>8</td>\n",
       "      <td>13</td>\n",
       "      <td>2</td>\n",
       "    </tr>\n",
       "    <tr>\n",
       "      <th>2</th>\n",
       "      <td>9</td>\n",
       "      <td>19</td>\n",
       "      <td>9</td>\n",
       "      <td>7</td>\n",
       "      <td>8</td>\n",
       "    </tr>\n",
       "    <tr>\n",
       "      <th>3</th>\n",
       "      <td>4</td>\n",
       "      <td>9</td>\n",
       "      <td>0</td>\n",
       "      <td>0</td>\n",
       "      <td>8</td>\n",
       "    </tr>\n",
       "  </tbody>\n",
       "</table>\n",
       "</div>"
      ],
      "text/plain": [
       "   c0  c1  c2  c3  c4\n",
       "0   7   1   7  14   7\n",
       "1  10   2   8  13   2\n",
       "2   9  19   9   7   8\n",
       "3   4   9   0   0   8"
      ]
     },
     "metadata": {},
     "output_type": "display_data"
    },
    {
     "name": "stdout",
     "output_type": "stream",
     "text": [
      "Hiển thị 2 entries cuối cùng\n"
     ]
    },
    {
     "data": {
      "text/html": [
       "<div>\n",
       "<style scoped>\n",
       "    .dataframe tbody tr th:only-of-type {\n",
       "        vertical-align: middle;\n",
       "    }\n",
       "\n",
       "    .dataframe tbody tr th {\n",
       "        vertical-align: top;\n",
       "    }\n",
       "\n",
       "    .dataframe thead th {\n",
       "        text-align: right;\n",
       "    }\n",
       "</style>\n",
       "<table border=\"1\" class=\"dataframe\">\n",
       "  <thead>\n",
       "    <tr style=\"text-align: right;\">\n",
       "      <th></th>\n",
       "      <th>c0</th>\n",
       "      <th>c1</th>\n",
       "      <th>c2</th>\n",
       "      <th>c3</th>\n",
       "      <th>c4</th>\n",
       "    </tr>\n",
       "  </thead>\n",
       "  <tbody>\n",
       "    <tr>\n",
       "      <th>18</th>\n",
       "      <td>16</td>\n",
       "      <td>10</td>\n",
       "      <td>12</td>\n",
       "      <td>9</td>\n",
       "      <td>1</td>\n",
       "    </tr>\n",
       "    <tr>\n",
       "      <th>19</th>\n",
       "      <td>0</td>\n",
       "      <td>19</td>\n",
       "      <td>15</td>\n",
       "      <td>2</td>\n",
       "      <td>13</td>\n",
       "    </tr>\n",
       "  </tbody>\n",
       "</table>\n",
       "</div>"
      ],
      "text/plain": [
       "    c0  c1  c2  c3  c4\n",
       "18  16  10  12   9   1\n",
       "19   0  19  15   2  13"
      ]
     },
     "metadata": {},
     "output_type": "display_data"
    }
   ],
   "source": [
    "print(\"Hiển thị 4 entries đầu tiên\")\n",
    "display(df.head(4))\n",
    "print(\"Hiển thị 2 entries cuối cùng\")\n",
    "display(df.tail(2))"
   ]
  },
  {
   "cell_type": "code",
   "execution_count": 63,
   "id": "c3bd934e-fa5a-473b-a312-8a399e00c84c",
   "metadata": {},
   "outputs": [
    {
     "name": "stdout",
     "output_type": "stream",
     "text": [
      "Hiển thị 10 phần tử đầu tiên của cột c1\n"
     ]
    },
    {
     "data": {
      "text/plain": [
       "0     1\n",
       "1     2\n",
       "2    19\n",
       "3     9\n",
       "4     9\n",
       "5    18\n",
       "6     8\n",
       "7     7\n",
       "8     7\n",
       "9     9\n",
       "Name: c1, dtype: int32"
      ]
     },
     "metadata": {},
     "output_type": "display_data"
    }
   ],
   "source": [
    "print(\"Hiển thị 10 phần tử đầu tiên của cột c1\")\n",
    "display(df[\"c1\"].head(10))"
   ]
  },
  {
   "cell_type": "code",
   "execution_count": 64,
   "id": "301c1b8f-d4ff-4359-b7a2-32d9509d6510",
   "metadata": {},
   "outputs": [
    {
     "name": "stdout",
     "output_type": "stream",
     "text": [
      "Hiển thị 3 phần tử cuối cùng của cột c1\n"
     ]
    },
    {
     "data": {
      "text/plain": [
       "17     5\n",
       "18    10\n",
       "19    19\n",
       "Name: c1, dtype: int32"
      ]
     },
     "metadata": {},
     "output_type": "display_data"
    }
   ],
   "source": [
    "print(\"Hiển thị 3 phần tử cuối cùng của cột c1\")\n",
    "display(df[\"c1\"].tail(3))"
   ]
  },
  {
   "cell_type": "code",
   "execution_count": 65,
   "id": "a71c5f12-ce79-4de4-bdab-0f4c7075a1ed",
   "metadata": {},
   "outputs": [
    {
     "name": "stdout",
     "output_type": "stream",
     "text": [
      "Bổ sung 1 cột c5 gồm dãy các số 10.\n"
     ]
    },
    {
     "data": {
      "text/html": [
       "<div>\n",
       "<style scoped>\n",
       "    .dataframe tbody tr th:only-of-type {\n",
       "        vertical-align: middle;\n",
       "    }\n",
       "\n",
       "    .dataframe tbody tr th {\n",
       "        vertical-align: top;\n",
       "    }\n",
       "\n",
       "    .dataframe thead th {\n",
       "        text-align: right;\n",
       "    }\n",
       "</style>\n",
       "<table border=\"1\" class=\"dataframe\">\n",
       "  <thead>\n",
       "    <tr style=\"text-align: right;\">\n",
       "      <th></th>\n",
       "      <th>c0</th>\n",
       "      <th>c1</th>\n",
       "      <th>c2</th>\n",
       "      <th>c3</th>\n",
       "      <th>c4</th>\n",
       "      <th>c5</th>\n",
       "    </tr>\n",
       "  </thead>\n",
       "  <tbody>\n",
       "    <tr>\n",
       "      <th>0</th>\n",
       "      <td>7</td>\n",
       "      <td>1</td>\n",
       "      <td>7</td>\n",
       "      <td>14</td>\n",
       "      <td>7</td>\n",
       "      <td>10</td>\n",
       "    </tr>\n",
       "    <tr>\n",
       "      <th>1</th>\n",
       "      <td>10</td>\n",
       "      <td>2</td>\n",
       "      <td>8</td>\n",
       "      <td>13</td>\n",
       "      <td>2</td>\n",
       "      <td>10</td>\n",
       "    </tr>\n",
       "    <tr>\n",
       "      <th>2</th>\n",
       "      <td>9</td>\n",
       "      <td>19</td>\n",
       "      <td>9</td>\n",
       "      <td>7</td>\n",
       "      <td>8</td>\n",
       "      <td>10</td>\n",
       "    </tr>\n",
       "    <tr>\n",
       "      <th>3</th>\n",
       "      <td>4</td>\n",
       "      <td>9</td>\n",
       "      <td>0</td>\n",
       "      <td>0</td>\n",
       "      <td>8</td>\n",
       "      <td>10</td>\n",
       "    </tr>\n",
       "    <tr>\n",
       "      <th>4</th>\n",
       "      <td>1</td>\n",
       "      <td>9</td>\n",
       "      <td>10</td>\n",
       "      <td>1</td>\n",
       "      <td>2</td>\n",
       "      <td>10</td>\n",
       "    </tr>\n",
       "  </tbody>\n",
       "</table>\n",
       "</div>"
      ],
      "text/plain": [
       "   c0  c1  c2  c3  c4  c5\n",
       "0   7   1   7  14   7  10\n",
       "1  10   2   8  13   2  10\n",
       "2   9  19   9   7   8  10\n",
       "3   4   9   0   0   8  10\n",
       "4   1   9  10   1   2  10"
      ]
     },
     "metadata": {},
     "output_type": "display_data"
    }
   ],
   "source": [
    "print(\"Bổ sung 1 cột c5 gồm dãy các số 10.\")\n",
    "df[\"c5\"] = np.ones(20,dtype=int) * 10\n",
    "display(df.head())"
   ]
  },
  {
   "cell_type": "code",
   "execution_count": 66,
   "id": "18a13dcf-7060-4a99-891c-107fcd9459ef",
   "metadata": {},
   "outputs": [
    {
     "name": "stdout",
     "output_type": "stream",
     "text": [
      "Tìm phần tử có giá trị lớn nhất trong df.\n",
      "Giá trị lớn nhất của từng cột c0    19\n",
      "c1    19\n",
      "c2    18\n",
      "c3    19\n",
      "c4    16\n",
      "c5    10\n",
      "dtype: int32\n",
      "Giá trị lớn nhát toàn bộ df: 19\n"
     ]
    }
   ],
   "source": [
    "print(\"Tìm phần tử có giá trị lớn nhất trong df.\")\n",
    "MaxValueOfEachCol = df.max()\n",
    "print(f\"Giá trị lớn nhất của từng cột {MaxValueOfEachCol}\")\n",
    "print(f\"Giá trị lớn nhát toàn bộ df: {np.max(MaxValueOfEachCol)}\")"
   ]
  },
  {
   "cell_type": "code",
   "execution_count": 67,
   "id": "0217ac7a-f654-42a2-b6a5-fdd88cebb698",
   "metadata": {},
   "outputs": [
    {
     "name": "stdout",
     "output_type": "stream",
     "text": [
      " Xóa hàng thứ 5 và cột 'c1' của df.\n",
      "Index(['c0', 'c1', 'c2', 'c3', 'c4', 'c5'], dtype='object')\n",
      "    c0  c2  c3  c4  c5\n",
      "0    7   7  14   7  10\n",
      "1   10   8  13   2  10\n",
      "2    9   9   7   8  10\n",
      "3    4   0   0   8  10\n",
      "4    1  10   1   2  10\n",
      "5    2  18   6   7  10\n",
      "6   12  15   9   5  10\n",
      "7    1   3  15   9  10\n",
      "8   10  15   9  12  10\n",
      "9   15   4  17  16  10\n",
      "10   6  18   0  16  10\n",
      "11  10   6   1   5  10\n",
      "12  17   3   5   6  10\n",
      "13  15   3  19  14  10\n",
      "14   3  12  10   0  10\n",
      "15  19  12  14  10  10\n",
      "16   1  14   6   8  10\n",
      "17  13  12   8   2  10\n",
      "18  16  12   9   1  10\n"
     ]
    }
   ],
   "source": [
    "print(\" Xóa hàng thứ 5 và cột 'c1' của df.\")\n",
    "print(df.columns)\n",
    "df = df.drop(df.tail(1).index)\n",
    "df = df.drop(columns=[\"c1\"])\n",
    "print(df)"
   ]
  },
  {
   "cell_type": "markdown",
   "id": "36cf5279-61f9-47a8-9c7d-5864baece5c9",
   "metadata": {},
   "source": [
    "# Bài 3. Đọc file Salaries.csv vào dataframe tên df_salary và thực hiện các thao tác sau:\n",
    "\n",
    "    a. Xem kích thước của df_salary\n",
    "    b. Xem thông tin của df_salary\n",
    "    c. Mô tả thống kê các thông tin của df_salary\n",
    "    d. Xác định giá trị trung bình của trường thông tin lương cơ bản \"BasePay\"\n",
    "    e. Tính tổng số tiền trả ngoài giờ \"OvertimePay\"\n",
    "    f. Tìm tên của nhân viên có số tiền trả ngoài giờ \"OvertimePay\" cao nhất\n",
    "    g. Tìm tên của nhân viên được trả lương \"TotalPay\" cao nhất\n",
    "    h. Tìm nghề có mức lương cơ sở cao nhất.\n",
    "    i. Có bao nhiêu nghề nghiệp trong bảng?\n",
    "    j. Hãy thay thế các giá trị trống và thay thế bằng số 0.\n",
    "    "
   ]
  },
  {
   "cell_type": "code",
   "execution_count": 70,
   "id": "a72b0be6-0f9e-4c9a-b58c-673fcf5610b7",
   "metadata": {},
   "outputs": [
    {
     "name": "stderr",
     "output_type": "stream",
     "text": [
      "C:\\Users\\mamto\\AppData\\Local\\Temp\\ipykernel_4008\\15317537.py:1: DtypeWarning: Columns (3,4,5,6,12) have mixed types. Specify dtype option on import or set low_memory=False.\n",
      "  df_salary = pd.read_csv(\"Salaries.csv\")\n"
     ]
    },
    {
     "data": {
      "text/html": [
       "<div>\n",
       "<style scoped>\n",
       "    .dataframe tbody tr th:only-of-type {\n",
       "        vertical-align: middle;\n",
       "    }\n",
       "\n",
       "    .dataframe tbody tr th {\n",
       "        vertical-align: top;\n",
       "    }\n",
       "\n",
       "    .dataframe thead th {\n",
       "        text-align: right;\n",
       "    }\n",
       "</style>\n",
       "<table border=\"1\" class=\"dataframe\">\n",
       "  <thead>\n",
       "    <tr style=\"text-align: right;\">\n",
       "      <th></th>\n",
       "      <th>Id</th>\n",
       "      <th>EmployeeName</th>\n",
       "      <th>JobTitle</th>\n",
       "      <th>BasePay</th>\n",
       "      <th>OvertimePay</th>\n",
       "      <th>OtherPay</th>\n",
       "      <th>Benefits</th>\n",
       "      <th>TotalPay</th>\n",
       "      <th>TotalPayBenefits</th>\n",
       "      <th>Year</th>\n",
       "      <th>Notes</th>\n",
       "      <th>Agency</th>\n",
       "      <th>Status</th>\n",
       "    </tr>\n",
       "  </thead>\n",
       "  <tbody>\n",
       "    <tr>\n",
       "      <th>0</th>\n",
       "      <td>1</td>\n",
       "      <td>NATHANIEL FORD</td>\n",
       "      <td>GENERAL MANAGER-METROPOLITAN TRANSIT AUTHORITY</td>\n",
       "      <td>167411.18</td>\n",
       "      <td>0.0</td>\n",
       "      <td>400184.25</td>\n",
       "      <td>NaN</td>\n",
       "      <td>567595.43</td>\n",
       "      <td>567595.43</td>\n",
       "      <td>2011</td>\n",
       "      <td>NaN</td>\n",
       "      <td>San Francisco</td>\n",
       "      <td>NaN</td>\n",
       "    </tr>\n",
       "    <tr>\n",
       "      <th>1</th>\n",
       "      <td>2</td>\n",
       "      <td>GARY JIMENEZ</td>\n",
       "      <td>CAPTAIN III (POLICE DEPARTMENT)</td>\n",
       "      <td>155966.02</td>\n",
       "      <td>245131.88</td>\n",
       "      <td>137811.38</td>\n",
       "      <td>NaN</td>\n",
       "      <td>538909.28</td>\n",
       "      <td>538909.28</td>\n",
       "      <td>2011</td>\n",
       "      <td>NaN</td>\n",
       "      <td>San Francisco</td>\n",
       "      <td>NaN</td>\n",
       "    </tr>\n",
       "    <tr>\n",
       "      <th>2</th>\n",
       "      <td>3</td>\n",
       "      <td>ALBERT PARDINI</td>\n",
       "      <td>CAPTAIN III (POLICE DEPARTMENT)</td>\n",
       "      <td>212739.13</td>\n",
       "      <td>106088.18</td>\n",
       "      <td>16452.6</td>\n",
       "      <td>NaN</td>\n",
       "      <td>335279.91</td>\n",
       "      <td>335279.91</td>\n",
       "      <td>2011</td>\n",
       "      <td>NaN</td>\n",
       "      <td>San Francisco</td>\n",
       "      <td>NaN</td>\n",
       "    </tr>\n",
       "    <tr>\n",
       "      <th>3</th>\n",
       "      <td>4</td>\n",
       "      <td>CHRISTOPHER CHONG</td>\n",
       "      <td>WIRE ROPE CABLE MAINTENANCE MECHANIC</td>\n",
       "      <td>77916.0</td>\n",
       "      <td>56120.71</td>\n",
       "      <td>198306.9</td>\n",
       "      <td>NaN</td>\n",
       "      <td>332343.61</td>\n",
       "      <td>332343.61</td>\n",
       "      <td>2011</td>\n",
       "      <td>NaN</td>\n",
       "      <td>San Francisco</td>\n",
       "      <td>NaN</td>\n",
       "    </tr>\n",
       "    <tr>\n",
       "      <th>4</th>\n",
       "      <td>5</td>\n",
       "      <td>PATRICK GARDNER</td>\n",
       "      <td>DEPUTY CHIEF OF DEPARTMENT,(FIRE DEPARTMENT)</td>\n",
       "      <td>134401.6</td>\n",
       "      <td>9737.0</td>\n",
       "      <td>182234.59</td>\n",
       "      <td>NaN</td>\n",
       "      <td>326373.19</td>\n",
       "      <td>326373.19</td>\n",
       "      <td>2011</td>\n",
       "      <td>NaN</td>\n",
       "      <td>San Francisco</td>\n",
       "      <td>NaN</td>\n",
       "    </tr>\n",
       "  </tbody>\n",
       "</table>\n",
       "</div>"
      ],
      "text/plain": [
       "   Id       EmployeeName                                        JobTitle  \\\n",
       "0   1     NATHANIEL FORD  GENERAL MANAGER-METROPOLITAN TRANSIT AUTHORITY   \n",
       "1   2       GARY JIMENEZ                 CAPTAIN III (POLICE DEPARTMENT)   \n",
       "2   3     ALBERT PARDINI                 CAPTAIN III (POLICE DEPARTMENT)   \n",
       "3   4  CHRISTOPHER CHONG            WIRE ROPE CABLE MAINTENANCE MECHANIC   \n",
       "4   5    PATRICK GARDNER    DEPUTY CHIEF OF DEPARTMENT,(FIRE DEPARTMENT)   \n",
       "\n",
       "     BasePay OvertimePay   OtherPay Benefits   TotalPay  TotalPayBenefits  \\\n",
       "0  167411.18         0.0  400184.25      NaN  567595.43         567595.43   \n",
       "1  155966.02   245131.88  137811.38      NaN  538909.28         538909.28   \n",
       "2  212739.13   106088.18    16452.6      NaN  335279.91         335279.91   \n",
       "3    77916.0    56120.71   198306.9      NaN  332343.61         332343.61   \n",
       "4   134401.6      9737.0  182234.59      NaN  326373.19         326373.19   \n",
       "\n",
       "   Year  Notes         Agency Status  \n",
       "0  2011    NaN  San Francisco    NaN  \n",
       "1  2011    NaN  San Francisco    NaN  \n",
       "2  2011    NaN  San Francisco    NaN  \n",
       "3  2011    NaN  San Francisco    NaN  \n",
       "4  2011    NaN  San Francisco    NaN  "
      ]
     },
     "execution_count": 70,
     "metadata": {},
     "output_type": "execute_result"
    }
   ],
   "source": [
    "df_salary = pd.read_csv(\"Salaries.csv\")\n",
    "df_salary.head()"
   ]
  },
  {
   "cell_type": "code",
   "execution_count": 71,
   "id": "89ff9e37-be6a-4250-ae90-f200fb96ba79",
   "metadata": {},
   "outputs": [
    {
     "name": "stdout",
     "output_type": "stream",
     "text": [
      "a. Xem kích thước của df_salary\n",
      "Kích thước df_salary là: (148654, 13)\n"
     ]
    }
   ],
   "source": [
    "print(\"a. Xem kích thước của df_salary\")\n",
    "print(f\"Kích thước df_salary là: {df_salary.shape}\")"
   ]
  },
  {
   "cell_type": "code",
   "execution_count": 72,
   "id": "06f590f4-628d-4843-b66e-0d7961cf0e76",
   "metadata": {},
   "outputs": [
    {
     "name": "stdout",
     "output_type": "stream",
     "text": [
      "b. Xem thông tin của df_salary\n",
      "<class 'pandas.core.frame.DataFrame'>\n",
      "RangeIndex: 148654 entries, 0 to 148653\n",
      "Data columns (total 13 columns):\n",
      " #   Column            Non-Null Count   Dtype  \n",
      "---  ------            --------------   -----  \n",
      " 0   Id                148654 non-null  int64  \n",
      " 1   EmployeeName      148654 non-null  object \n",
      " 2   JobTitle          148654 non-null  object \n",
      " 3   BasePay           148049 non-null  object \n",
      " 4   OvertimePay       148654 non-null  object \n",
      " 5   OtherPay          148654 non-null  object \n",
      " 6   Benefits          112495 non-null  object \n",
      " 7   TotalPay          148654 non-null  float64\n",
      " 8   TotalPayBenefits  148654 non-null  float64\n",
      " 9   Year              148654 non-null  int64  \n",
      " 10  Notes             0 non-null       float64\n",
      " 11  Agency            148654 non-null  object \n",
      " 12  Status            38119 non-null   object \n",
      "dtypes: float64(3), int64(2), object(8)\n",
      "memory usage: 14.7+ MB\n",
      "Xem thông tin df_salary: None\n"
     ]
    }
   ],
   "source": [
    "print(\"b. Xem thông tin của df_salary\")\n",
    "print(f\"Xem thông tin df_salary: {df_salary.info()}\")"
   ]
  },
  {
   "cell_type": "code",
   "execution_count": 73,
   "id": "977ec12e-f838-4f54-abb2-e15c3b194bf4",
   "metadata": {},
   "outputs": [
    {
     "name": "stdout",
     "output_type": "stream",
     "text": [
      "c. Mô tả thống kê các thông tin của df_salary\n",
      "                  Id       TotalPay  TotalPayBenefits           Year  Notes\n",
      "count  148654.000000  148654.000000     148654.000000  148654.000000    0.0\n",
      "mean    74327.500000   74768.321972      93692.554811    2012.522643    NaN\n",
      "std     42912.857795   50517.005274      62793.533483       1.117538    NaN\n",
      "min         1.000000    -618.130000       -618.130000    2011.000000    NaN\n",
      "25%     37164.250000   36168.995000      44065.650000    2012.000000    NaN\n",
      "50%     74327.500000   71426.610000      92404.090000    2013.000000    NaN\n",
      "75%    111490.750000  105839.135000     132876.450000    2014.000000    NaN\n",
      "max    148654.000000  567595.430000     567595.430000    2014.000000    NaN\n"
     ]
    }
   ],
   "source": [
    "print(\"c. Mô tả thống kê các thông tin của df_salary\")\n",
    "print(df_salary.describe())"
   ]
  },
  {
   "cell_type": "code",
   "execution_count": 90,
   "id": "9db22f8a-2a75-4ee0-8d94-c1bb226269a3",
   "metadata": {},
   "outputs": [
    {
     "name": "stdout",
     "output_type": "stream",
     "text": [
      "d. Xác định giá trị trung bình của trường thông tin lương cơ bản BasePay\n",
      "Giá trị trung bình của BasePay: 66325.4488404877\n"
     ]
    }
   ],
   "source": [
    "print(\"d. Xác định giá trị trung bình của trường thông tin lương cơ bản BasePay\")\n",
    "df_salary.BasePay = pd.to_numeric(df_salary.BasePay, errors='coerce')\n",
    "print(f\"Giá trị trung bình của BasePay: {df_salary.BasePay.mean(skipna = True)}\")"
   ]
  },
  {
   "cell_type": "code",
   "execution_count": 120,
   "id": "fb52e559-53a3-4be8-a675-4aadfc66a8f5",
   "metadata": {},
   "outputs": [
    {
     "name": "stdout",
     "output_type": "stream",
     "text": [
      "e. Tính tổng số tiền trả ngoài giờ OvertimePay\n",
      "Giá trị tổng của OverTimePay: 753069802.1199998\n"
     ]
    }
   ],
   "source": [
    "print(\"e. Tính tổng số tiền trả ngoài giờ OvertimePay\")\n",
    "df_salary.OvertimePay = pd.to_numeric(df_salary.OvertimePay, errors='coerce')\n",
    "print(f\"Giá trị tổng của OverTimePay: {df_salary.OvertimePay.sum(skipna = True)}\")"
   ]
  },
  {
   "cell_type": "code",
   "execution_count": 108,
   "id": "dacdff4a-f0b4-4d05-9843-59e4de663351",
   "metadata": {},
   "outputs": [
    {
     "name": "stdout",
     "output_type": "stream",
     "text": [
      "f. Tìm tên của nhân viên có số tiền trả ngoài giờ OvertimePay cao nhất\n",
      "Nhân viên có số tiền trả ngoài giờ cao nhất tên là: GARY JIMENEZ\n"
     ]
    }
   ],
   "source": [
    "print(\"f. Tìm tên của nhân viên có số tiền trả ngoài giờ OvertimePay cao nhất\")\n",
    "TheHighestEmployeeOverTimePay = df_salary[df_salary.OvertimePay == df_salary.OvertimePay.max()]\n",
    "FinalName = TheHighestEmployeeOverTimePay[\"EmployeeName\"].values\n",
    "print(f\"Nhân viên có số tiền trả ngoài giờ cao nhất tên là: {FinalName[0]}\")"
   ]
  },
  {
   "cell_type": "code",
   "execution_count": 109,
   "id": "708f137a-ff6d-4ebf-a732-ab4bf5567bf5",
   "metadata": {},
   "outputs": [
    {
     "name": "stdout",
     "output_type": "stream",
     "text": [
      "g. Tìm tên của nhân viên được trả lương TotalPay cao nhất\n",
      "Nhân viên có số tiền trả lương cao nhất tên là: NATHANIEL FORD\n"
     ]
    }
   ],
   "source": [
    "print(\"g. Tìm tên của nhân viên được trả lương TotalPay cao nhất\")\n",
    "TheHighestEmployeeTotalPay = df_salary[df_salary.TotalPay == df_salary.TotalPay.max()]\n",
    "FinalName = TheHighestEmployeeTotalPay[\"EmployeeName\"].values\n",
    "print(f\"Nhân viên có số tiền trả lương cao nhất tên là: {FinalName[0]}\")"
   ]
  },
  {
   "cell_type": "code",
   "execution_count": 111,
   "id": "a7ea5070-0efd-4c35-8545-b55dfc161921",
   "metadata": {},
   "outputs": [
    {
     "name": "stdout",
     "output_type": "stream",
     "text": [
      "h. Tìm nghề có mức lương cơ sở cao nhất.\n",
      "Nhân viên có số tiền trả lương cao nhất tên là: GENERAL MANAGER-METROPOLITAN TRANSIT AUTHORITY\n"
     ]
    }
   ],
   "source": [
    "print(\"h. Tìm nghề có mức lương cơ sở cao nhất.\")\n",
    "TheHighestJobBasePay = df_salary[df_salary.BasePay == df_salary.BasePay.max()]\n",
    "JobName = TheHighestEmployeeTotalPay[\"JobTitle\"].values\n",
    "print(f\"Nhân viên có số tiền trả lương cao nhất tên là: {JobName[0]}\")"
   ]
  },
  {
   "cell_type": "code",
   "execution_count": 112,
   "id": "531eb15b-03f7-4f5b-83d2-04f0b3a20817",
   "metadata": {},
   "outputs": [
    {
     "name": "stdout",
     "output_type": "stream",
     "text": [
      "i. Có bao nhiêu nghề nghiệp trong bảng?\n",
      "Số nghề nghiệp trong bảng: 2159\n"
     ]
    }
   ],
   "source": [
    "print(\"i. Có bao nhiêu nghề nghiệp trong bảng?\")\n",
    "print(f\"Số nghề nghiệp trong bảng: {len(df_salary.JobTitle.unique())}\")"
   ]
  },
  {
   "cell_type": "code",
   "execution_count": 119,
   "id": "e8370251-39ed-4905-a5d3-9da1357d0030",
   "metadata": {},
   "outputs": [
    {
     "name": "stdout",
     "output_type": "stream",
     "text": [
      "j. Hãy thay thế các giá trị trống và thay thế bằng số 0.\n",
      "Kiểm tra null trong bảng Id                  0\n",
      "EmployeeName        0\n",
      "JobTitle            0\n",
      "BasePay             0\n",
      "OvertimePay         0\n",
      "OtherPay            0\n",
      "Benefits            0\n",
      "TotalPay            0\n",
      "TotalPayBenefits    0\n",
      "Year                0\n",
      "Notes               0\n",
      "Agency              0\n",
      "Status              0\n",
      "dtype: int64\n"
     ]
    }
   ],
   "source": [
    "print(\"j. Hãy thay thế các giá trị trống và thay thế bằng số 0.\")\n",
    "ReplaceNanWith0 = df_salary.replace(np.nan,0)\n",
    "print(f\"Kiểm tra null trong bảng {ReplaceNanWith0.isnull().sum()}\")"
   ]
  },
  {
   "cell_type": "code",
   "execution_count": null,
   "id": "a1439af0-6a96-43b7-a7b4-ba2fef6b635b",
   "metadata": {},
   "outputs": [],
   "source": []
  }
 ],
 "metadata": {
  "kernelspec": {
   "display_name": "Python 3 (ipykernel)",
   "language": "python",
   "name": "python3"
  },
  "language_info": {
   "codemirror_mode": {
    "name": "ipython",
    "version": 3
   },
   "file_extension": ".py",
   "mimetype": "text/x-python",
   "name": "python",
   "nbconvert_exporter": "python",
   "pygments_lexer": "ipython3",
   "version": "3.9.13"
  }
 },
 "nbformat": 4,
 "nbformat_minor": 5
}
