{
 "cells": [
  {
   "cell_type": "markdown",
   "id": "b2010399-fc07-43db-a2f4-02c22f7e6e59",
   "metadata": {},
   "source": [
    "# Họ tên: Nguyễn Vũ Hải\n",
    "# Lớp: CNTT K18 CLC\n",
    "# Mã SV: DTC195480201CLC0006"
   ]
  },
  {
   "cell_type": "code",
   "execution_count": 3,
   "id": "3e1abe61-f7a5-4712-93ae-3e795aee644c",
   "metadata": {},
   "outputs": [],
   "source": [
    "import sys"
   ]
  },
  {
   "cell_type": "code",
   "execution_count": 15,
   "id": "19454dc3-5c45-4e38-9574-51fb4a653dc8",
   "metadata": {},
   "outputs": [
    {
     "name": "stdout",
     "output_type": "stream",
     "text": [
      "Requirement already satisfied: pyspark in d:\\anaconda3\\envs\\nlp\\lib\\site-packages (3.3.2)\n",
      "Requirement already satisfied: py4j==0.10.9.5 in d:\\anaconda3\\envs\\nlp\\lib\\site-packages (from pyspark) (0.10.9.5)\n"
     ]
    }
   ],
   "source": [
    "if 'pyspark' not in sys.modules.keys():\n",
    "    !pip install pyspark\n",
    "else:\n",
    "    print(\"Đã cài pyspark\")"
   ]
  },
  {
   "cell_type": "code",
   "execution_count": 16,
   "id": "ae7437ca-f4b0-4cbb-b70e-8f148711a626",
   "metadata": {},
   "outputs": [],
   "source": [
    "from pyspark.sql import SparkSession"
   ]
  },
  {
   "cell_type": "markdown",
   "id": "d649b9ec-bc10-4c17-a253-ccd8daffc03a",
   "metadata": {},
   "source": [
    "# 1.  Đọc file products.csv trên vào 1 dataframe có tên product_df.\n",
    "\n",
    "a. Hiển thị schema, 10 dòng đầu và 10 dòng cuối của product_df\n",
    "\n",
    "b. Hiển thị thống kê của product_df\n",
    "\n",
    "c. Hiển thị số lượng đơn hàng của mỗi khách hàng theo tên trong customer_df\n",
    "\n",
    "d. Hãy gộp 2 dataframe product_df và order_data thành dataframe có tên order_product với các thông tin customer_id, product_id, price, delivery_country.\n",
    "\n",
    "e. Hãy gộp 2 dataframe order_product và customer_data với các thông tin name, id, product_id, price, billing_country, delivery_country.\n",
    "\n",
    "f. Hãy gộp 2 dataframe order_product và customer_data với các thông tin name, id, product_id, price, delivery_country khi giao hàng trong nước (delivery_country = billing_country)"
   ]
  },
  {
   "cell_type": "code",
   "execution_count": 17,
   "id": "ff3f59f6-3985-4067-a356-78e2e27f8763",
   "metadata": {},
   "outputs": [
    {
     "data": {
      "text/html": [
       "\n",
       "            <div>\n",
       "                <p><b>SparkSession - in-memory</b></p>\n",
       "                \n",
       "        <div>\n",
       "            <p><b>SparkContext</b></p>\n",
       "\n",
       "            <p><a href=\"http://172.16.22.172:4040\">Spark UI</a></p>\n",
       "\n",
       "            <dl>\n",
       "              <dt>Version</dt>\n",
       "                <dd><code>v3.3.2</code></dd>\n",
       "              <dt>Master</dt>\n",
       "                <dd><code>local[*]</code></dd>\n",
       "              <dt>AppName</dt>\n",
       "                <dd><code>Analysis</code></dd>\n",
       "            </dl>\n",
       "        </div>\n",
       "        \n",
       "            </div>\n",
       "        "
      ],
      "text/plain": [
       "<pyspark.sql.session.SparkSession at 0x19d442a9a30>"
      ]
     },
     "execution_count": 17,
     "metadata": {},
     "output_type": "execute_result"
    }
   ],
   "source": [
    "# Create a SparkSession\n",
    "spark = SparkSession.builder.appName(\"Analysis\").getOrCreate()\n",
    "spark"
   ]
  },
  {
   "cell_type": "markdown",
   "id": "c127cd5d-c7fc-4fc9-bfc4-e125a31b1d57",
   "metadata": {},
   "source": [
    "# a,b"
   ]
  },
  {
   "cell_type": "code",
   "execution_count": 48,
   "id": "20dcf164-c2d5-4479-b7f0-e0b3db377cc9",
   "metadata": {},
   "outputs": [
    {
     "name": "stdout",
     "output_type": "stream",
     "text": [
      "DataFrame[id_product: string, price: string]\n",
      "Dtypes: \n",
      "Schema: \n",
      "root\n",
      " |-- id_product: string (nullable = true)\n",
      " |-- price: string (nullable = true)\n",
      "\n",
      "Hiển thị 5 dòng đầu tiên:\n"
     ]
    },
    {
     "data": {
      "text/plain": [
       "[Row(id_product='0', price='21.78'),\n",
       " Row(id_product='1', price='18.48'),\n",
       " Row(id_product='2', price='24.17'),\n",
       " Row(id_product='3', price='29.71'),\n",
       " Row(id_product='4', price='20.12')]"
      ]
     },
     "metadata": {},
     "output_type": "display_data"
    },
    {
     "name": "stdout",
     "output_type": "stream",
     "text": [
      "Hiển thị 5 dòng cuối cùng:\n"
     ]
    },
    {
     "data": {
      "text/plain": [
       "[Row(id_product='995', price='9.65'),\n",
       " Row(id_product='996', price='25.96'),\n",
       " Row(id_product='997', price='13.33'),\n",
       " Row(id_product='998', price='28.02'),\n",
       " Row(id_product='999', price='18.86')]"
      ]
     },
     "metadata": {},
     "output_type": "display_data"
    },
    {
     "name": "stdout",
     "output_type": "stream",
     "text": [
      "Hiển thị mô tả thống kê: \n",
      "+-------+-----------------+-----------------+\n",
      "|summary|       id_product|            price|\n",
      "+-------+-----------------+-----------------+\n",
      "|  count|             1000|             1000|\n",
      "|   mean|            499.5|19.98996999999997|\n",
      "| stddev|288.8194360957494|5.999346335689877|\n",
      "|    min|                0|            10.07|\n",
      "|    max|              999|             9.97|\n",
      "+-------+-----------------+-----------------+\n",
      "\n"
     ]
    }
   ],
   "source": [
    "# Load the data from a file into a DataFrame\n",
    "product_df = spark.read.format('csv') \\\n",
    "                .option(\"header\", \"true\") \\\n",
    "                .load(\"products.csv\")\n",
    "product_df = product_df.withColumnRenamed(\"id\", \"id_product\")\n",
    "\n",
    "# In dataframe\n",
    "print(product_df)\n",
    "\n",
    "# Hiển thị loại dữ liệu từng trường thông tin\n",
    "print(\"Dtypes: \" % product_df.dtypes)\n",
    " \n",
    "print(\"Schema: \")\n",
    "product_df.printSchema()\n",
    "print(\"Hiển thị 5 dòng đầu tiên:\")\n",
    "display(product_df.head(5))\n",
    "\n",
    "print(\"Hiển thị 5 dòng cuối cùng:\")\n",
    "display(product_df.tail(5))\n",
    "\n",
    "\n",
    "print(\"Hiển thị mô tả thống kê: \")\n",
    "product_df.describe().show()"
   ]
  },
  {
   "cell_type": "markdown",
   "id": "23a5d42f-48f7-46fd-81af-bb3ccd0b50a4",
   "metadata": {},
   "source": [
    "# c"
   ]
  },
  {
   "cell_type": "code",
   "execution_count": 49,
   "id": "4cdc366a-a0ff-44f1-b9ae-dc762e9fd264",
   "metadata": {},
   "outputs": [
    {
     "name": "stdout",
     "output_type": "stream",
     "text": [
      "DataFrame[id: string, customer_id: string, product_id: string, delivery_country: string]\n",
      "Dtypes: \n",
      "Schema: \n",
      "root\n",
      " |-- id: string (nullable = true)\n",
      " |-- customer_id: string (nullable = true)\n",
      " |-- product_id: string (nullable = true)\n",
      " |-- delivery_country: string (nullable = true)\n",
      "\n"
     ]
    }
   ],
   "source": [
    "# Load the data from a file into a DataFrame\n",
    "orders_df = spark.read.format('csv') \\\n",
    "                .option(\"header\", \"true\") \\\n",
    "                .load(\"orders.csv\")\n",
    "\n",
    "\n",
    "# In dataframe\n",
    "print(orders_df)\n",
    "\n",
    "# Hiển thị loại dữ liệu từng trường thông tin\n",
    "print(\"Dtypes: \" % orders_df.dtypes)\n",
    " \n",
    "print(\"Schema: \")\n",
    "orders_df.printSchema()\n"
   ]
  },
  {
   "cell_type": "code",
   "execution_count": 50,
   "id": "c073642e-fbd3-4194-808b-25127dd17955",
   "metadata": {},
   "outputs": [
    {
     "name": "stdout",
     "output_type": "stream",
     "text": [
      "DataFrame[id_customer: string, name: string, billing_country: string]\n",
      "Dtypes: \n",
      "Schema: \n",
      "root\n",
      " |-- id_customer: string (nullable = true)\n",
      " |-- name: string (nullable = true)\n",
      " |-- billing_country: string (nullable = true)\n",
      "\n"
     ]
    }
   ],
   "source": [
    "# Load the data from a file into a DataFrame\n",
    "customer_df = spark.read.format('csv') \\\n",
    "                .option(\"header\", \"true\") \\\n",
    "                .load(\"customers.csv\")\n",
    "customer_df = customer_df.withColumnRenamed(\"id\", \"id_customer\")\n",
    "# In dataframe\n",
    "print(customer_df)\n",
    "\n",
    "# Hiển thị loại dữ liệu từng trường thông tin\n",
    "print(\"Dtypes: \" % customer_df.dtypes)\n",
    " \n",
    "print(\"Schema: \")\n",
    "customer_df.printSchema()\n",
    "     "
   ]
  },
  {
   "cell_type": "code",
   "execution_count": 61,
   "id": "b53eef6a-bdf0-4363-9e75-b70c034f77ef",
   "metadata": {},
   "outputs": [
    {
     "name": "stdout",
     "output_type": "stream",
     "text": [
      "+--------------------+-----+\n",
      "|                name|count|\n",
      "+--------------------+-----+\n",
      "|       Felix Rantzen|    3|\n",
      "|       Kazuhiro Nijo|    3|\n",
      "|  Flomo Gebremichael|    1|\n",
      "|      Hanna Jacobsen|    6|\n",
      "|      Cumhur Ozdemir|   10|\n",
      "|        Lukas Juhasz|    5|\n",
      "|       Latoya Omondi|   13|\n",
      "|Eber Castano Fern...|    3|\n",
      "|       Chris  Wesley|    2|\n",
      "|   Jean-Marc Chambon|    5|\n",
      "|    Harumi Tokudaiji|    3|\n",
      "|      Onofredo Tasso|    4|\n",
      "|     Fang Ching-hsia|    5|\n",
      "|       Jumanah Karim|    3|\n",
      "|    Sofia Vinogradov|    2|\n",
      "|           Sui Tso-i|    9|\n",
      "|    Veeti Gustavsson|    9|\n",
      "|     Catulle Mazarin|   10|\n",
      "|        Momolu Okeke|    4|\n",
      "|          Oso Jalloh|    5|\n",
      "+--------------------+-----+\n",
      "only showing top 20 rows\n",
      "\n"
     ]
    }
   ],
   "source": [
    "joined_df = orders_df.join(customer_df, orders_df[\"customer_id\"] == customer_df[\"id_customer\"]).join(product_df, orders_df[\"product_id\"] == product_df[\"id_product\"])\n",
    "selected_df = joined_df.select(\"id\", \"name\")\n",
    "selected_df.groupBy(\"name\").count().show()"
   ]
  },
  {
   "cell_type": "markdown",
   "id": "edad4718-834a-4a24-b651-ef61ae53934a",
   "metadata": {},
   "source": [
    "d. Hãy gộp 2 dataframe product_df và order_data thành dataframe có tên order_product với các thông tin customer_id, product_id, price, delivery_country.\n",
    "\n",
    "e. Hãy gộp 2 dataframe order_product và customer_data với các thông tin name, id, product_id, price, billing_country, delivery_country.\n",
    "\n",
    "f. Hãy gộp 2 dataframe order_product và customer_data với các thông tin name, id, product_id, price, delivery_country khi giao hàng trong nước (delivery_country = billing_country)\n"
   ]
  },
  {
   "cell_type": "markdown",
   "id": "35255de4-f122-4cc7-bc43-7a26644fcd68",
   "metadata": {},
   "source": [
    "# d"
   ]
  },
  {
   "cell_type": "code",
   "execution_count": 64,
   "id": "0c352004-8e74-4bcd-b3ef-deb784d068a1",
   "metadata": {},
   "outputs": [
    {
     "name": "stdout",
     "output_type": "stream",
     "text": [
      "DataFrame[id: string, customer_id: string, product_id: string, delivery_country: string, id_product: string, price: string]\n",
      "+-----------+----------+-----+----------------+\n",
      "|customer_id|product_id|price|delivery_country|\n",
      "+-----------+----------+-----+----------------+\n",
      "|       1866|       686|26.62|           India|\n",
      "|       1921|       617| 8.61|           China|\n",
      "|       1921|        54| 35.6|         Armenia|\n",
      "|       1921|       566|23.32|           China|\n",
      "|       1921|       128|13.73|         Lebanon|\n",
      "|       1921|       976|29.55|           China|\n",
      "|       1907|       353|16.81|           Spain|\n",
      "|       1464|       330|14.39|         Denmark|\n",
      "|       1464|       555|19.12|         Denmark|\n",
      "|        206|       960|19.96|          Mexico|\n",
      "|        206|       630|15.47|          Mexico|\n",
      "|        206|        13|14.37|          Mexico|\n",
      "|       1496|       179|21.09|         Finland|\n",
      "|       1496|       927|  7.9|         Burundi|\n",
      "|       1496|       873| 23.5|         Finland|\n",
      "|       1496|       583|18.83|         Finland|\n",
      "|       1176|       769| 26.7|          France|\n",
      "|       1176|       819|30.57|       Lithuania|\n",
      "|       1176|       984|26.49|         Finland|\n",
      "|       1457|       102|24.16|         Iceland|\n",
      "+-----------+----------+-----+----------------+\n",
      "only showing top 20 rows\n",
      "\n"
     ]
    }
   ],
   "source": [
    "order_product = orders_df.join(product_df, orders_df[\"product_id\"] == product_df[\"id_product\"])\n",
    "print(order_product)\n",
    "order_product.select(\"customer_id\",\"product_id\",\"price\",\"delivery_country\").show()"
   ]
  },
  {
   "cell_type": "markdown",
   "id": "aa6171c6-6854-4bc9-a027-8c56f42c4f71",
   "metadata": {},
   "source": [
    "# e"
   ]
  },
  {
   "cell_type": "code",
   "execution_count": 73,
   "id": "e4e25f71-e3a8-4305-bf12-d62cd4730d55",
   "metadata": {},
   "outputs": [
    {
     "name": "stdout",
     "output_type": "stream",
     "text": [
      "DataFrame[id: string, customer_id: string, product_id: string, delivery_country: string, id_customer: string, name: string, billing_country: string, id_product: string, price: string]\n",
      "+---+-----------------+----------+-----+---------------+----------------+\n",
      "| id|             name|product_id|price|billing_country|delivery_country|\n",
      "+---+-----------------+----------+-----+---------------+----------------+\n",
      "|  0|Anangam Ramamuthe|       686|26.62|          India|           India|\n",
      "|  1| Tsung Xiang-ling|       617| 8.61|          China|           China|\n",
      "|  1| Tsung Xiang-ling|        54| 35.6|          China|         Armenia|\n",
      "|  1| Tsung Xiang-ling|       566|23.32|          China|           China|\n",
      "|  1| Tsung Xiang-ling|       128|13.73|          China|         Lebanon|\n",
      "|  1| Tsung Xiang-ling|       976|29.55|          China|           China|\n",
      "|  2|    Chao Wu-jiang|       353|16.81|          China|           Spain|\n",
      "|  3|  Arttu Pettersen|       330|14.39|        Denmark|         Denmark|\n",
      "|  3|  Arttu Pettersen|       555|19.12|        Denmark|         Denmark|\n",
      "|  4| Aura Santa Godoy|       960|19.96|         Mexico|          Mexico|\n",
      "|  4| Aura Santa Godoy|       630|15.47|         Mexico|          Mexico|\n",
      "|  4| Aura Santa Godoy|        13|14.37|         Mexico|          Mexico|\n",
      "|  5|   Tobias Eriksen|       179|21.09|        Finland|         Finland|\n",
      "|  5|   Tobias Eriksen|       927|  7.9|        Finland|         Burundi|\n",
      "|  5|   Tobias Eriksen|       873| 23.5|        Finland|         Finland|\n",
      "|  5|   Tobias Eriksen|       583|18.83|        Finland|         Finland|\n",
      "|  6|      Pons Baluze|       769| 26.7|         France|          France|\n",
      "|  6|      Pons Baluze|       819|30.57|         France|       Lithuania|\n",
      "|  6|      Pons Baluze|       984|26.49|         France|         Finland|\n",
      "|  7|     Leevi Nilsen|       102|24.16|        Iceland|         Iceland|\n",
      "+---+-----------------+----------+-----+---------------+----------------+\n",
      "only showing top 20 rows\n",
      "\n"
     ]
    }
   ],
   "source": [
    "order_customer = orders_df.join(customer_df, orders_df[\"customer_id\"] == customer_df[\"id_customer\"]).join(product_df, orders_df[\"product_id\"] == product_df[\"id_product\"])\n",
    "print(order_customer)\n",
    "order_customer.select(\"id\",\"name\", \"product_id\",\"price\", \"billing_country\",\"delivery_country\").show()"
   ]
  },
  {
   "cell_type": "markdown",
   "id": "f00baac2-edec-42fc-99d7-a3daeed6b309",
   "metadata": {},
   "source": [
    "# f. Hãy gộp 2 dataframe order_product và customer_data với các thông tin name, id, product_id, price, delivery_country khi giao hàng trong nước (delivery_country = billing_country)"
   ]
  },
  {
   "cell_type": "code",
   "execution_count": 80,
   "id": "48f9d53f-072d-4832-9b9b-0e2b970571f3",
   "metadata": {},
   "outputs": [
    {
     "name": "stdout",
     "output_type": "stream",
     "text": [
      "DataFrame[id: string, customer_id: string, product_id: string, delivery_country: string, id_customer: string, name: string, billing_country: string, id_product: string, price: string]\n",
      "+---+-----------------+----------+-----+----------------+\n",
      "| id|             name|product_id|price|delivery_country|\n",
      "+---+-----------------+----------+-----+----------------+\n",
      "|  0|Anangam Ramamuthe|       686|26.62|           India|\n",
      "|  1| Tsung Xiang-ling|       617| 8.61|           China|\n",
      "|  1| Tsung Xiang-ling|       566|23.32|           China|\n",
      "|  1| Tsung Xiang-ling|       976|29.55|           China|\n",
      "|  3|  Arttu Pettersen|       330|14.39|         Denmark|\n",
      "|  3|  Arttu Pettersen|       555|19.12|         Denmark|\n",
      "|  4| Aura Santa Godoy|       960|19.96|          Mexico|\n",
      "|  4| Aura Santa Godoy|       630|15.47|          Mexico|\n",
      "|  4| Aura Santa Godoy|        13|14.37|          Mexico|\n",
      "|  5|   Tobias Eriksen|       179|21.09|         Finland|\n",
      "|  5|   Tobias Eriksen|       873| 23.5|         Finland|\n",
      "|  5|   Tobias Eriksen|       583|18.83|         Finland|\n",
      "|  6|      Pons Baluze|       769| 26.7|          France|\n",
      "|  7|     Leevi Nilsen|       102|24.16|         Iceland|\n",
      "|  7|     Leevi Nilsen|       607|22.92|         Iceland|\n",
      "|  7|     Leevi Nilsen|       450|19.03|         Iceland|\n",
      "|  8|   Lena Ackermann|       749|14.51|         Germany|\n",
      "|  9|Ferrandos Bautain|       841| 8.25|          France|\n",
      "|  9|Ferrandos Bautain|       706|14.13|          France|\n",
      "| 10|      Pons Baluze|       567|16.55|          France|\n",
      "+---+-----------------+----------+-----+----------------+\n",
      "only showing top 20 rows\n",
      "\n"
     ]
    }
   ],
   "source": [
    "order_domestic = orders_df.join(customer_df, (orders_df[\"customer_id\"] == customer_df[\"id_customer\"]) & (orders_df[\"delivery_country\"] == customer_df[\"billing_country\"])).join(product_df, orders_df[\"product_id\"] == product_df[\"id_product\"])\n",
    "print(order_customer)\n",
    "order_domestic.select(\"id\",\"name\", \"product_id\",\"price\",\"delivery_country\").show()"
   ]
  },
  {
   "cell_type": "markdown",
   "id": "070babc6-8961-4442-9250-cf20638014a6",
   "metadata": {},
   "source": [
    "# Bài 2. Tạo 1 ứng dụng Spark tên \"practice_02\" để đọc tệp \"Salaries.csv\" vào Pyspark DataFrame.\n",
    "\n",
    "a)Xóa các cột không có thông tin trong df\n",
    "\n",
    "b) Hiển thị thống kê của df\n",
    "\n",
    "c) Xóa các dòng có tiền lương tổng (TotalPay) <=0\n",
    "\n",
    "d) Điền giá trị 0 vào các ô thiếu dữ liệu.\n",
    "\n",
    "e) Hiển thị tên và nghề nghiệp những người có tổng lương < 50000"
   ]
  },
  {
   "cell_type": "code",
   "execution_count": 90,
   "id": "6855dc26-88aa-4883-98af-5dad0b304994",
   "metadata": {},
   "outputs": [
    {
     "name": "stdout",
     "output_type": "stream",
     "text": [
      "DataFrame[Id: string, EmployeeName: string, JobTitle: string, BasePay: string, OvertimePay: string, OtherPay: string, Benefits: string, TotalPay: string, TotalPayBenefits: string, Year: string, Notes: string, Agency: string, Status: string]\n",
      "Dtypes: \n",
      "Schema: \n",
      "root\n",
      " |-- Id: string (nullable = true)\n",
      " |-- EmployeeName: string (nullable = true)\n",
      " |-- JobTitle: string (nullable = true)\n",
      " |-- BasePay: string (nullable = true)\n",
      " |-- OvertimePay: string (nullable = true)\n",
      " |-- OtherPay: string (nullable = true)\n",
      " |-- Benefits: string (nullable = true)\n",
      " |-- TotalPay: string (nullable = true)\n",
      " |-- TotalPayBenefits: string (nullable = true)\n",
      " |-- Year: string (nullable = true)\n",
      " |-- Notes: string (nullable = true)\n",
      " |-- Agency: string (nullable = true)\n",
      " |-- Status: string (nullable = true)\n",
      "\n"
     ]
    },
    {
     "data": {
      "text/plain": [
       "[Row(Id='1', EmployeeName='NATHANIEL FORD', JobTitle='GENERAL MANAGER-METROPOLITAN TRANSIT AUTHORITY', BasePay='167411.18', OvertimePay='0.0', OtherPay='400184.25', Benefits=None, TotalPay='567595.43', TotalPayBenefits='567595.43', Year='2011', Notes=None, Agency='San Francisco', Status=None),\n",
       " Row(Id='2', EmployeeName='GARY JIMENEZ', JobTitle='CAPTAIN III (POLICE DEPARTMENT)', BasePay='155966.02', OvertimePay='245131.88', OtherPay='137811.38', Benefits=None, TotalPay='538909.28', TotalPayBenefits='538909.28', Year='2011', Notes=None, Agency='San Francisco', Status=None),\n",
       " Row(Id='3', EmployeeName='ALBERT PARDINI', JobTitle='CAPTAIN III (POLICE DEPARTMENT)', BasePay='212739.13', OvertimePay='106088.18', OtherPay='16452.6', Benefits=None, TotalPay='335279.91', TotalPayBenefits='335279.91', Year='2011', Notes=None, Agency='San Francisco', Status=None),\n",
       " Row(Id='4', EmployeeName='CHRISTOPHER CHONG', JobTitle='WIRE ROPE CABLE MAINTENANCE MECHANIC', BasePay='77916.0', OvertimePay='56120.71', OtherPay='198306.9', Benefits=None, TotalPay='332343.61', TotalPayBenefits='332343.61', Year='2011', Notes=None, Agency='San Francisco', Status=None),\n",
       " Row(Id='5', EmployeeName='PATRICK GARDNER', JobTitle='DEPUTY CHIEF OF DEPARTMENT,(FIRE DEPARTMENT)', BasePay='134401.6', OvertimePay='9737.0', OtherPay='182234.59', Benefits=None, TotalPay='326373.19', TotalPayBenefits='326373.19', Year='2011', Notes=None, Agency='San Francisco', Status=None)]"
      ]
     },
     "execution_count": 90,
     "metadata": {},
     "output_type": "execute_result"
    }
   ],
   "source": [
    "# Load the data from a file into a DataFrame\n",
    "Salaries_df = spark.read.format('csv') \\\n",
    "                .option(\"header\", \"true\") \\\n",
    "                .load(\"Salaries.csv\")\n",
    "# In dataframe\n",
    "print(Salaries_df)\n",
    "\n",
    "# Hiển thị loại dữ liệu từng trường thông tin\n",
    "print(\"Dtypes: \" % Salaries_df.dtypes)\n",
    " \n",
    "print(\"Schema: \")\n",
    "Salaries_df.printSchema()\n",
    "\n",
    "Salaries_df.head(5)"
   ]
  },
  {
   "cell_type": "code",
   "execution_count": 92,
   "id": "52483bbe-9e69-43a8-b01f-5180da69f80f",
   "metadata": {},
   "outputs": [
    {
     "name": "stdout",
     "output_type": "stream",
     "text": [
      "+---+------------------+--------------------+---------+-----------+---------+--------+---------+----------------+----+-----+-------------+------+\n",
      "| Id|      EmployeeName|            JobTitle|  BasePay|OvertimePay| OtherPay|Benefits| TotalPay|TotalPayBenefits|Year|Notes|       Agency|Status|\n",
      "+---+------------------+--------------------+---------+-----------+---------+--------+---------+----------------+----+-----+-------------+------+\n",
      "|  1|    NATHANIEL FORD|GENERAL MANAGER-M...|167411.18|        0.0|400184.25|    null|567595.43|       567595.43|2011| null|San Francisco|  null|\n",
      "|  2|      GARY JIMENEZ|CAPTAIN III (POLI...|155966.02|  245131.88|137811.38|    null|538909.28|       538909.28|2011| null|San Francisco|  null|\n",
      "|  3|    ALBERT PARDINI|CAPTAIN III (POLI...|212739.13|  106088.18|  16452.6|    null|335279.91|       335279.91|2011| null|San Francisco|  null|\n",
      "|  4| CHRISTOPHER CHONG|WIRE ROPE CABLE M...|  77916.0|   56120.71| 198306.9|    null|332343.61|       332343.61|2011| null|San Francisco|  null|\n",
      "|  5|   PATRICK GARDNER|DEPUTY CHIEF OF D...| 134401.6|     9737.0|182234.59|    null|326373.19|       326373.19|2011| null|San Francisco|  null|\n",
      "|  6|    DAVID SULLIVAN|ASSISTANT DEPUTY ...| 118602.0|     8601.0|189082.74|    null|316285.74|       316285.74|2011| null|San Francisco|  null|\n",
      "|  7|         ALSON LEE|BATTALION CHIEF, ...| 92492.01|    89062.9|134426.14|    null|315981.05|       315981.05|2011| null|San Francisco|  null|\n",
      "|  8|     DAVID KUSHNER|DEPUTY DIRECTOR O...|256576.96|        0.0|  51322.5|    null|307899.46|       307899.46|2011| null|San Francisco|  null|\n",
      "|  9|    MICHAEL MORRIS|BATTALION CHIEF, ...|176932.64|   86362.68| 40132.23|    null|303427.55|       303427.55|2011| null|San Francisco|  null|\n",
      "| 10|JOANNE HAYES-WHITE|CHIEF OF DEPARTME...| 285262.0|        0.0| 17115.73|    null|302377.73|       302377.73|2011| null|San Francisco|  null|\n",
      "| 11|     ARTHUR KENNEY|ASSISTANT CHIEF O...|194999.39|   71344.88|  33149.9|    null|299494.17|       299494.17|2011| null|San Francisco|  null|\n",
      "| 12|  PATRICIA JACKSON|CAPTAIN III (POLI...|  99722.0|   87082.62| 110804.3|    null|297608.92|       297608.92|2011| null|San Francisco|  null|\n",
      "| 13| EDWARD HARRINGTON|EXECUTIVE CONTRAC...|294580.02|        0.0|      0.0|    null|294580.02|       294580.02|2011| null|San Francisco|  null|\n",
      "| 14|       JOHN MARTIN|   DEPARTMENT HEAD V|271329.03|        0.0| 21342.59|    null|292671.62|       292671.62|2011| null|San Francisco|  null|\n",
      "| 15|    DAVID FRANKLIN|BATTALION CHIEF, ...|174872.64|    74050.3| 37424.11|    null|286347.05|       286347.05|2011| null|San Francisco|  null|\n",
      "| 16|   RICHARD CORRIEA|COMMANDER III, (P...|198778.01|    73478.2| 13957.65|    null|286213.86|       286213.86|2011| null|San Francisco|  null|\n",
      "| 17|          AMY HART|   DEPARTMENT HEAD V|268604.57|        0.0| 16115.86|    null|284720.43|       284720.43|2011| null|San Francisco|  null|\n",
      "| 18|    SEBASTIAN WONG|CAPTAIN, EMERGENC...|140546.87|  119397.26| 18625.08|    null|278569.21|       278569.21|2011| null|San Francisco|  null|\n",
      "| 19|        MARTY ROSS|BATTALION CHIEF, ...|168692.63|   69626.12| 38115.47|    null|276434.22|       276434.22|2011| null|San Francisco|  null|\n",
      "| 20|     ELLEN MOFFATT|ASSISTANT MEDICAL...|257510.59|     880.16|  16159.5|    null|274550.25|       274550.25|2011| null|San Francisco|  null|\n",
      "+---+------------------+--------------------+---------+-----------+---------+--------+---------+----------------+----+-----+-------------+------+\n",
      "only showing top 20 rows\n",
      "\n"
     ]
    }
   ],
   "source": [
    "Salaries_df.dropna(thresh=2).show()"
   ]
  },
  {
   "cell_type": "code",
   "execution_count": null,
   "id": "623f18f0-9b00-47ab-9c24-ae1a1e8607b1",
   "metadata": {},
   "outputs": [],
   "source": []
  }
 ],
 "metadata": {
  "kernelspec": {
   "display_name": "Python 3 (ipykernel)",
   "language": "python",
   "name": "python3"
  },
  "language_info": {
   "codemirror_mode": {
    "name": "ipython",
    "version": 3
   },
   "file_extension": ".py",
   "mimetype": "text/x-python",
   "name": "python",
   "nbconvert_exporter": "python",
   "pygments_lexer": "ipython3",
   "version": "3.9.13"
  }
 },
 "nbformat": 4,
 "nbformat_minor": 5
}
