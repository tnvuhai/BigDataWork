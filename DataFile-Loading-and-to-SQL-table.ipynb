{
 "cells": [
  {
   "cell_type": "code",
   "execution_count": 1,
   "metadata": {
    "colab": {},
    "colab_type": "code",
    "id": "l_bA0hVFLOmR"
   },
   "outputs": [],
   "source": [
    "#importing libraries\n",
    "import pandas as pd\n",
    "import sqlite3\n",
    " "
   ]
  },
  {
   "cell_type": "code",
   "execution_count": 2,
   "metadata": {},
   "outputs": [
    {
     "name": "stdout",
     "output_type": "stream",
     "text": [
      "Requirement already satisfied: ipython-sql in c:\\users\\admin\\anaconda3\\lib\\site-packages (0.5.0)\n",
      "Requirement already satisfied: prettytable in c:\\users\\admin\\anaconda3\\lib\\site-packages (from ipython-sql) (3.6.0)\n",
      "Requirement already satisfied: sqlparse in c:\\users\\admin\\anaconda3\\lib\\site-packages (from ipython-sql) (0.4.3)\n",
      "Requirement already satisfied: sqlalchemy>=2.0 in c:\\users\\admin\\anaconda3\\lib\\site-packages (from ipython-sql) (2.0.5.post1)\n",
      "Requirement already satisfied: ipython in c:\\users\\admin\\anaconda3\\lib\\site-packages (from ipython-sql) (7.31.1)\n",
      "Requirement already satisfied: ipython-genutils in c:\\users\\admin\\anaconda3\\lib\\site-packages (from ipython-sql) (0.2.0)\n",
      "Requirement already satisfied: six in c:\\users\\admin\\anaconda3\\lib\\site-packages (from ipython-sql) (1.16.0)\n",
      "Requirement already satisfied: typing-extensions>=4.2.0 in c:\\users\\admin\\anaconda3\\lib\\site-packages (from sqlalchemy>=2.0->ipython-sql) (4.3.0)\n",
      "Requirement already satisfied: greenlet!=0.4.17 in c:\\users\\admin\\anaconda3\\lib\\site-packages (from sqlalchemy>=2.0->ipython-sql) (1.1.1)\n",
      "Requirement already satisfied: matplotlib-inline in c:\\users\\admin\\anaconda3\\lib\\site-packages (from ipython->ipython-sql) (0.1.6)\n",
      "Requirement already satisfied: pygments in c:\\users\\admin\\anaconda3\\lib\\site-packages (from ipython->ipython-sql) (2.11.2)\n",
      "Requirement already satisfied: colorama in c:\\users\\admin\\anaconda3\\lib\\site-packages (from ipython->ipython-sql) (0.4.5)\n",
      "Requirement already satisfied: setuptools>=18.5 in c:\\users\\admin\\anaconda3\\lib\\site-packages (from ipython->ipython-sql) (63.4.1)\n",
      "Requirement already satisfied: traitlets>=4.2 in c:\\users\\admin\\anaconda3\\lib\\site-packages (from ipython->ipython-sql) (5.1.1)\n",
      "Requirement already satisfied: prompt-toolkit!=3.0.0,!=3.0.1,<3.1.0,>=2.0.0 in c:\\users\\admin\\anaconda3\\lib\\site-packages (from ipython->ipython-sql) (3.0.20)\n",
      "Requirement already satisfied: jedi>=0.16 in c:\\users\\admin\\anaconda3\\lib\\site-packages (from ipython->ipython-sql) (0.18.1)\n",
      "Requirement already satisfied: pickleshare in c:\\users\\admin\\anaconda3\\lib\\site-packages (from ipython->ipython-sql) (0.7.5)\n",
      "Requirement already satisfied: decorator in c:\\users\\admin\\anaconda3\\lib\\site-packages (from ipython->ipython-sql) (5.1.1)\n",
      "Requirement already satisfied: backcall in c:\\users\\admin\\anaconda3\\lib\\site-packages (from ipython->ipython-sql) (0.2.0)\n",
      "Requirement already satisfied: wcwidth in c:\\users\\admin\\anaconda3\\lib\\site-packages (from prettytable->ipython-sql) (0.2.5)\n",
      "Requirement already satisfied: parso<0.9.0,>=0.8.0 in c:\\users\\admin\\anaconda3\\lib\\site-packages (from jedi>=0.16->ipython->ipython-sql) (0.8.3)\n"
     ]
    }
   ],
   "source": [
    "#installing the lib  ipython-sql to use sql commands\n",
    "!pip install ipython-sql"
   ]
  },
  {
   "cell_type": "code",
   "execution_count": 22,
   "metadata": {},
   "outputs": [
    {
     "name": "stdout",
     "output_type": "stream",
     "text": [
      "Requirement already satisfied: ipython in c:\\users\\admin\\anaconda3\\lib\\site-packages (7.31.1)\n",
      "Collecting ipython\n",
      "  Downloading ipython-8.11.0-py3-none-any.whl (793 kB)\n",
      "     ------------------------------------- 793.3/793.3 kB 82.7 kB/s eta 0:00:00\n",
      "Requirement already satisfied: jedi>=0.16 in c:\\users\\admin\\anaconda3\\lib\\site-packages (from ipython) (0.18.1)\n",
      "Requirement already satisfied: pickleshare in c:\\users\\admin\\anaconda3\\lib\\site-packages (from ipython) (0.7.5)\n",
      "Requirement already satisfied: matplotlib-inline in c:\\users\\admin\\anaconda3\\lib\\site-packages (from ipython) (0.1.6)\n",
      "Collecting stack-data\n",
      "  Downloading stack_data-0.6.2-py3-none-any.whl (24 kB)\n",
      "Requirement already satisfied: pygments>=2.4.0 in c:\\users\\admin\\anaconda3\\lib\\site-packages (from ipython) (2.11.2)\n",
      "Requirement already satisfied: traitlets>=5 in c:\\users\\admin\\anaconda3\\lib\\site-packages (from ipython) (5.1.1)\n",
      "Requirement already satisfied: backcall in c:\\users\\admin\\anaconda3\\lib\\site-packages (from ipython) (0.2.0)\n",
      "Collecting prompt-toolkit!=3.0.37,<3.1.0,>=3.0.30\n",
      "  Downloading prompt_toolkit-3.0.38-py3-none-any.whl (385 kB)\n",
      "     ------------------------------------- 385.8/385.8 kB 40.6 kB/s eta 0:00:00\n",
      "Requirement already satisfied: decorator in c:\\users\\admin\\anaconda3\\lib\\site-packages (from ipython) (5.1.1)\n",
      "Requirement already satisfied: colorama in c:\\users\\admin\\anaconda3\\lib\\site-packages (from ipython) (0.4.5)\n",
      "Requirement already satisfied: parso<0.9.0,>=0.8.0 in c:\\users\\admin\\anaconda3\\lib\\site-packages (from jedi>=0.16->ipython) (0.8.3)\n",
      "Requirement already satisfied: wcwidth in c:\\users\\admin\\anaconda3\\lib\\site-packages (from prompt-toolkit!=3.0.37,<3.1.0,>=3.0.30->ipython) (0.2.5)\n",
      "Collecting asttokens>=2.1.0\n",
      "  Downloading asttokens-2.2.1-py2.py3-none-any.whl (26 kB)\n",
      "Collecting executing>=1.2.0\n",
      "  Downloading executing-1.2.0-py2.py3-none-any.whl (24 kB)\n",
      "Collecting pure-eval\n",
      "  Downloading pure_eval-0.2.2-py3-none-any.whl (11 kB)\n",
      "Requirement already satisfied: six in c:\\users\\admin\\anaconda3\\lib\\site-packages (from asttokens>=2.1.0->stack-data->ipython) (1.16.0)\n",
      "Installing collected packages: pure-eval, executing, prompt-toolkit, asttokens, stack-data, ipython\n",
      "  Attempting uninstall: prompt-toolkit\n",
      "    Found existing installation: prompt-toolkit 3.0.20\n",
      "    Uninstalling prompt-toolkit-3.0.20:\n",
      "      Successfully uninstalled prompt-toolkit-3.0.20\n",
      "  Attempting uninstall: ipython\n",
      "    Found existing installation: ipython 7.31.1\n",
      "    Uninstalling ipython-7.31.1:\n",
      "      Successfully uninstalled ipython-7.31.1\n",
      "Successfully installed asttokens-2.2.1 executing-1.2.0 ipython-8.11.0 prompt-toolkit-3.0.38 pure-eval-0.2.2 stack-data-0.6.2\n"
     ]
    },
    {
     "name": "stderr",
     "output_type": "stream",
     "text": [
      "ERROR: pip's dependency resolver does not currently take into account all the packages that are installed. This behaviour is the source of the following dependency conflicts.\n",
      "spyder 5.2.2 requires pyqt5<5.13, which is not installed.\n",
      "spyder 5.2.2 requires pyqtwebengine<5.13, which is not installed.\n",
      "spyder 5.2.2 requires ipython<8.0.0,>=7.6.0, but you have ipython 8.11.0 which is incompatible.\n",
      "spyder-kernels 2.2.1 requires ipython<8,>=7.6.0; python_version >= \"3\", but you have ipython 8.11.0 which is incompatible.\n"
     ]
    }
   ],
   "source": [
    "!pip install --upgrade ipython"
   ]
  },
  {
   "cell_type": "code",
   "execution_count": 44,
   "metadata": {
    "colab": {},
    "colab_type": "code",
    "id": "kXZsX5QxNE-V"
   },
   "outputs": [],
   "source": [
    "# Using pandas to read_csv file to DataFrame\n",
    "customers = pd.read_csv('data/customers.csv')\n",
    "products = pd.read_csv('data/products.csv')\n",
    "orders = pd.read_csv('data/orders.csv')"
   ]
  },
  {
   "cell_type": "code",
   "execution_count": 4,
   "metadata": {
    "colab": {
     "base_uri": "https://localhost:8080/",
     "height": 204
    },
    "colab_type": "code",
    "executionInfo": {
     "elapsed": 526,
     "status": "ok",
     "timestamp": 1567164897412,
     "user": {
      "displayName": "Xuan Tran",
      "photoUrl": "https://lh3.googleusercontent.com/a-/AAuE7mBW45ICLPcQ9CyZJ_9icM9HHDOAz0xEaeQlnK5yWQ=s64",
      "userId": "15297978446673195156"
     },
     "user_tz": -120
    },
    "id": "iD5nVDVKNGvR",
    "outputId": "25e18b4e-9777-42ad-a68a-946226d6c50a"
   },
   "outputs": [
    {
     "data": {
      "text/html": [
       "<div>\n",
       "<style scoped>\n",
       "    .dataframe tbody tr th:only-of-type {\n",
       "        vertical-align: middle;\n",
       "    }\n",
       "\n",
       "    .dataframe tbody tr th {\n",
       "        vertical-align: top;\n",
       "    }\n",
       "\n",
       "    .dataframe thead th {\n",
       "        text-align: right;\n",
       "    }\n",
       "</style>\n",
       "<table border=\"1\" class=\"dataframe\">\n",
       "  <thead>\n",
       "    <tr style=\"text-align: right;\">\n",
       "      <th></th>\n",
       "      <th>id</th>\n",
       "      <th>name</th>\n",
       "      <th>billing_country</th>\n",
       "    </tr>\n",
       "  </thead>\n",
       "  <tbody>\n",
       "    <tr>\n",
       "      <th>0</th>\n",
       "      <td>1</td>\n",
       "      <td>Serenity Ladner</td>\n",
       "      <td>Canada</td>\n",
       "    </tr>\n",
       "    <tr>\n",
       "      <th>1</th>\n",
       "      <td>2</td>\n",
       "      <td>Lucy Baldwin</td>\n",
       "      <td>Canada</td>\n",
       "    </tr>\n",
       "    <tr>\n",
       "      <th>2</th>\n",
       "      <td>5</td>\n",
       "      <td>Skylar Coffman</td>\n",
       "      <td>USA</td>\n",
       "    </tr>\n",
       "    <tr>\n",
       "      <th>3</th>\n",
       "      <td>6</td>\n",
       "      <td>Riley Kinsey</td>\n",
       "      <td>USA</td>\n",
       "    </tr>\n",
       "    <tr>\n",
       "      <th>4</th>\n",
       "      <td>7</td>\n",
       "      <td>Heidi Spurlock</td>\n",
       "      <td>Canada</td>\n",
       "    </tr>\n",
       "  </tbody>\n",
       "</table>\n",
       "</div>"
      ],
      "text/plain": [
       "   id             name billing_country\n",
       "0   1  Serenity Ladner          Canada\n",
       "1   2     Lucy Baldwin          Canada\n",
       "2   5   Skylar Coffman             USA\n",
       "3   6     Riley Kinsey             USA\n",
       "4   7   Heidi Spurlock          Canada"
      ]
     },
     "execution_count": 4,
     "metadata": {},
     "output_type": "execute_result"
    }
   ],
   "source": [
    "customers.head()"
   ]
  },
  {
   "cell_type": "code",
   "execution_count": 5,
   "metadata": {
    "colab": {
     "base_uri": "https://localhost:8080/",
     "height": 204
    },
    "colab_type": "code",
    "executionInfo": {
     "elapsed": 528,
     "status": "ok",
     "timestamp": 1567164907279,
     "user": {
      "displayName": "Xuan Tran",
      "photoUrl": "https://lh3.googleusercontent.com/a-/AAuE7mBW45ICLPcQ9CyZJ_9icM9HHDOAz0xEaeQlnK5yWQ=s64",
      "userId": "15297978446673195156"
     },
     "user_tz": -120
    },
    "id": "WgrTizEHTpWa",
    "outputId": "9c2434a5-51b8-44c3-f569-4bbbdd167c1d"
   },
   "outputs": [
    {
     "data": {
      "text/html": [
       "<div>\n",
       "<style scoped>\n",
       "    .dataframe tbody tr th:only-of-type {\n",
       "        vertical-align: middle;\n",
       "    }\n",
       "\n",
       "    .dataframe tbody tr th {\n",
       "        vertical-align: top;\n",
       "    }\n",
       "\n",
       "    .dataframe thead th {\n",
       "        text-align: right;\n",
       "    }\n",
       "</style>\n",
       "<table border=\"1\" class=\"dataframe\">\n",
       "  <thead>\n",
       "    <tr style=\"text-align: right;\">\n",
       "      <th></th>\n",
       "      <th>id</th>\n",
       "      <th>customer_id</th>\n",
       "      <th>product_id</th>\n",
       "      <th>delivery_country</th>\n",
       "    </tr>\n",
       "  </thead>\n",
       "  <tbody>\n",
       "    <tr>\n",
       "      <th>0</th>\n",
       "      <td>0</td>\n",
       "      <td>1866</td>\n",
       "      <td>686</td>\n",
       "      <td>India</td>\n",
       "    </tr>\n",
       "    <tr>\n",
       "      <th>1</th>\n",
       "      <td>1</td>\n",
       "      <td>1921</td>\n",
       "      <td>617</td>\n",
       "      <td>China</td>\n",
       "    </tr>\n",
       "    <tr>\n",
       "      <th>2</th>\n",
       "      <td>1</td>\n",
       "      <td>1921</td>\n",
       "      <td>54</td>\n",
       "      <td>Armenia</td>\n",
       "    </tr>\n",
       "    <tr>\n",
       "      <th>3</th>\n",
       "      <td>1</td>\n",
       "      <td>1921</td>\n",
       "      <td>566</td>\n",
       "      <td>China</td>\n",
       "    </tr>\n",
       "    <tr>\n",
       "      <th>4</th>\n",
       "      <td>1</td>\n",
       "      <td>1921</td>\n",
       "      <td>128</td>\n",
       "      <td>Lebanon</td>\n",
       "    </tr>\n",
       "  </tbody>\n",
       "</table>\n",
       "</div>"
      ],
      "text/plain": [
       "   id  customer_id  product_id delivery_country\n",
       "0   0         1866         686            India\n",
       "1   1         1921         617            China\n",
       "2   1         1921          54          Armenia\n",
       "3   1         1921         566            China\n",
       "4   1         1921         128          Lebanon"
      ]
     },
     "execution_count": 5,
     "metadata": {},
     "output_type": "execute_result"
    }
   ],
   "source": [
    "orders.head()"
   ]
  },
  {
   "cell_type": "markdown",
   "metadata": {
    "colab_type": "text",
    "id": "SpaISdG5PJ66"
   },
   "source": [
    "**Now open an SQL DataBase, then convert above DataFrames to SQL tables**"
   ]
  },
  {
   "cell_type": "code",
   "execution_count": 45,
   "metadata": {
    "colab": {},
    "colab_type": "code",
    "id": "PQlBtXVKLcDA"
   },
   "outputs": [],
   "source": [
    "#Connecting sqlite3 and creating a Database\n",
    "conn = sqlite3.connect(\"testdb.db\")"
   ]
  },
  {
   "cell_type": "code",
   "execution_count": 46,
   "metadata": {
    "colab": {},
    "colab_type": "code",
    "id": "VXPcwITaPw1U"
   },
   "outputs": [
    {
     "data": {
      "text/plain": [
       "2000"
      ]
     },
     "execution_count": 46,
     "metadata": {},
     "output_type": "execute_result"
    }
   ],
   "source": [
    "# Loading dataframes to tables of created database through the connector \"conn\"\n",
    "customers.to_sql(\"customers\", conn, index=False, if_exists=\"replace\")\n",
    "products.to_sql(\"products\", conn, index=False, if_exists=\"replace\")\n",
    "orders.to_sql(\"orders\", conn, index=False, if_exists=\"replace\")"
   ]
  },
  {
   "cell_type": "code",
   "execution_count": 1,
   "metadata": {
    "colab": {
     "base_uri": "https://localhost:8080/",
     "height": 35
    },
    "colab_type": "code",
    "executionInfo": {
     "elapsed": 631,
     "status": "ok",
     "timestamp": 1567164100592,
     "user": {
      "displayName": "Xuan Tran",
      "photoUrl": "https://lh3.googleusercontent.com/a-/AAuE7mBW45ICLPcQ9CyZJ_9icM9HHDOAz0xEaeQlnK5yWQ=s64",
      "userId": "15297978446673195156"
     },
     "user_tz": -120
    },
    "id": "z6GI9AmQQDM3",
    "outputId": "a0d7fc5c-9faf-45d8-8ae1-07688e35f22e"
   },
   "outputs": [],
   "source": [
    "# Loading the sql module to ipython using line magic\n",
    "%load_ext sql\n"
   ]
  },
  {
   "cell_type": "code",
   "execution_count": 47,
   "metadata": {},
   "outputs": [],
   "source": [
    "# Pointing the Jupyter sql library to the created database named \"testdb.db\"\n",
    "%sql sqlite:///testdb.db"
   ]
  },
  {
   "cell_type": "code",
   "execution_count": 48,
   "metadata": {},
   "outputs": [
    {
     "name": "stdout",
     "output_type": "stream",
     "text": [
      " * sqlite:///testdb.db\n",
      "Done.\n"
     ]
    },
    {
     "data": {
      "text/html": [
       "<table>\n",
       "    <thead>\n",
       "        <tr>\n",
       "            <th>id</th>\n",
       "            <th>name</th>\n",
       "            <th>billing_country</th>\n",
       "        </tr>\n",
       "    </thead>\n",
       "    <tbody>\n",
       "        <tr>\n",
       "            <td>1</td>\n",
       "            <td>Serenity Ladner</td>\n",
       "            <td>Canada</td>\n",
       "        </tr>\n",
       "        <tr>\n",
       "            <td>2</td>\n",
       "            <td>Lucy Baldwin</td>\n",
       "            <td>Canada</td>\n",
       "        </tr>\n",
       "        <tr>\n",
       "            <td>5</td>\n",
       "            <td>Skylar Coffman</td>\n",
       "            <td>USA</td>\n",
       "        </tr>\n",
       "        <tr>\n",
       "            <td>6</td>\n",
       "            <td>Riley Kinsey</td>\n",
       "            <td>USA</td>\n",
       "        </tr>\n",
       "        <tr>\n",
       "            <td>7</td>\n",
       "            <td>Heidi Spurlock</td>\n",
       "            <td>Canada</td>\n",
       "        </tr>\n",
       "        <tr>\n",
       "            <td>10</td>\n",
       "            <td>Makenna Rojas</td>\n",
       "            <td>Canada</td>\n",
       "        </tr>\n",
       "        <tr>\n",
       "            <td>15</td>\n",
       "            <td>Lillian Strange</td>\n",
       "            <td>Canada</td>\n",
       "        </tr>\n",
       "        <tr>\n",
       "            <td>17</td>\n",
       "            <td>Erin Gorman</td>\n",
       "            <td>Canada</td>\n",
       "        </tr>\n",
       "        <tr>\n",
       "            <td>18</td>\n",
       "            <td>Abigail Le</td>\n",
       "            <td>USA</td>\n",
       "        </tr>\n",
       "        <tr>\n",
       "            <td>22</td>\n",
       "            <td>Alana Herzog</td>\n",
       "            <td>USA</td>\n",
       "        </tr>\n",
       "        <tr>\n",
       "            <td>30</td>\n",
       "            <td>Amelia Kruger</td>\n",
       "            <td>Canada</td>\n",
       "        </tr>\n",
       "        <tr>\n",
       "            <td>31</td>\n",
       "            <td>Katherine Lilly</td>\n",
       "            <td>USA</td>\n",
       "        </tr>\n",
       "        <tr>\n",
       "            <td>32</td>\n",
       "            <td>Nicole Fitch</td>\n",
       "            <td>Canada</td>\n",
       "        </tr>\n",
       "        <tr>\n",
       "            <td>33</td>\n",
       "            <td>Reagan Floyd</td>\n",
       "            <td>Canada</td>\n",
       "        </tr>\n",
       "        <tr>\n",
       "            <td>34</td>\n",
       "            <td>Penelope Robinson</td>\n",
       "            <td>Canada</td>\n",
       "        </tr>\n",
       "        <tr>\n",
       "            <td>41</td>\n",
       "            <td>Crystal Barney</td>\n",
       "            <td>Canada</td>\n",
       "        </tr>\n",
       "        <tr>\n",
       "            <td>46</td>\n",
       "            <td>Guadalupe Childers</td>\n",
       "            <td>Canada</td>\n",
       "        </tr>\n",
       "        <tr>\n",
       "            <td>49</td>\n",
       "            <td>Amelia Sosa</td>\n",
       "            <td>USA</td>\n",
       "        </tr>\n",
       "        <tr>\n",
       "            <td>53</td>\n",
       "            <td>Hillary Davis</td>\n",
       "            <td>UK</td>\n",
       "        </tr>\n",
       "        <tr>\n",
       "            <td>56</td>\n",
       "            <td>Ethel Edwards</td>\n",
       "            <td>UK</td>\n",
       "        </tr>\n",
       "    </tbody>\n",
       "</table>"
      ],
      "text/plain": [
       "[(1, 'Serenity Ladner', 'Canada'),\n",
       " (2, 'Lucy Baldwin', 'Canada'),\n",
       " (5, 'Skylar Coffman', 'USA'),\n",
       " (6, 'Riley Kinsey', 'USA'),\n",
       " (7, 'Heidi Spurlock', 'Canada'),\n",
       " (10, 'Makenna Rojas', 'Canada'),\n",
       " (15, 'Lillian Strange', 'Canada'),\n",
       " (17, 'Erin Gorman', 'Canada'),\n",
       " (18, 'Abigail Le', 'USA'),\n",
       " (22, 'Alana Herzog', 'USA'),\n",
       " (30, 'Amelia Kruger', 'Canada'),\n",
       " (31, 'Katherine Lilly', 'USA'),\n",
       " (32, 'Nicole Fitch', 'Canada'),\n",
       " (33, 'Reagan Floyd', 'Canada'),\n",
       " (34, 'Penelope Robinson', 'Canada'),\n",
       " (41, 'Crystal Barney', 'Canada'),\n",
       " (46, 'Guadalupe Childers', 'Canada'),\n",
       " (49, 'Amelia Sosa', 'USA'),\n",
       " (53, 'Hillary Davis', 'UK'),\n",
       " (56, 'Ethel Edwards', 'UK')]"
      ]
     },
     "execution_count": 48,
     "metadata": {},
     "output_type": "execute_result"
    }
   ],
   "source": [
    "# Using magic line %sql  to switch to sql syntax (CRUD operations)\n",
    "%sql SELECT * FROM customers LIMIT 20;"
   ]
  },
  {
   "cell_type": "code",
   "execution_count": 49,
   "metadata": {},
   "outputs": [
    {
     "name": "stdout",
     "output_type": "stream",
     "text": [
      " * sqlite:///testdb.db\n",
      "Done.\n"
     ]
    },
    {
     "data": {
      "text/html": [
       "<table>\n",
       "    <thead>\n",
       "        <tr>\n",
       "            <th>id</th>\n",
       "            <th>customer_id</th>\n",
       "            <th>product_id</th>\n",
       "            <th>delivery_country</th>\n",
       "        </tr>\n",
       "    </thead>\n",
       "    <tbody>\n",
       "        <tr>\n",
       "            <td>0</td>\n",
       "            <td>1866</td>\n",
       "            <td>686</td>\n",
       "            <td>India</td>\n",
       "        </tr>\n",
       "        <tr>\n",
       "            <td>1</td>\n",
       "            <td>1921</td>\n",
       "            <td>617</td>\n",
       "            <td>China</td>\n",
       "        </tr>\n",
       "        <tr>\n",
       "            <td>1</td>\n",
       "            <td>1921</td>\n",
       "            <td>54</td>\n",
       "            <td>Armenia</td>\n",
       "        </tr>\n",
       "        <tr>\n",
       "            <td>1</td>\n",
       "            <td>1921</td>\n",
       "            <td>566</td>\n",
       "            <td>China</td>\n",
       "        </tr>\n",
       "        <tr>\n",
       "            <td>1</td>\n",
       "            <td>1921</td>\n",
       "            <td>128</td>\n",
       "            <td>Lebanon</td>\n",
       "        </tr>\n",
       "        <tr>\n",
       "            <td>1</td>\n",
       "            <td>1921</td>\n",
       "            <td>976</td>\n",
       "            <td>China</td>\n",
       "        </tr>\n",
       "        <tr>\n",
       "            <td>2</td>\n",
       "            <td>1907</td>\n",
       "            <td>353</td>\n",
       "            <td>Spain</td>\n",
       "        </tr>\n",
       "        <tr>\n",
       "            <td>3</td>\n",
       "            <td>1464</td>\n",
       "            <td>330</td>\n",
       "            <td>Denmark</td>\n",
       "        </tr>\n",
       "        <tr>\n",
       "            <td>3</td>\n",
       "            <td>1464</td>\n",
       "            <td>555</td>\n",
       "            <td>Denmark</td>\n",
       "        </tr>\n",
       "        <tr>\n",
       "            <td>4</td>\n",
       "            <td>206</td>\n",
       "            <td>960</td>\n",
       "            <td>Mexico</td>\n",
       "        </tr>\n",
       "    </tbody>\n",
       "</table>"
      ],
      "text/plain": [
       "[(0, 1866, 686, 'India'),\n",
       " (1, 1921, 617, 'China'),\n",
       " (1, 1921, 54, 'Armenia'),\n",
       " (1, 1921, 566, 'China'),\n",
       " (1, 1921, 128, 'Lebanon'),\n",
       " (1, 1921, 976, 'China'),\n",
       " (2, 1907, 353, 'Spain'),\n",
       " (3, 1464, 330, 'Denmark'),\n",
       " (3, 1464, 555, 'Denmark'),\n",
       " (4, 206, 960, 'Mexico')]"
      ]
     },
     "execution_count": 49,
     "metadata": {},
     "output_type": "execute_result"
    }
   ],
   "source": [
    "%sql SELECT * FROM orders LIMIT 10;"
   ]
  },
  {
   "cell_type": "code",
   "execution_count": 30,
   "metadata": {
    "colab": {
     "base_uri": "https://localhost:8080/",
     "height": 286
    },
    "colab_type": "code",
    "executionInfo": {
     "elapsed": 554,
     "status": "ok",
     "timestamp": 1567164317780,
     "user": {
      "displayName": "Xuan Tran",
      "photoUrl": "https://lh3.googleusercontent.com/a-/AAuE7mBW45ICLPcQ9CyZJ_9icM9HHDOAz0xEaeQlnK5yWQ=s64",
      "userId": "15297978446673195156"
     },
     "user_tz": -120
    },
    "id": "tt-q3Mj0QI12",
    "outputId": "ddaf0b30-ae76-4364-a0d0-8df8797dc37d"
   },
   "outputs": [
    {
     "name": "stdout",
     "output_type": "stream",
     "text": [
      " * sqlite:///testdb.db\n",
      "Done.\n"
     ]
    },
    {
     "data": {
      "text/html": [
       "<table>\n",
       "    <thead>\n",
       "        <tr>\n",
       "            <th>id</th>\n",
       "            <th>name</th>\n",
       "            <th>billing_country</th>\n",
       "        </tr>\n",
       "    </thead>\n",
       "    <tbody>\n",
       "        <tr>\n",
       "            <td>1</td>\n",
       "            <td>Serenity Ladner</td>\n",
       "            <td>Canada</td>\n",
       "        </tr>\n",
       "        <tr>\n",
       "            <td>2</td>\n",
       "            <td>Lucy Baldwin</td>\n",
       "            <td>Canada</td>\n",
       "        </tr>\n",
       "        <tr>\n",
       "            <td>7</td>\n",
       "            <td>Heidi Spurlock</td>\n",
       "            <td>Canada</td>\n",
       "        </tr>\n",
       "        <tr>\n",
       "            <td>10</td>\n",
       "            <td>Makenna Rojas</td>\n",
       "            <td>Canada</td>\n",
       "        </tr>\n",
       "        <tr>\n",
       "            <td>15</td>\n",
       "            <td>Lillian Strange</td>\n",
       "            <td>Canada</td>\n",
       "        </tr>\n",
       "        <tr>\n",
       "            <td>17</td>\n",
       "            <td>Erin Gorman</td>\n",
       "            <td>Canada</td>\n",
       "        </tr>\n",
       "        <tr>\n",
       "            <td>30</td>\n",
       "            <td>Amelia Kruger</td>\n",
       "            <td>Canada</td>\n",
       "        </tr>\n",
       "        <tr>\n",
       "            <td>32</td>\n",
       "            <td>Nicole Fitch</td>\n",
       "            <td>Canada</td>\n",
       "        </tr>\n",
       "        <tr>\n",
       "            <td>33</td>\n",
       "            <td>Reagan Floyd</td>\n",
       "            <td>Canada</td>\n",
       "        </tr>\n",
       "        <tr>\n",
       "            <td>34</td>\n",
       "            <td>Penelope Robinson</td>\n",
       "            <td>Canada</td>\n",
       "        </tr>\n",
       "    </tbody>\n",
       "</table>"
      ],
      "text/plain": [
       "[(1, 'Serenity Ladner', 'Canada'),\n",
       " (2, 'Lucy Baldwin', 'Canada'),\n",
       " (7, 'Heidi Spurlock', 'Canada'),\n",
       " (10, 'Makenna Rojas', 'Canada'),\n",
       " (15, 'Lillian Strange', 'Canada'),\n",
       " (17, 'Erin Gorman', 'Canada'),\n",
       " (30, 'Amelia Kruger', 'Canada'),\n",
       " (32, 'Nicole Fitch', 'Canada'),\n",
       " (33, 'Reagan Floyd', 'Canada'),\n",
       " (34, 'Penelope Robinson', 'Canada')]"
      ]
     },
     "execution_count": 30,
     "metadata": {},
     "output_type": "execute_result"
    }
   ],
   "source": [
    "# Using magic line %sql  to switch to sql syntax (CRUD operations)\n",
    "%sql SELECT * FROM customers WHERE billing_country = 'Canada'  LIMIT 10;\n"
   ]
  },
  {
   "cell_type": "code",
   "execution_count": 50,
   "metadata": {},
   "outputs": [
    {
     "name": "stdout",
     "output_type": "stream",
     "text": [
      " * sqlite:///testdb.db\n",
      "1 rows affected.\n"
     ]
    },
    {
     "data": {
      "text/plain": [
       "[]"
      ]
     },
     "execution_count": 50,
     "metadata": {},
     "output_type": "execute_result"
    }
   ],
   "source": [
    "# Insert a new entry into table 'customers'\n",
    "%sql INSERT INTO customers (id, name, billing_country) VALUES(11, 'Tran Thi Xuan', 'Vietnam');"
   ]
  },
  {
   "cell_type": "code",
   "execution_count": 51,
   "metadata": {},
   "outputs": [
    {
     "name": "stdout",
     "output_type": "stream",
     "text": [
      " * sqlite:///testdb.db\n",
      "Done.\n"
     ]
    },
    {
     "data": {
      "text/html": [
       "<table>\n",
       "    <thead>\n",
       "        <tr>\n",
       "            <th>id</th>\n",
       "            <th>name</th>\n",
       "            <th>billing_country</th>\n",
       "        </tr>\n",
       "    </thead>\n",
       "    <tbody>\n",
       "        <tr>\n",
       "            <td>11</td>\n",
       "            <td>Tran Thi Xuan</td>\n",
       "            <td>Vietnam</td>\n",
       "        </tr>\n",
       "    </tbody>\n",
       "</table>"
      ],
      "text/plain": [
       "[(11, 'Tran Thi Xuan', 'Vietnam')]"
      ]
     },
     "execution_count": 51,
     "metadata": {},
     "output_type": "execute_result"
    }
   ],
   "source": [
    "%sql SELECT * FROM customers WHERE name LIKE 'Tran Thi Xuan';"
   ]
  },
  {
   "cell_type": "code",
   "execution_count": 63,
   "metadata": {
    "colab": {},
    "colab_type": "code",
    "id": "pRWQ-IyzQsVC"
   },
   "outputs": [
    {
     "name": "stdout",
     "output_type": "stream",
     "text": [
      " * sqlite:///testdb.db\n",
      "Done.\n",
      "Returning data to local variable result\n"
     ]
    }
   ],
   "source": [
    "# Save the sql query results to a variable\n",
    " \n",
    "%sql result << SELECT orders.*, customers.name  FROM orders INNER JOIN customers ON orders.id = customers.id WHERE delivery_country = 'India'; "
   ]
  },
  {
   "cell_type": "code",
   "execution_count": 74,
   "metadata": {},
   "outputs": [
    {
     "data": {
      "text/html": [
       "<a href=\".\\files\\data/joined_data.csv\">CSV results</a>"
      ],
      "text/plain": [
       "CSV results at C:\\Users\\Admin\\Desktop\\notebooks\\Lesson02\\data/joined_data.csv"
      ]
     },
     "execution_count": 74,
     "metadata": {},
     "output_type": "execute_result"
    }
   ],
   "source": [
    " result.csv('data/joined_data.csv')"
   ]
  },
  {
   "cell_type": "code",
   "execution_count": 75,
   "metadata": {
    "colab": {},
    "colab_type": "code",
    "id": "6sXABpssT0gS"
   },
   "outputs": [],
   "source": [
    "# Read an sql table named \"sql_query\" into DataFrame\n",
    "df = pd.read_csv('data/joined_data.csv')"
   ]
  },
  {
   "cell_type": "code",
   "execution_count": 76,
   "metadata": {
    "colab": {
     "base_uri": "https://localhost:8080/",
     "height": 1000
    },
    "colab_type": "code",
    "executionInfo": {
     "elapsed": 559,
     "status": "ok",
     "timestamp": 1567165622191,
     "user": {
      "displayName": "Xuan Tran",
      "photoUrl": "https://lh3.googleusercontent.com/a-/AAuE7mBW45ICLPcQ9CyZJ_9icM9HHDOAz0xEaeQlnK5yWQ=s64",
      "userId": "15297978446673195156"
     },
     "user_tz": -120
    },
    "id": "hRP0tdaoT_WA",
    "outputId": "49d68253-5a7b-4106-b4a8-7cdde71f64e5"
   },
   "outputs": [
    {
     "data": {
      "text/html": [
       "<div>\n",
       "<style scoped>\n",
       "    .dataframe tbody tr th:only-of-type {\n",
       "        vertical-align: middle;\n",
       "    }\n",
       "\n",
       "    .dataframe tbody tr th {\n",
       "        vertical-align: top;\n",
       "    }\n",
       "\n",
       "    .dataframe thead th {\n",
       "        text-align: right;\n",
       "    }\n",
       "</style>\n",
       "<table border=\"1\" class=\"dataframe\">\n",
       "  <thead>\n",
       "    <tr style=\"text-align: right;\">\n",
       "      <th></th>\n",
       "      <th>id</th>\n",
       "      <th>customer_id</th>\n",
       "      <th>product_id</th>\n",
       "      <th>delivery_country</th>\n",
       "      <th>name</th>\n",
       "    </tr>\n",
       "  </thead>\n",
       "  <tbody>\n",
       "    <tr>\n",
       "      <th>0</th>\n",
       "      <td>68</td>\n",
       "      <td>1857</td>\n",
       "      <td>265</td>\n",
       "      <td>India</td>\n",
       "      <td>Hollye Thompson</td>\n",
       "    </tr>\n",
       "    <tr>\n",
       "      <th>1</th>\n",
       "      <td>201</td>\n",
       "      <td>1891</td>\n",
       "      <td>340</td>\n",
       "      <td>India</td>\n",
       "      <td>Geavonna Amado Benavides</td>\n",
       "    </tr>\n",
       "    <tr>\n",
       "      <th>2</th>\n",
       "      <td>201</td>\n",
       "      <td>1891</td>\n",
       "      <td>858</td>\n",
       "      <td>India</td>\n",
       "      <td>Geavonna Amado Benavides</td>\n",
       "    </tr>\n",
       "    <tr>\n",
       "      <th>3</th>\n",
       "      <td>209</td>\n",
       "      <td>839</td>\n",
       "      <td>456</td>\n",
       "      <td>India</td>\n",
       "      <td>Dominga Millan Santos</td>\n",
       "    </tr>\n",
       "    <tr>\n",
       "      <th>4</th>\n",
       "      <td>209</td>\n",
       "      <td>839</td>\n",
       "      <td>556</td>\n",
       "      <td>India</td>\n",
       "      <td>Dominga Millan Santos</td>\n",
       "    </tr>\n",
       "    <tr>\n",
       "      <th>5</th>\n",
       "      <td>209</td>\n",
       "      <td>839</td>\n",
       "      <td>667</td>\n",
       "      <td>India</td>\n",
       "      <td>Dominga Millan Santos</td>\n",
       "    </tr>\n",
       "    <tr>\n",
       "      <th>6</th>\n",
       "      <td>243</td>\n",
       "      <td>1898</td>\n",
       "      <td>474</td>\n",
       "      <td>India</td>\n",
       "      <td>Inez Estrada Malo</td>\n",
       "    </tr>\n",
       "    <tr>\n",
       "      <th>7</th>\n",
       "      <td>243</td>\n",
       "      <td>1898</td>\n",
       "      <td>341</td>\n",
       "      <td>India</td>\n",
       "      <td>Inez Estrada Malo</td>\n",
       "    </tr>\n",
       "    <tr>\n",
       "      <th>8</th>\n",
       "      <td>243</td>\n",
       "      <td>1898</td>\n",
       "      <td>223</td>\n",
       "      <td>India</td>\n",
       "      <td>Inez Estrada Malo</td>\n",
       "    </tr>\n",
       "    <tr>\n",
       "      <th>9</th>\n",
       "      <td>243</td>\n",
       "      <td>1898</td>\n",
       "      <td>946</td>\n",
       "      <td>India</td>\n",
       "      <td>Inez Estrada Malo</td>\n",
       "    </tr>\n",
       "    <tr>\n",
       "      <th>10</th>\n",
       "      <td>359</td>\n",
       "      <td>1882</td>\n",
       "      <td>584</td>\n",
       "      <td>India</td>\n",
       "      <td>Nikola Takacs</td>\n",
       "    </tr>\n",
       "    <tr>\n",
       "      <th>11</th>\n",
       "      <td>359</td>\n",
       "      <td>1882</td>\n",
       "      <td>359</td>\n",
       "      <td>India</td>\n",
       "      <td>Nikola Takacs</td>\n",
       "    </tr>\n",
       "    <tr>\n",
       "      <th>12</th>\n",
       "      <td>371</td>\n",
       "      <td>1898</td>\n",
       "      <td>635</td>\n",
       "      <td>India</td>\n",
       "      <td>Theresa Feher</td>\n",
       "    </tr>\n",
       "    <tr>\n",
       "      <th>13</th>\n",
       "      <td>376</td>\n",
       "      <td>815</td>\n",
       "      <td>378</td>\n",
       "      <td>India</td>\n",
       "      <td>Kristina Hovath</td>\n",
       "    </tr>\n",
       "    <tr>\n",
       "      <th>14</th>\n",
       "      <td>376</td>\n",
       "      <td>815</td>\n",
       "      <td>482</td>\n",
       "      <td>India</td>\n",
       "      <td>Kristina Hovath</td>\n",
       "    </tr>\n",
       "    <tr>\n",
       "      <th>15</th>\n",
       "      <td>403</td>\n",
       "      <td>1894</td>\n",
       "      <td>968</td>\n",
       "      <td>India</td>\n",
       "      <td>Agnes Korhonen</td>\n",
       "    </tr>\n",
       "    <tr>\n",
       "      <th>16</th>\n",
       "      <td>403</td>\n",
       "      <td>1894</td>\n",
       "      <td>576</td>\n",
       "      <td>India</td>\n",
       "      <td>Agnes Korhonen</td>\n",
       "    </tr>\n",
       "    <tr>\n",
       "      <th>17</th>\n",
       "      <td>575</td>\n",
       "      <td>1858</td>\n",
       "      <td>17</td>\n",
       "      <td>India</td>\n",
       "      <td>Maram Madani</td>\n",
       "    </tr>\n",
       "    <tr>\n",
       "      <th>18</th>\n",
       "      <td>575</td>\n",
       "      <td>1858</td>\n",
       "      <td>680</td>\n",
       "      <td>India</td>\n",
       "      <td>Maram Madani</td>\n",
       "    </tr>\n",
       "    <tr>\n",
       "      <th>19</th>\n",
       "      <td>575</td>\n",
       "      <td>1858</td>\n",
       "      <td>865</td>\n",
       "      <td>India</td>\n",
       "      <td>Maram Madani</td>\n",
       "    </tr>\n",
       "    <tr>\n",
       "      <th>20</th>\n",
       "      <td>594</td>\n",
       "      <td>1885</td>\n",
       "      <td>313</td>\n",
       "      <td>India</td>\n",
       "      <td>Mariam Alam</td>\n",
       "    </tr>\n",
       "    <tr>\n",
       "      <th>21</th>\n",
       "      <td>598</td>\n",
       "      <td>1877</td>\n",
       "      <td>462</td>\n",
       "      <td>India</td>\n",
       "      <td>Arub Estilidaei</td>\n",
       "    </tr>\n",
       "    <tr>\n",
       "      <th>22</th>\n",
       "      <td>676</td>\n",
       "      <td>1861</td>\n",
       "      <td>792</td>\n",
       "      <td>India</td>\n",
       "      <td>Agam Adrei</td>\n",
       "    </tr>\n",
       "    <tr>\n",
       "      <th>23</th>\n",
       "      <td>676</td>\n",
       "      <td>1861</td>\n",
       "      <td>56</td>\n",
       "      <td>India</td>\n",
       "      <td>Agam Adrei</td>\n",
       "    </tr>\n",
       "    <tr>\n",
       "      <th>24</th>\n",
       "      <td>676</td>\n",
       "      <td>1861</td>\n",
       "      <td>707</td>\n",
       "      <td>India</td>\n",
       "      <td>Agam Adrei</td>\n",
       "    </tr>\n",
       "    <tr>\n",
       "      <th>25</th>\n",
       "      <td>676</td>\n",
       "      <td>1861</td>\n",
       "      <td>389</td>\n",
       "      <td>India</td>\n",
       "      <td>Agam Adrei</td>\n",
       "    </tr>\n",
       "    <tr>\n",
       "      <th>26</th>\n",
       "      <td>721</td>\n",
       "      <td>1898</td>\n",
       "      <td>651</td>\n",
       "      <td>India</td>\n",
       "      <td>Ayana Sow</td>\n",
       "    </tr>\n",
       "    <tr>\n",
       "      <th>27</th>\n",
       "      <td>721</td>\n",
       "      <td>1898</td>\n",
       "      <td>136</td>\n",
       "      <td>India</td>\n",
       "      <td>Ayana Sow</td>\n",
       "    </tr>\n",
       "    <tr>\n",
       "      <th>28</th>\n",
       "      <td>745</td>\n",
       "      <td>1870</td>\n",
       "      <td>264</td>\n",
       "      <td>India</td>\n",
       "      <td>Shakila Cisse</td>\n",
       "    </tr>\n",
       "    <tr>\n",
       "      <th>29</th>\n",
       "      <td>745</td>\n",
       "      <td>1870</td>\n",
       "      <td>948</td>\n",
       "      <td>India</td>\n",
       "      <td>Shakila Cisse</td>\n",
       "    </tr>\n",
       "    <tr>\n",
       "      <th>30</th>\n",
       "      <td>745</td>\n",
       "      <td>1870</td>\n",
       "      <td>759</td>\n",
       "      <td>India</td>\n",
       "      <td>Shakila Cisse</td>\n",
       "    </tr>\n",
       "    <tr>\n",
       "      <th>31</th>\n",
       "      <td>748</td>\n",
       "      <td>1883</td>\n",
       "      <td>870</td>\n",
       "      <td>India</td>\n",
       "      <td>Yoruba Demoz</td>\n",
       "    </tr>\n",
       "    <tr>\n",
       "      <th>32</th>\n",
       "      <td>748</td>\n",
       "      <td>1883</td>\n",
       "      <td>845</td>\n",
       "      <td>India</td>\n",
       "      <td>Yoruba Demoz</td>\n",
       "    </tr>\n",
       "    <tr>\n",
       "      <th>33</th>\n",
       "      <td>853</td>\n",
       "      <td>1876</td>\n",
       "      <td>901</td>\n",
       "      <td>India</td>\n",
       "      <td>Xiang Wen-jing</td>\n",
       "    </tr>\n",
       "    <tr>\n",
       "      <th>34</th>\n",
       "      <td>853</td>\n",
       "      <td>1876</td>\n",
       "      <td>735</td>\n",
       "      <td>India</td>\n",
       "      <td>Xiang Wen-jing</td>\n",
       "    </tr>\n",
       "    <tr>\n",
       "      <th>35</th>\n",
       "      <td>853</td>\n",
       "      <td>1876</td>\n",
       "      <td>844</td>\n",
       "      <td>India</td>\n",
       "      <td>Xiang Wen-jing</td>\n",
       "    </tr>\n",
       "    <tr>\n",
       "      <th>36</th>\n",
       "      <td>858</td>\n",
       "      <td>1863</td>\n",
       "      <td>143</td>\n",
       "      <td>India</td>\n",
       "      <td>Hou Feng-ying</td>\n",
       "    </tr>\n",
       "    <tr>\n",
       "      <th>37</th>\n",
       "      <td>858</td>\n",
       "      <td>1863</td>\n",
       "      <td>994</td>\n",
       "      <td>India</td>\n",
       "      <td>Hou Feng-ying</td>\n",
       "    </tr>\n",
       "    <tr>\n",
       "      <th>38</th>\n",
       "      <td>997</td>\n",
       "      <td>1866</td>\n",
       "      <td>735</td>\n",
       "      <td>India</td>\n",
       "      <td>Bang Seong-shin</td>\n",
       "    </tr>\n",
       "    <tr>\n",
       "      <th>39</th>\n",
       "      <td>997</td>\n",
       "      <td>1866</td>\n",
       "      <td>990</td>\n",
       "      <td>India</td>\n",
       "      <td>Bang Seong-shin</td>\n",
       "    </tr>\n",
       "  </tbody>\n",
       "</table>\n",
       "</div>"
      ],
      "text/plain": [
       "     id  customer_id  product_id delivery_country                      name\n",
       "0    68         1857         265            India           Hollye Thompson\n",
       "1   201         1891         340            India  Geavonna Amado Benavides\n",
       "2   201         1891         858            India  Geavonna Amado Benavides\n",
       "3   209          839         456            India     Dominga Millan Santos\n",
       "4   209          839         556            India     Dominga Millan Santos\n",
       "5   209          839         667            India     Dominga Millan Santos\n",
       "6   243         1898         474            India         Inez Estrada Malo\n",
       "7   243         1898         341            India         Inez Estrada Malo\n",
       "8   243         1898         223            India         Inez Estrada Malo\n",
       "9   243         1898         946            India         Inez Estrada Malo\n",
       "10  359         1882         584            India             Nikola Takacs\n",
       "11  359         1882         359            India             Nikola Takacs\n",
       "12  371         1898         635            India             Theresa Feher\n",
       "13  376          815         378            India           Kristina Hovath\n",
       "14  376          815         482            India           Kristina Hovath\n",
       "15  403         1894         968            India            Agnes Korhonen\n",
       "16  403         1894         576            India            Agnes Korhonen\n",
       "17  575         1858          17            India              Maram Madani\n",
       "18  575         1858         680            India              Maram Madani\n",
       "19  575         1858         865            India              Maram Madani\n",
       "20  594         1885         313            India               Mariam Alam\n",
       "21  598         1877         462            India           Arub Estilidaei\n",
       "22  676         1861         792            India                Agam Adrei\n",
       "23  676         1861          56            India                Agam Adrei\n",
       "24  676         1861         707            India                Agam Adrei\n",
       "25  676         1861         389            India                Agam Adrei\n",
       "26  721         1898         651            India                 Ayana Sow\n",
       "27  721         1898         136            India                 Ayana Sow\n",
       "28  745         1870         264            India             Shakila Cisse\n",
       "29  745         1870         948            India             Shakila Cisse\n",
       "30  745         1870         759            India             Shakila Cisse\n",
       "31  748         1883         870            India              Yoruba Demoz\n",
       "32  748         1883         845            India              Yoruba Demoz\n",
       "33  853         1876         901            India            Xiang Wen-jing\n",
       "34  853         1876         735            India            Xiang Wen-jing\n",
       "35  853         1876         844            India            Xiang Wen-jing\n",
       "36  858         1863         143            India             Hou Feng-ying\n",
       "37  858         1863         994            India             Hou Feng-ying\n",
       "38  997         1866         735            India           Bang Seong-shin\n",
       "39  997         1866         990            India           Bang Seong-shin"
      ]
     },
     "execution_count": 76,
     "metadata": {},
     "output_type": "execute_result"
    }
   ],
   "source": [
    "df"
   ]
  },
  {
   "cell_type": "code",
   "execution_count": 83,
   "metadata": {
    "colab": {},
    "colab_type": "code",
    "id": "6nTYNeB6UAAs"
   },
   "outputs": [
    {
     "name": "stdout",
     "output_type": "stream",
     "text": [
      "   id  price\n",
      "0   0  21.78\n",
      "1   1  18.48\n",
      "2   2  24.17\n",
      "3   3  29.71\n",
      "4   4  20.12\n",
      "5   5  27.55\n",
      "6   6  14.90\n",
      "7   7  26.75\n",
      "8   8  21.49\n",
      "9   9  26.35\n"
     ]
    }
   ],
   "source": [
    "# use pythonic syntax and pandas read_sql \n",
    "#to read output of an sql command into adata frame\n",
    "product_query = 'select * from products where id <=100; '\n",
    "df_from_db = pd.read_sql(product_query, conn)\n",
    "print(df_from_db.head(10))"
   ]
  },
  {
   "cell_type": "markdown",
   "metadata": {},
   "source": [
    "# Bài tập thực hành\n"
   ]
  },
  {
   "cell_type": "markdown",
   "metadata": {},
   "source": [
    "Bài 1. Hãy tạo 1 bảng có tên \"company\" trong database \"testdb.db\" với các trường thông tin (id: int; name: text; product_id: int; country: text)"
   ]
  },
  {
   "cell_type": "markdown",
   "metadata": {},
   "source": [
    "Bài 2. Hãy thêm 3 thực thể (entity) vào bảng có tên \"company\" trong database \"testdb.db\";"
   ]
  },
  {
   "cell_type": "markdown",
   "metadata": {},
   "source": [
    "Bài 3. Tạo 1 database có tên \"testdb2\""
   ]
  },
  {
   "cell_type": "markdown",
   "metadata": {},
   "source": [
    "Bài 4.Hãy đọc file `salaries.csv` vào pandas dataframe. Tải dataframe vào database \"`testdb2`\" và đặt tên bảng `salaries_tab`."
   ]
  },
  {
   "cell_type": "markdown",
   "metadata": {},
   "source": [
    "Bài 5. Xem 10 hàng đầu tiên của bảng `salaries_tab` "
   ]
  },
  {
   "cell_type": "markdown",
   "metadata": {},
   "source": [
    "Bài 6. \n",
    "a. Hãy hiển thị thông tin Họ tên, nghề nghiệp của những nhân viên có mức lương cơ bản (BasePay) trên 200000. \n",
    "\n",
    "b. Hãy lưu thông tin Họ tên, nghề nghiệp, tên công ty (agency) của 100 nhân viên có mức lương tổng (TotalPayBenefits) cao nhất vào biến cục bộ `saved_results` và đọc kết quả về file `saved_results.csv`\n"
   ]
  },
  {
   "cell_type": "markdown",
   "metadata": {},
   "source": [
    "Bài 7. Hãy đọc kết quả của truy vấn sql các thông tin Họ tên, nghề nghiệp, công ty của những nhân viên có mức lương tổng(TotalPayBenefits) dưới 100000 và lưu vào Pandas dataframe.\n",
    "Hiển thị 5 dòng đầu của dataframe đó và đếm số lượng nhân viên."
   ]
  },
  {
   "cell_type": "code",
   "execution_count": null,
   "metadata": {},
   "outputs": [],
   "source": []
  }
 ],
 "metadata": {
  "colab": {
   "collapsed_sections": [],
   "name": "DataFile-Loading-and-to-SQL-table.ipynb",
   "provenance": [],
   "version": "0.3.2"
  },
  "kernelspec": {
   "display_name": "Python 3 (ipykernel)",
   "language": "python",
   "name": "python3"
  },
  "language_info": {
   "codemirror_mode": {
    "name": "ipython",
    "version": 3
   },
   "file_extension": ".py",
   "mimetype": "text/x-python",
   "name": "python",
   "nbconvert_exporter": "python",
   "pygments_lexer": "ipython3",
   "version": "3.9.13"
  }
 },
 "nbformat": 4,
 "nbformat_minor": 4
}
