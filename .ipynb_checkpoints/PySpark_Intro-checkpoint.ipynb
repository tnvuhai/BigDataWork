{
 "cells": [
  {
   "cell_type": "code",
   "execution_count": 2,
   "metadata": {
    "id": "nKeCgNOUbUKA"
   },
   "outputs": [],
   "source": [
    "from pyspark.sql import SparkSession"
   ]
  },
  {
   "cell_type": "code",
   "execution_count": 4,
   "metadata": {},
   "outputs": [
    {
     "data": {
      "text/html": [
       "\n",
       "            <div>\n",
       "                <p><b>SparkSession - in-memory</b></p>\n",
       "                \n",
       "        <div>\n",
       "            <p><b>SparkContext</b></p>\n",
       "\n",
       "            <p><a href=\"http://Admin:4041\">Spark UI</a></p>\n",
       "\n",
       "            <dl>\n",
       "              <dt>Version</dt>\n",
       "                <dd><code>v3.2.1</code></dd>\n",
       "              <dt>Master</dt>\n",
       "                <dd><code>local[*]</code></dd>\n",
       "              <dt>AppName</dt>\n",
       "                <dd><code>StudentAnalysis</code></dd>\n",
       "            </dl>\n",
       "        </div>\n",
       "        \n",
       "            </div>\n",
       "        "
      ],
      "text/plain": [
       "<pyspark.sql.session.SparkSession at 0x24f739ac790>"
      ]
     },
     "execution_count": 4,
     "metadata": {},
     "output_type": "execute_result"
    }
   ],
   "source": [
    "# Create a SparkSession\n",
    "spark = SparkSession.builder.appName(\"Analysis\").getOrCreate()\n",
    "spark"
   ]
  },
  {
   "cell_type": "code",
   "execution_count": 17,
   "metadata": {},
   "outputs": [
    {
     "name": "stdout",
     "output_type": "stream",
     "text": [
      "DataFrame[id: string, name: string, billing_country: string]\n",
      "Dtypes: \n",
      "Schema: \n",
      "root\n",
      " |-- id: string (nullable = true)\n",
      " |-- name: string (nullable = true)\n",
      " |-- billing_country: string (nullable = true)\n",
      "\n",
      "Hiển thị 20 dòng đầu tiên:\n",
      "+---+------------------+---------------+\n",
      "| id|              name|billing_country|\n",
      "+---+------------------+---------------+\n",
      "|  1|   Serenity Ladner|         Canada|\n",
      "|  2|      Lucy Baldwin|         Canada|\n",
      "|  5|    Skylar Coffman|            USA|\n",
      "|  6|      Riley Kinsey|            USA|\n",
      "|  7|    Heidi Spurlock|         Canada|\n",
      "| 10|     Makenna Rojas|         Canada|\n",
      "| 15|   Lillian Strange|         Canada|\n",
      "| 17|       Erin Gorman|         Canada|\n",
      "| 18|        Abigail Le|            USA|\n",
      "| 22|      Alana Herzog|            USA|\n",
      "| 30|     Amelia Kruger|         Canada|\n",
      "| 31|   Katherine Lilly|            USA|\n",
      "| 32|      Nicole Fitch|         Canada|\n",
      "| 33|      Reagan Floyd|         Canada|\n",
      "| 34| Penelope Robinson|         Canada|\n",
      "| 41|    Crystal Barney|         Canada|\n",
      "| 46|Guadalupe Childers|         Canada|\n",
      "| 49|       Amelia Sosa|            USA|\n",
      "| 53|     Hillary Davis|             UK|\n",
      "| 56|     Ethel Edwards|             UK|\n",
      "+---+------------------+---------------+\n",
      "only showing top 20 rows\n",
      "\n",
      "Hiển thị 5 dòng đầu tiên:\n",
      "Hiển thị mô tả thống kê: \n",
      "+-------+------------------+--------------+---------------+\n",
      "|summary|                id|          name|billing_country|\n",
      "+-------+------------------+--------------+---------------+\n",
      "|  count|               519|           519|            519|\n",
      "|   mean|1073.1888246628132|          null|           null|\n",
      "| stddev| 605.9826180579643|          null|           null|\n",
      "|    min|                 1|Aada Magnusson|        Albania|\n",
      "|    max|               997|   Zwana Desta|       Zimbabwe|\n",
      "+-------+------------------+--------------+---------------+\n",
      "\n"
     ]
    }
   ],
   "source": [
    "# Load the data from a file into a DataFrame\n",
    "customer_df = spark.read.format('csv') \\\n",
    "                .option(\"header\", \"true\") \\\n",
    "                .load(\"data/customers.csv\")\n",
    "\n",
    "# In dataframe\n",
    "print(customer_df)\n",
    "\n",
    "# Hiển thị loại dữ liệu từng trường thông tin\n",
    "print(\"Dtypes: \" % customer_df.dtypes)\n",
    " \n",
    "print(\"Schema: \")\n",
    "customer_df.printSchema()\n",
    " \n",
    "print(\"Hiển thị 20 dòng đầu tiên:\")\n",
    "customer_df.show()\n",
    "\n",
    "print(\"Hiển thị 5 dòng đầu tiên:\")\n",
    "customer_df.head(3)\n",
    "\n",
    "\n",
    "print(\"Hiển thị mô tả thống kê: \")\n",
    "customer_df.describe().show()\n",
    "     "
   ]
  },
  {
   "cell_type": "code",
   "execution_count": 22,
   "metadata": {},
   "outputs": [
    {
     "data": {
      "text/plain": [
       "[Row(name='Dang Sinh', billing_country='Vietnam'),\n",
       " Row(name='Pham Phuc', billing_country='Vietnam'),\n",
       " Row(name='Bui Tuan', billing_country='Vietnam'),\n",
       " Row(name='Ngo Vuong', billing_country='Vietnam'),\n",
       " Row(name='Phan Thinh', billing_country='Vietnam')]"
      ]
     },
     "execution_count": 22,
     "metadata": {},
     "output_type": "execute_result"
    }
   ],
   "source": [
    "# Truy cập một cột/trường thông tin\n",
    "customer_df.select(['name','billing_country']).show()"
   ]
  },
  {
   "cell_type": "code",
   "execution_count": null,
   "metadata": {},
   "outputs": [],
   "source": [
    "# Truy cập một dải thông tin cột/trường thông tin dùng head/tail\n",
    "customer_df.select(['name','billing_country']).head(5)"
   ]
  },
  {
   "cell_type": "code",
   "execution_count": 30,
   "metadata": {},
   "outputs": [],
   "source": [
    "# Perform the analysis the location of customers\n",
    "result = customer_data.groupBy(\"billing_country\").count()"
   ]
  },
  {
   "cell_type": "code",
   "execution_count": 31,
   "metadata": {},
   "outputs": [
    {
     "name": "stdout",
     "output_type": "stream",
     "text": [
      "+---------------+-----+\n",
      "|billing_country|count|\n",
      "+---------------+-----+\n",
      "|         Russia|   30|\n",
      "|          Yemen|    7|\n",
      "|         Sweden|    7|\n",
      "|        Eritrea|    1|\n",
      "|       Djibouti|    3|\n",
      "|         Turkey|   13|\n",
      "|         Malawi|    1|\n",
      "|           Iraq|    1|\n",
      "|        Germany|   30|\n",
      "|         Jordan|    4|\n",
      "|    Ivory Coast|    1|\n",
      "|         France|   13|\n",
      "|        Algeria|    5|\n",
      "|       Slovakia|    2|\n",
      "|         Angola|    2|\n",
      "|          Qatar|    3|\n",
      "|        Lesotho|    2|\n",
      "|        Albania|    1|\n",
      "|     Madagascar|    1|\n",
      "|        Finland|    9|\n",
      "+---------------+-----+\n",
      "only showing top 20 rows\n",
      "\n"
     ]
    }
   ],
   "source": [
    "# Show the result\n",
    "result.show()"
   ]
  },
  {
   "cell_type": "code",
   "execution_count": 26,
   "metadata": {},
   "outputs": [
    {
     "name": "stdout",
     "output_type": "stream",
     "text": [
      "DataFrame[id: string, customer_id: string, product_id: string, delivery_country: string]\n"
     ]
    }
   ],
   "source": [
    "# Load the order data\n",
    "order_data = spark.read.format('csv').option(\"header\", \"true\").load(\"data/orders.csv\")\n",
    "print(order_data)\n",
    "\n"
   ]
  },
  {
   "cell_type": "code",
   "execution_count": 34,
   "metadata": {},
   "outputs": [
    {
     "name": "stdout",
     "output_type": "stream",
     "text": [
      "+---+-----------+----------+----------------+\n",
      "| id|customer_id|product_id|delivery_country|\n",
      "+---+-----------+----------+----------------+\n",
      "| 52|          6|       599|          Malawi|\n",
      "|146|          5|       263|             USA|\n",
      "|146|          5|       688|             USA|\n",
      "|146|          5|       293|             USA|\n",
      "|146|          5|       864|             USA|\n",
      "|189|          1|       307|          Canada|\n",
      "|189|          1|       508|          Poland|\n",
      "|391|          5|       635|  Czech Republic|\n",
      "|391|          5|       380|             USA|\n",
      "|391|          5|       497|        Slovenia|\n",
      "|562|          6|       916|         Ukraine|\n",
      "|562|          6|        11|             USA|\n",
      "|562|          6|       643|             USA|\n",
      "|622|          6|       399|             USA|\n",
      "|622|          6|       840|             USA|\n",
      "|622|          6|       794|             USA|\n",
      "|622|          6|       858|         Tunisia|\n",
      "|622|          6|       363|             USA|\n",
      "|622|          6|       707|             USA|\n",
      "|818|         10|       778|          Canada|\n",
      "+---+-----------+----------+----------------+\n",
      "only showing top 20 rows\n",
      "\n"
     ]
    }
   ],
   "source": [
    "# Lọc dữ liệu:\n",
    "# Lọc các order có customer_id <= 10\n",
    "order_data.filter(\"customer_id <= 10\").show()"
   ]
  },
  {
   "cell_type": "code",
   "execution_count": 32,
   "metadata": {},
   "outputs": [
    {
     "name": "stdout",
     "output_type": "stream",
     "text": [
      "+----+--------+---------------+---+-----------+----------+----------------+\n",
      "|  id|    name|billing_country| id|customer_id|product_id|delivery_country|\n",
      "+----+--------+---------------+---+-----------+----------+----------------+\n",
      "|1008|Bui Thom|        Vietnam| 14|       1008|       313|         Vietnam|\n",
      "|1008|Bui Thom|        Vietnam| 14|       1008|       195|          Guinea|\n",
      "|1008|Bui Thom|        Vietnam| 14|       1008|       758|         Vietnam|\n",
      "|2084|Bui Tuan|        Vietnam| 25|       2084|       398|         Vietnam|\n",
      "|2084|Bui Tuan|        Vietnam| 25|       2084|       851|         Vietnam|\n",
      "+----+--------+---------------+---+-----------+----------+----------------+\n",
      "only showing top 5 rows\n",
      "\n"
     ]
    }
   ],
   "source": [
    "# Phân tích trên tập dataframe. \n",
    "# Lọc khách hàng từ Vietnam, gộp thông tin 2 bảng orders và customers dựa vào id. \n",
    "joined_df = customer_df.filter(customer_df.billing_country == \"Vietnam\")\\\n",
    "             .join(order_data,order_data.customer_id == customer_df.id) \n",
    "joined_df.show(5)"
   ]
  },
  {
   "cell_type": "code",
   "execution_count": 30,
   "metadata": {},
   "outputs": [
    {
     "name": "stdout",
     "output_type": "stream",
     "text": [
      "root\n",
      " |-- id: string (nullable = true)\n",
      " |-- name: string (nullable = true)\n",
      " |-- billing_country: string (nullable = true)\n",
      " |-- id: string (nullable = true)\n",
      " |-- product_id: string (nullable = true)\n",
      " |-- delivery_country: string (nullable = true)\n",
      "\n"
     ]
    }
   ],
   "source": [
    "# Xóa bỏ 1 cột thông tin\n",
    "joined_df.drop(\"customer_id\").printSchema()\n"
   ]
  },
  {
   "cell_type": "code",
   "execution_count": null,
   "metadata": {},
   "outputs": [],
   "source": [
    "# Lọc dữ liệu: \n",
    "\n",
    "Hiển thị "
   ]
  },
  {
   "cell_type": "code",
   "execution_count": 37,
   "metadata": {},
   "outputs": [],
   "source": [
    "# Stop the SparkSession\n",
    "spark.stop()"
   ]
  },
  {
   "cell_type": "markdown",
   "metadata": {},
   "source": [
    "### Bài tập thực hành\n",
    "\n"
   ]
  },
  {
   "cell_type": "markdown",
   "metadata": {},
   "source": [
    "1.  Đọc file products.csv trên vào 1 dataframe có tên product_df.\n",
    "\n",
    "a. Hiển thị schema, 10 dòng đầu và 10 dòng cuối của product_df\n",
    "\n",
    "b. Hiển thị thống kê của product_df\n",
    "\n",
    "c. Hiển thị số lượng đơn hàng của mỗi khách hàng theo tên trong customer_df\n",
    "\n",
    "d. Hãy gộp 2 dataframe product_df và order_data thành dataframe có tên order_product với các thông tin customer_id, product_id, price, delivery_country.\n",
    "\n",
    "e. Hãy gộp 2 dataframe order_product và customer_data với các thông tin name, id, product_id, price, billing_country, delivery_country.\n",
    "\n",
    "f. Hãy gộp 2 dataframe order_product và customer_data với các thông tin name, id, product_id, price, delivery_country khi giao hàng trong nước (delivery_country = billing_country)\n"
   ]
  },
  {
   "cell_type": "markdown",
   "metadata": {},
   "source": [
    "Bài 2. Tạo 1 ứng dụng Spark tên \"practice_02\" để đọc tệp \"Salaries.csv\" vào Pyspark DataFrame.\n",
    "\n",
    "a)Xóa các cột không có thông tin trong df\n",
    "\n",
    "b) Hiển thị thống kê của df\n",
    "\n",
    "c) Xóa các dòng có tiền lương tổng (TotalPay) <=0\n",
    "\n",
    "d) Điền giá trị 0 vào các ô thiếu dữ liệu.\n",
    "\n",
    "e) Hiển thị tên và nghề nghiệp những người có tổng lương < 50000"
   ]
  },
  {
   "cell_type": "code",
   "execution_count": null,
   "metadata": {},
   "outputs": [],
   "source": []
  }
 ],
 "metadata": {
  "colab": {
   "provenance": []
  },
  "kernelspec": {
   "display_name": "Python 3 (ipykernel)",
   "language": "python",
   "name": "python3"
  },
  "language_info": {
   "codemirror_mode": {
    "name": "ipython",
    "version": 3
   },
   "file_extension": ".py",
   "mimetype": "text/x-python",
   "name": "python",
   "nbconvert_exporter": "python",
   "pygments_lexer": "ipython3",
   "version": "3.9.13"
  }
 },
 "nbformat": 4,
 "nbformat_minor": 1
}
