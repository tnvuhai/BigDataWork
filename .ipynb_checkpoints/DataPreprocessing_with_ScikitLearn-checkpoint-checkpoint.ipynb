{
 "cells": [
  {
   "attachments": {
    "ml_preprocessing.png": {
     "image/png": "[encoded data removed]"
    }
   },
   "cell_type": "markdown",
   "id": "c31f5793",
   "metadata": {},
   "source": [
    "# TIỀN XỬ LÝ DỮ LIỆU\n",
    "\n",
    "\n",
    "• Tiền xử lý đề cập đến các phép biến đổi được áp dụng cho dữ liệu của chúng ta trước khi đưa nó vào thuật toán học máy\n",
    "\n",
    "• Tiền xử lý dữ liệu là một kỹ thuật được sử dụng để chuyển đổi dữ liệu thô thành một tập dữ liệu sạch. Nói cách khác, bất cứ khi nào dữ liệu được thu thập từ các nguồn khác nhau, nó được thu thập ở định dạng thô không khả thi cho việc phân tích.\n",
    "![ml_preprocessing.png](attachment:ml_preprocessing.png)\n",
    "\n",
    "\n",
    "**Một số hoạt động tiền xử lý dữ liệu:**\n",
    "\n",
    "- Dữ liệu bị thiếu: Xóa, sửa và gán cho dữ liệu bị thiếu\n",
    "\n",
    "- Kỹ thuật Đặc trưng: Suy ra các tính năng bổ sung từ dữ liệu thô\n",
    "\n",
    "- Định dạng dữ liệu: Dữ liệu có thể không ở định dạng mà bạn cần. Ví dụ: API Scikit-learning yêu cầu dữ liệu phải là một mảng Numpy hoặc một Pandas Dataframe.\n",
    "\n",
    "- Chia tỷ lệ dữ liệu: Dữ liệu có thể không có cùng tỷ lệ. Chẳng hạn, kilogam và pound có thể được đặt trên cùng một thang điểm từ 0 đến 1.\n",
    "\n",
    "- Phân tách: ví dụ chỉ giữ giờ trong ngày kể từ ngày giờ\n",
    "\n",
    "- Tổng hợp dữ liệu"
   ]
  },
  {
   "cell_type": "markdown",
   "id": "87cf830e",
   "metadata": {},
   "source": [
    "**Lưu ý một số các yêu cầu của Scikit-learn API:**\n",
    "   \n",
    "  - dữ liệu được lưu trữ dưới dạng mảng Numpy hoặc Pandas Dataframe\n",
    "  - giá trị liên tục (không có biến phân loại)\n",
    "  - không thiếu giá trị\n",
    "  - mỗi cột phải là một biến dự đoán (hoặc đặc trưng) duy nhất\n",
    "  - mỗi hàng phải là một đối tượng (observation) của đặc trưng\n",
    "  - Có nhiều nhãn khi có nhiều đối tượng về một tính năng"
   ]
  },
  {
   "cell_type": "markdown",
   "id": "1363798a",
   "metadata": {},
   "source": [
    "Trong bài thực hành này, chúng ta sẽ sử dụng bộ dữ liệu 'Titanic' để thực hiện tiền xử lý dữ liệu trong một dự án tích hợp với Scikit-learn.\n",
    "\n",
    "Các bước tiền xử lý:\n",
    "\n",
    "- Tải dữ liệu với Scikit-learn \n",
    "- Phân tích thăm dò dữ liệu \n",
    "- Xử lý các giá trị bị thiếu\n",
    "- Suy ra các đặc trưng (feature) mới với kỹ thuật đặc trưng\n",
    "- Mã hóa các đặc trưng phân loại\n",
    "- Điều chỉnh/Chuẩn hóa các đặc trưng số\n",
    "\n",
    " "
   ]
  },
  {
   "cell_type": "markdown",
   "id": "58e9cc34",
   "metadata": {},
   "source": [
    "  Tải dữ liệu `titanic` dùng hàm `fetch_openml()`."
   ]
  },
  {
   "cell_type": "code",
   "execution_count": 39,
   "id": "e0e4728b",
   "metadata": {
    "scrolled": true
   },
   "outputs": [
    {
     "name": "stdout",
     "output_type": "stream",
     "text": [
      "   pclass                            name     sex      age  sibsp  parch  \\\n",
      "0     1.0   Allen, Miss. Elisabeth Walton  female  29.0000    0.0    0.0   \n",
      "1     1.0  Allison, Master. Hudson Trevor    male   0.9167    1.0    2.0   \n",
      "2     1.0    Allison, Miss. Helen Loraine  female   2.0000    1.0    2.0   \n",
      "\n",
      "   ticket      fare    cabin embarked  boat  body  \\\n",
      "0   24160  211.3375       B5        S     2   NaN   \n",
      "1  113781  151.5500  C22 C26        S    11   NaN   \n",
      "2  113781  151.5500  C22 C26        S  None   NaN   \n",
      "\n",
      "                         home.dest  \n",
      "0                     St Louis, MO  \n",
      "1  Montreal, PQ / Chesterville, ON  \n",
      "2  Montreal, PQ / Chesterville, ON  \n",
      "(1309, 13)\n"
     ]
    }
   ],
   "source": [
    "import pandas as pd\n",
    "from sklearn.datasets import fetch_openml\n",
    " \n",
    "df = fetch_openml('titanic', version=1, as_frame=True)['data']\n",
    "print(df.head(3))\n",
    "print(df.shape)"
   ]
  },
  {
   "cell_type": "markdown",
   "id": "06f2d51a",
   "metadata": {},
   "source": [
    "Bước 1. Thực hiện phân tích thăm dò dữ liệu\n",
    "\n",
    "- Hiển thị thông tin để xem các dữ liệu thiếu giá trị\n"
   ]
  },
  {
   "cell_type": "code",
   "execution_count": 14,
   "id": "70e7c7b5",
   "metadata": {
    "scrolled": true
   },
   "outputs": [
    {
     "name": "stdout",
     "output_type": "stream",
     "text": [
      "<class 'pandas.core.frame.DataFrame'>\n",
      "RangeIndex: 1309 entries, 0 to 1308\n",
      "Data columns (total 13 columns):\n",
      " #   Column     Non-Null Count  Dtype   \n",
      "---  ------     --------------  -----   \n",
      " 0   pclass     1309 non-null   float64 \n",
      " 1   name       1309 non-null   object  \n",
      " 2   sex        1309 non-null   category\n",
      " 3   age        1046 non-null   float64 \n",
      " 4   sibsp      1309 non-null   float64 \n",
      " 5   parch      1309 non-null   float64 \n",
      " 6   ticket     1309 non-null   object  \n",
      " 7   fare       1308 non-null   float64 \n",
      " 8   cabin      295 non-null    object  \n",
      " 9   embarked   1307 non-null   category\n",
      " 10  boat       486 non-null    object  \n",
      " 11  body       121 non-null    float64 \n",
      " 12  home.dest  745 non-null    object  \n",
      "dtypes: category(2), float64(6), object(5)\n",
      "memory usage: 115.4+ KB\n",
      "None\n",
      "pclass          0\n",
      "name            0\n",
      "sex             0\n",
      "age           263\n",
      "sibsp           0\n",
      "parch           0\n",
      "ticket          0\n",
      "fare            1\n",
      "cabin        1014\n",
      "embarked        2\n",
      "boat          823\n",
      "body         1188\n",
      "home.dest     564\n",
      "dtype: int64\n"
     ]
    }
   ],
   "source": [
    "print(df.info())\n",
    "print(df.isnull().sum())"
   ]
  },
  {
   "cell_type": "markdown",
   "id": "68cbd96f",
   "metadata": {},
   "source": [
    "Bước 2. Xử lý dữ liệu bị thiếu. Có thể xử lý dữ liệu bị thiếu theo hai cách:\n",
    "\n",
    "- Loại bỏ  (drop): Ví dụ ta thấy thông tin về cabin, boat, body và home.dest bị thiếu giá trị rất nhiều. Do đó, thông tin hữu ích không đáng kể và có thể xóa các trường này. \n",
    "- Tính lại giá trị từ toàn bộ tập dữ liệu (sử dụng giá trị trung bình, trung vị, mode …): Với những trường thông tin thiếu ít dữ liệu hơn ví dụ age, fare, embarked thì có thể tính lại giá trị bằng 2 bước:\n",
    "    - Điền giá trị 0 (`fillna`)\n",
    "    - Tính giá trị trung bình cho toàn bộ tập dữ liệu\n",
    " \n",
    " Có thể dùng tính năng pandas hoặc trong scikit-learn có thư viện  SimpleImputer"
   ]
  },
  {
   "cell_type": "code",
   "execution_count": 27,
   "id": "f1456628",
   "metadata": {},
   "outputs": [
    {
     "name": "stdout",
     "output_type": "stream",
     "text": [
      "Kích thước dữ liệu: (1309, 13)\n",
      "Kích thước dữ liệu sau loại bỏ dữ liệu dư thừa: (1309, 9)\n",
      "<class 'pandas.core.frame.DataFrame'>\n",
      "RangeIndex: 1309 entries, 0 to 1308\n",
      "Data columns (total 9 columns):\n",
      " #   Column    Non-Null Count  Dtype   \n",
      "---  ------    --------------  -----   \n",
      " 0   pclass    1309 non-null   float64 \n",
      " 1   name      1309 non-null   object  \n",
      " 2   sex       1309 non-null   category\n",
      " 3   age       1046 non-null   float64 \n",
      " 4   sibsp     1309 non-null   float64 \n",
      " 5   parch     1309 non-null   float64 \n",
      " 6   ticket    1309 non-null   object  \n",
      " 7   fare      1308 non-null   float64 \n",
      " 8   embarked  1307 non-null   category\n",
      "dtypes: category(2), float64(5), object(2)\n",
      "memory usage: 74.5+ KB\n",
      "None\n",
      "Số lượng giá trị trống: 263\n",
      "Số lượng giá trị trống sau khi chuyển đổi: 0\n",
      "0    29.0000\n",
      "1     0.9167\n",
      "2     2.0000\n",
      "3    30.0000\n",
      "4    25.0000\n",
      "5    48.0000\n",
      "6    63.0000\n",
      "7    39.0000\n",
      "8    53.0000\n",
      "9    71.0000\n",
      "Name: age, dtype: float64\n"
     ]
    }
   ],
   "source": [
    "import pandas as pd\n",
    "from sklearn.datasets import fetch_openml\n",
    "from sklearn.impute import SimpleImputer\n",
    "\n",
    "df = fetch_openml('titanic', version=1, as_frame=True)['data']\n",
    "\n",
    "\n",
    "#Loại bỏ các hàng có giá trị 0 và các cột cabin, boat, body, home.dest  \n",
    "print(f'Kích thước dữ liệu: {df.shape}')\n",
    "df.drop(['cabin', 'boat', 'body', 'home.dest'], axis=1, inplace=True)\n",
    " \n",
    "print(f'Kích thước dữ liệu sau loại bỏ dữ liệu dư thừa: {df.shape}')\n",
    " \n",
    "print(df.info())\n",
    "\n",
    "# Biến đổi giá trị đặc trưng theo giá trị mean dùng Imputer\n",
    "print(f'Số lượng giá trị trống: {df.age.isnull().sum()}')\n",
    " \n",
    "imp = SimpleImputer(strategy='mean')\n",
    "df['age'] = imp.fit_transform(df[['age']])\n",
    "print(f'Số lượng giá trị trống sau khi chuyển đổi: {df.age.isnull().sum()}')\n",
    "print(df.age.head(10))\n"
   ]
  },
  {
   "cell_type": "markdown",
   "id": "6ff7e060",
   "metadata": {},
   "source": [
    "Bước 3. Kỹ thuật đặc trưng:  \n",
    "\n",
    "Ví dụ: chúng ta có thể sử dụng kỹ thuật đặc trưng để suy luận xem người đó có đi du lịch một mình hay không bằng cách xem họ đi cùng ai.\n",
    "Trong dữ liệu có trường thông tin:\n",
    "- SibSp: số lượng anh chị em mà hành khách đi cùng.\n",
    "- Parch: nắm bắt số lượng cha mẹ và trẻ em mà hành khách đi cùng.\n",
    "\n",
    "Bằng cách kết hợp 2 thong tin trên, chúng ta có thể tìm hiểu xem họ có đi du lịch một mình hay không."
   ]
  },
  {
   "cell_type": "code",
   "execution_count": 28,
   "id": "8ab5c6e5",
   "metadata": {},
   "outputs": [
    {
     "name": "stdout",
     "output_type": "stream",
     "text": [
      "Index(['pclass', 'name', 'sex', 'age', 'sibsp', 'parch', 'ticket', 'fare',\n",
      "       'embarked'],\n",
      "      dtype='object')\n"
     ]
    }
   ],
   "source": [
    "print(df.columns)"
   ]
  },
  {
   "cell_type": "code",
   "execution_count": 29,
   "id": "beca1c20",
   "metadata": {},
   "outputs": [
    {
     "data": {
      "text/plain": [
       "<AxesSubplot:title={'center':'Passenger travelled alone?'}>"
      ]
     },
     "execution_count": 29,
     "metadata": {},
     "output_type": "execute_result"
    },
    {
     "data": {
      "image/png": "[encoded data removed]",
      "text/plain": [
       "<Figure size 640x480 with 1 Axes>"
      ]
     },
     "metadata": {},
     "output_type": "display_data"
    }
   ],
   "source": [
    "df['family'] = df['sibsp'] + df['parch']\n",
    "df.loc[df['family'] > 0, 'travelled_alone'] = 0\n",
    "df.loc[df['family'] == 0, 'travelled_alone'] = 1\n",
    "df['travelled_alone'].value_counts().plot(title='Passenger travelled alone?',kind='bar')\n"
   ]
  },
  {
   "cell_type": "code",
   "execution_count": 30,
   "id": "b58e79c1",
   "metadata": {},
   "outputs": [
    {
     "data": {
      "text/plain": [
       "0    0.0\n",
       "1    3.0\n",
       "2    3.0\n",
       "3    3.0\n",
       "4    3.0\n",
       "5    0.0\n",
       "6    1.0\n",
       "7    0.0\n",
       "8    2.0\n",
       "9    0.0\n",
       "Name: family, dtype: float64"
      ]
     },
     "execution_count": 30,
     "metadata": {},
     "output_type": "execute_result"
    }
   ],
   "source": [
    "df.family.head(10)"
   ]
  },
  {
   "cell_type": "markdown",
   "id": "de2bbadb",
   "metadata": {},
   "source": [
    "Bước 4. Số hóa các biến/đặc trưng phân loại. \n",
    "Trong scikit-learn.preprocessing có sẵn class OneHotEncoder cho phép mã hóa các biến đặc trưng dạng phân loại về số nhị phân.\n",
    "\n",
    "Ví dụ: Trong dataset, thông tin giới tính (sex) gồm 2 loại: male (1.0) và female (0.0). \n",
    "Do đó, trường đặc trưng này sẽ được số hóa thành 2 cột thông tin riêng như sau."
   ]
  },
  {
   "cell_type": "code",
   "execution_count": 37,
   "id": "962029b3",
   "metadata": {},
   "outputs": [
    {
     "data": {
      "text/plain": [
       "0    0.0\n",
       "1    1.0\n",
       "2    0.0\n",
       "3    1.0\n",
       "4    0.0\n",
       "5    1.0\n",
       "6    0.0\n",
       "7    1.0\n",
       "8    0.0\n",
       "9    1.0\n",
       "Name: sex, dtype: float64"
      ]
     },
     "execution_count": 37,
     "metadata": {},
     "output_type": "execute_result"
    }
   ],
   "source": [
    "from sklearn.preprocessing import OneHotEncoder\n",
    "df['sex'] = OneHotEncoder().fit_transform(df[['sex']]).toarray()[:,1]\n",
    "df.sex.head(10)"
   ]
  },
  {
   "cell_type": "markdown",
   "id": "4fb4b959",
   "metadata": {},
   "source": [
    " Thực hiện số hóa tất cả các cột/đặc trưng dạng phân loại"
   ]
  },
  {
   "cell_type": "code",
   "execution_count": 38,
   "id": "ccf96e02",
   "metadata": {},
   "outputs": [
    {
     "name": "stdout",
     "output_type": "stream",
     "text": [
      "Categorical columns: Index(['embarked'], dtype='object')\n",
      "['S', 'C', 'Q']\n"
     ]
    },
    {
     "data": {
      "text/html": [
       "<div>\n",
       "<style scoped>\n",
       "    .dataframe tbody tr th:only-of-type {\n",
       "        vertical-align: middle;\n",
       "    }\n",
       "\n",
       "    .dataframe tbody tr th {\n",
       "        vertical-align: top;\n",
       "    }\n",
       "\n",
       "    .dataframe thead th {\n",
       "        text-align: right;\n",
       "    }\n",
       "</style>\n",
       "<table border=\"1\" class=\"dataframe\">\n",
       "  <thead>\n",
       "    <tr style=\"text-align: right;\">\n",
       "      <th></th>\n",
       "      <th>pclass</th>\n",
       "      <th>name</th>\n",
       "      <th>sex</th>\n",
       "      <th>age</th>\n",
       "      <th>sibsp</th>\n",
       "      <th>parch</th>\n",
       "      <th>ticket</th>\n",
       "      <th>fare</th>\n",
       "      <th>family</th>\n",
       "      <th>travelled_alone</th>\n",
       "      <th>C</th>\n",
       "      <th>Q</th>\n",
       "    </tr>\n",
       "  </thead>\n",
       "  <tbody>\n",
       "    <tr>\n",
       "      <th>0</th>\n",
       "      <td>1.0</td>\n",
       "      <td>Allen, Miss. Elisabeth Walton</td>\n",
       "      <td>0.0</td>\n",
       "      <td>29.0000</td>\n",
       "      <td>0.0</td>\n",
       "      <td>0.0</td>\n",
       "      <td>24160</td>\n",
       "      <td>211.3375</td>\n",
       "      <td>0.0</td>\n",
       "      <td>1.0</td>\n",
       "      <td>0.0</td>\n",
       "      <td>1.0</td>\n",
       "    </tr>\n",
       "    <tr>\n",
       "      <th>1</th>\n",
       "      <td>1.0</td>\n",
       "      <td>Allison, Master. Hudson Trevor</td>\n",
       "      <td>1.0</td>\n",
       "      <td>0.9167</td>\n",
       "      <td>1.0</td>\n",
       "      <td>2.0</td>\n",
       "      <td>113781</td>\n",
       "      <td>151.5500</td>\n",
       "      <td>3.0</td>\n",
       "      <td>0.0</td>\n",
       "      <td>0.0</td>\n",
       "      <td>1.0</td>\n",
       "    </tr>\n",
       "    <tr>\n",
       "      <th>2</th>\n",
       "      <td>1.0</td>\n",
       "      <td>Allison, Miss. Helen Loraine</td>\n",
       "      <td>0.0</td>\n",
       "      <td>2.0000</td>\n",
       "      <td>1.0</td>\n",
       "      <td>2.0</td>\n",
       "      <td>113781</td>\n",
       "      <td>151.5500</td>\n",
       "      <td>3.0</td>\n",
       "      <td>0.0</td>\n",
       "      <td>0.0</td>\n",
       "      <td>1.0</td>\n",
       "    </tr>\n",
       "    <tr>\n",
       "      <th>3</th>\n",
       "      <td>1.0</td>\n",
       "      <td>Allison, Mr. Hudson Joshua Creighton</td>\n",
       "      <td>1.0</td>\n",
       "      <td>30.0000</td>\n",
       "      <td>1.0</td>\n",
       "      <td>2.0</td>\n",
       "      <td>113781</td>\n",
       "      <td>151.5500</td>\n",
       "      <td>3.0</td>\n",
       "      <td>0.0</td>\n",
       "      <td>0.0</td>\n",
       "      <td>1.0</td>\n",
       "    </tr>\n",
       "    <tr>\n",
       "      <th>4</th>\n",
       "      <td>1.0</td>\n",
       "      <td>Allison, Mrs. Hudson J C (Bessie Waldo Daniels)</td>\n",
       "      <td>0.0</td>\n",
       "      <td>25.0000</td>\n",
       "      <td>1.0</td>\n",
       "      <td>2.0</td>\n",
       "      <td>113781</td>\n",
       "      <td>151.5500</td>\n",
       "      <td>3.0</td>\n",
       "      <td>0.0</td>\n",
       "      <td>0.0</td>\n",
       "      <td>1.0</td>\n",
       "    </tr>\n",
       "  </tbody>\n",
       "</table>\n",
       "</div>"
      ],
      "text/plain": [
       "   pclass                                             name  sex      age  \\\n",
       "0     1.0                    Allen, Miss. Elisabeth Walton  0.0  29.0000   \n",
       "1     1.0                   Allison, Master. Hudson Trevor  1.0   0.9167   \n",
       "2     1.0                     Allison, Miss. Helen Loraine  0.0   2.0000   \n",
       "3     1.0             Allison, Mr. Hudson Joshua Creighton  1.0  30.0000   \n",
       "4     1.0  Allison, Mrs. Hudson J C (Bessie Waldo Daniels)  0.0  25.0000   \n",
       "\n",
       "   sibsp  parch  ticket      fare  family  travelled_alone    C    Q  \n",
       "0    0.0    0.0   24160  211.3375     0.0              1.0  0.0  1.0  \n",
       "1    1.0    2.0  113781  151.5500     3.0              0.0  0.0  1.0  \n",
       "2    1.0    2.0  113781  151.5500     3.0              0.0  0.0  1.0  \n",
       "3    1.0    2.0  113781  151.5500     3.0              0.0  0.0  1.0  \n",
       "4    1.0    2.0  113781  151.5500     3.0              0.0  0.0  1.0  "
      ]
     },
     "execution_count": 38,
     "metadata": {},
     "output_type": "execute_result"
    }
   ],
   "source": [
    "cat_cols = df.select_dtypes(include=['category']).columns\n",
    "print(f'Categorical columns: {cat_cols}')\n",
    " \n",
    "# Loop through each categorical column \n",
    "for col in cat_cols:\n",
    "    # Impute missing values\n",
    "    fill_value = df[col].mode()[0] \n",
    "    df[col].fillna(fill_value, inplace=True)\n",
    "     \n",
    "    # create a list of labels to be encoded in the column\n",
    "    append_to = list(df[col].unique())\n",
    " \n",
    "    # These labels will be use as column headers\n",
    "    print(append_to)\n",
    " \n",
    "    # Apply OneHotEncoder()\n",
    "    df[append_to] = OneHotEncoder().fit_transform(df[[col]]).toarray()\n",
    " \n",
    "    # Drop non-encoded column\n",
    "    df.drop(col, axis=1, inplace=True)\n",
    " \n",
    "    # Drop redundant data\n",
    "    df.drop(append_to[0], axis=1, inplace=True)\n",
    "\n",
    "df.head()"
   ]
  },
  {
   "cell_type": "markdown",
   "id": "94473190",
   "metadata": {},
   "source": [
    "**CHUẨN HÓA DỮ LIỆU**\n",
    "Trong các bộ dữ liệu khác nhau, phạm vi trong các tính năng không nhất thiết phải giống nhau.\n",
    "\n",
    "Ví dụ: một tính năng có thể nên dữ liệu bằng pound và tính năng kia tính bằng kilôgam.\n",
    "\n",
    "Để diễn giải chính xác, các tính năng này cần phải có cùng tỷ lệ\n",
    "\n",
    "Vì vậy, chúng ta cần chuẩn hóa dữ liệu.\n",
    "\n",
    "   Để chuẩn hóa dữ liệu, chúng ta có thể sử dụng MinMaxScaler hoặc StandardScaler trong `scikit-learn.preprocessing`"
   ]
  },
  {
   "cell_type": "code",
   "execution_count": 40,
   "id": "287395d8",
   "metadata": {},
   "outputs": [
    {
     "name": "stdout",
     "output_type": "stream",
     "text": [
      "Index(['pclass', 'age', 'sibsp', 'parch', 'fare', 'body'], dtype='object')\n"
     ]
    },
    {
     "data": {
      "text/html": [
       "<div>\n",
       "<style scoped>\n",
       "    .dataframe tbody tr th:only-of-type {\n",
       "        vertical-align: middle;\n",
       "    }\n",
       "\n",
       "    .dataframe tbody tr th {\n",
       "        vertical-align: top;\n",
       "    }\n",
       "\n",
       "    .dataframe thead th {\n",
       "        text-align: right;\n",
       "    }\n",
       "</style>\n",
       "<table border=\"1\" class=\"dataframe\">\n",
       "  <thead>\n",
       "    <tr style=\"text-align: right;\">\n",
       "      <th></th>\n",
       "      <th>pclass</th>\n",
       "      <th>age</th>\n",
       "      <th>sibsp</th>\n",
       "      <th>parch</th>\n",
       "      <th>fare</th>\n",
       "      <th>body</th>\n",
       "    </tr>\n",
       "  </thead>\n",
       "  <tbody>\n",
       "    <tr>\n",
       "      <th>0</th>\n",
       "      <td>0.0</td>\n",
       "      <td>0.361169</td>\n",
       "      <td>0.000</td>\n",
       "      <td>0.000000</td>\n",
       "      <td>0.412503</td>\n",
       "      <td>0.488715</td>\n",
       "    </tr>\n",
       "    <tr>\n",
       "      <th>1</th>\n",
       "      <td>0.0</td>\n",
       "      <td>0.009395</td>\n",
       "      <td>0.125</td>\n",
       "      <td>0.222222</td>\n",
       "      <td>0.295806</td>\n",
       "      <td>0.488715</td>\n",
       "    </tr>\n",
       "    <tr>\n",
       "      <th>2</th>\n",
       "      <td>0.0</td>\n",
       "      <td>0.022964</td>\n",
       "      <td>0.125</td>\n",
       "      <td>0.222222</td>\n",
       "      <td>0.295806</td>\n",
       "      <td>0.488715</td>\n",
       "    </tr>\n",
       "    <tr>\n",
       "      <th>3</th>\n",
       "      <td>0.0</td>\n",
       "      <td>0.373695</td>\n",
       "      <td>0.125</td>\n",
       "      <td>0.222222</td>\n",
       "      <td>0.295806</td>\n",
       "      <td>0.409786</td>\n",
       "    </tr>\n",
       "    <tr>\n",
       "      <th>4</th>\n",
       "      <td>0.0</td>\n",
       "      <td>0.311064</td>\n",
       "      <td>0.125</td>\n",
       "      <td>0.222222</td>\n",
       "      <td>0.295806</td>\n",
       "      <td>0.488715</td>\n",
       "    </tr>\n",
       "    <tr>\n",
       "      <th>...</th>\n",
       "      <td>...</td>\n",
       "      <td>...</td>\n",
       "      <td>...</td>\n",
       "      <td>...</td>\n",
       "      <td>...</td>\n",
       "      <td>...</td>\n",
       "    </tr>\n",
       "    <tr>\n",
       "      <th>1304</th>\n",
       "      <td>1.0</td>\n",
       "      <td>0.179540</td>\n",
       "      <td>0.125</td>\n",
       "      <td>0.000000</td>\n",
       "      <td>0.028213</td>\n",
       "      <td>1.000000</td>\n",
       "    </tr>\n",
       "    <tr>\n",
       "      <th>1305</th>\n",
       "      <td>1.0</td>\n",
       "      <td>0.372206</td>\n",
       "      <td>0.125</td>\n",
       "      <td>0.000000</td>\n",
       "      <td>0.028213</td>\n",
       "      <td>0.488715</td>\n",
       "    </tr>\n",
       "    <tr>\n",
       "      <th>1306</th>\n",
       "      <td>1.0</td>\n",
       "      <td>0.329854</td>\n",
       "      <td>0.000</td>\n",
       "      <td>0.000000</td>\n",
       "      <td>0.014102</td>\n",
       "      <td>0.926606</td>\n",
       "    </tr>\n",
       "    <tr>\n",
       "      <th>1307</th>\n",
       "      <td>1.0</td>\n",
       "      <td>0.336117</td>\n",
       "      <td>0.000</td>\n",
       "      <td>0.000000</td>\n",
       "      <td>0.014102</td>\n",
       "      <td>0.488715</td>\n",
       "    </tr>\n",
       "    <tr>\n",
       "      <th>1308</th>\n",
       "      <td>1.0</td>\n",
       "      <td>0.361169</td>\n",
       "      <td>0.000</td>\n",
       "      <td>0.000000</td>\n",
       "      <td>0.015371</td>\n",
       "      <td>0.488715</td>\n",
       "    </tr>\n",
       "  </tbody>\n",
       "</table>\n",
       "<p>1309 rows × 6 columns</p>\n",
       "</div>"
      ],
      "text/plain": [
       "      pclass       age  sibsp     parch      fare      body\n",
       "0        0.0  0.361169  0.000  0.000000  0.412503  0.488715\n",
       "1        0.0  0.009395  0.125  0.222222  0.295806  0.488715\n",
       "2        0.0  0.022964  0.125  0.222222  0.295806  0.488715\n",
       "3        0.0  0.373695  0.125  0.222222  0.295806  0.409786\n",
       "4        0.0  0.311064  0.125  0.222222  0.295806  0.488715\n",
       "...      ...       ...    ...       ...       ...       ...\n",
       "1304     1.0  0.179540  0.125  0.000000  0.028213  1.000000\n",
       "1305     1.0  0.372206  0.125  0.000000  0.028213  0.488715\n",
       "1306     1.0  0.329854  0.000  0.000000  0.014102  0.926606\n",
       "1307     1.0  0.336117  0.000  0.000000  0.014102  0.488715\n",
       "1308     1.0  0.361169  0.000  0.000000  0.015371  0.488715\n",
       "\n",
       "[1309 rows x 6 columns]"
      ]
     },
     "execution_count": 40,
     "metadata": {},
     "output_type": "execute_result"
    }
   ],
   "source": [
    "from sklearn.preprocessing import MinMaxScaler\n",
    "num_cols = df.select_dtypes(include=['int64', 'float64', 'int32']).columns\n",
    "print(num_cols)\n",
    " \n",
    "# Impute missing values\n",
    "for col in num_cols:\n",
    "    fill_value = df[col].mean()\n",
    "    df[col].fillna(fill_value, inplace=True)\n",
    " \n",
    "# Apply MinMaxScaler\n",
    "minmax = MinMaxScaler()\n",
    "df[num_cols] = minmax.fit_transform(df[num_cols])\n",
    "df[num_cols]"
   ]
  },
  {
   "cell_type": "markdown",
   "id": "d8c76bf4",
   "metadata": {},
   "source": [
    "# Bài tập thực hành\n",
    "\n",
    "Bài 1. Hãy xây dựng 1 mô hình học máy dùng LinearRegression đối với dữ liệu sau tiền xử lý\n",
    "\n",
    "Bài 2. Xây dựng một đường ống (Pineline) tích hợp các hoạt động từ tiền xử lý cho tới kết quả mô hình.\n",
    "\n",
    "Bài 3. Thực hành các hoạt động Tiền xử lý dữ liệu với dữ liệu datasets.load_iris()\n"
   ]
  },
  {
   "cell_type": "code",
   "execution_count": 2,
   "id": "c6725f81-2ed9-48cc-843e-3db0939d370f",
   "metadata": {},
   "outputs": [
    {
     "name": "stdout",
     "output_type": "stream",
     "text": [
      "Object `fetch_openml` not found.\n"
     ]
    }
   ],
   "source": [
    "?fetch_openml"
   ]
  },
  {
   "cell_type": "code",
   "execution_count": null,
   "id": "047957ea-e103-4cb1-85b5-a686f9ae9cf4",
   "metadata": {},
   "outputs": [],
   "source": []
  }
 ],
 "metadata": {
  "kernelspec": {
   "display_name": "Python 3 (ipykernel)",
   "language": "python",
   "name": "python3"
  },
  "language_info": {
   "codemirror_mode": {
    "name": "ipython",
    "version": 3
   },
   "file_extension": ".py",
   "mimetype": "text/x-python",
   "name": "python",
   "nbconvert_exporter": "python",
   "pygments_lexer": "ipython3",
   "version": "3.9.13"
  }
 },
 "nbformat": 4,
 "nbformat_minor": 5
}
