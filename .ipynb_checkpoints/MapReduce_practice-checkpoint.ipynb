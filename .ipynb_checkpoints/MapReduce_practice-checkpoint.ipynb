{
 "cells": [
  {
   "cell_type": "markdown",
   "metadata": {},
   "source": [
    "# Bài tập mẫu\n"
   ]
  },
  {
   "cell_type": "markdown",
   "metadata": {},
   "source": [
    "**Viết ứng dụng Wordcount dùng khung MapReduce:** Đếm số lần xuất hiện của mỗi từ (word) trong tệp dữ liệu đầu vào\n",
    "\n",
    "Gợi ý:\n",
    "\n",
    "- Xây dựng Mapper và Reducer riêng lẻ\n",
    "\n",
    "- Với hỗ trợ của gói `Hadoop streaming` (Link:https://hadoop.apache.org/docs/r1.2.1/streaming.html#How+Streaming+Works),  Mapper và Reducer là các tệp thực thi đọc đầu vào từ luồng stdin (theo từng dòng) và ghi kết quả đầu ra cho stdout. \n",
    "\n",
    "- Mapper: Đọc từng dòng từ stdin và tách các từ; sau đó, mỗi từ được gán cho số đếm = 1. Lưu dữ liệu đầu ra dưới dạng <key,value> pair\n",
    "\n",
    "- Map Output cần được sắp xếp (sort) trước khi đưa vào Reducer.\n",
    "\n",
    "- Reducer: Khi tác vụ Reduce chạy, nó sẽ chuyển đổi các cặp khóa/giá trị đầu vào của nó thành các dòng và cung cấp các dòng này cho stdin của tiến trình (process). Trong quá trình chạy, Reducer thu thập các kết quả hướng dòng từ stdout của tiến trình, chuyển đổi từng dòng thành một <key,value> pair.\n"
   ]
  },
  {
   "cell_type": "markdown",
   "metadata": {},
   "source": [
    "**Tạo Mapper**"
   ]
  },
  {
   "cell_type": "code",
   "execution_count": 6,
   "metadata": {},
   "outputs": [
    {
     "name": "stdout",
     "output_type": "stream",
     "text": [
      "Overwriting word_count_mapper2.py\n"
     ]
    }
   ],
   "source": [
    "%%writefile word_count_mapper2.py\n",
    "\n",
    "import sys \n",
    "\n",
    "\n",
    "for line in sys.stdin:\n",
    "\n",
    "    # remove leading and trailing whitespace \n",
    "    line = line.strip() \n",
    "    # split the line into words \n",
    "    words = line.split() \n",
    "    # increase counters \n",
    "    for word in words: \n",
    "        print('%s\\t%s' % (word, 1))\n"
   ]
  },
  {
   "cell_type": "markdown",
   "metadata": {},
   "source": [
    "**Chạy thử kiểm tra Mapper với bash script (sử dụng Cell magic %%bash)**"
   ]
  },
  {
   "cell_type": "code",
   "execution_count": 7,
   "metadata": {},
   "outputs": [
    {
     "name": "stdout",
     "output_type": "stream",
     "text": [
      "Microsoft Windows [Version 10.0.19044.2728]\n",
      "(c) Microsoft Corporation. All rights reserved.\n",
      "\n",
      "(NLP) F:\\github\\BigDataWork>type lyric.txt | python word_count_mapper2.py  \n"
     ]
    },
    {
     "name": "stderr",
     "output_type": "stream",
     "text": [
      "The system cannot find the file specified.\n"
     ]
    },
    {
     "name": "stdout",
     "output_type": "stream",
     "text": [
      "\n",
      "(NLP) F:\\github\\BigDataWork>"
     ]
    }
   ],
   "source": [
    "%%cmd\n",
    "type lyric.txt | python word_count_mapper2.py  "
   ]
  },
  {
   "cell_type": "markdown",
   "metadata": {},
   "source": [
    "**Tạo Reducer**"
   ]
  },
  {
   "cell_type": "code",
   "execution_count": 8,
   "metadata": {},
   "outputs": [
    {
     "name": "stdout",
     "output_type": "stream",
     "text": [
      "Overwriting word_count_reducer2.py\n"
     ]
    }
   ],
   "source": [
    "%%writefile word_count_reducer2.py\n",
    "\n",
    "import sys\n",
    "current_word = None\n",
    "current_count = 0\n",
    "word = None\n",
    "for line in sys.stdin:\n",
    "    # remove leading and trailing whitespaces\n",
    "    line = line.strip()\n",
    "    # parse the input we got from mapper.py\n",
    "    word, count = line.split('\\t', 1)\n",
    "    # convert count (currently a string) to int\n",
    "    try:\n",
    "        count = int(count)\n",
    "    except ValueError:\n",
    "        # count was not a number, so silently\n",
    "        # ignore/discard this line\n",
    "        continue\n",
    "    if current_word == word:\n",
    "        current_count += count\n",
    "    else:\n",
    "        if current_word:\n",
    "            print ('%s\\t%s' % (current_word, current_count))\n",
    "        current_count = count\n",
    "        current_word = word\n",
    "if current_word == word:\n",
    "    print('%s\\t%s' % (current_word, current_count))"
   ]
  },
  {
   "cell_type": "markdown",
   "metadata": {},
   "source": [
    "# Thực thi ứng dụng trong Python:\n",
    "\n",
    "Chạy 'MapReduce job' dùng chuỗi câu lệnh bash script:\n",
    "\n",
    "Streaming file -> Mapping -> Sorting -> Reducing"
   ]
  },
  {
   "cell_type": "code",
   "execution_count": 4,
   "metadata": {},
   "outputs": [
    {
     "name": "stdout",
     "output_type": "stream",
     "text": [
      "Couldn't find program: 'bash'\n"
     ]
    }
   ],
   "source": [
    "%%bash\n",
    "cat lyric.txt | py word_count_mapper2.py   | sort -k1,1 | py word_count_reducer2.py"
   ]
  },
  {
   "cell_type": "markdown",
   "metadata": {},
   "source": [
    "# Chạy Python MapReduce trong Hadoop \n",
    "\n",
    "**Để chạy trong Hadoop 1 ứng dụng MapReduce viết bằng Python, sử dụng gói Hadoop Streaming**.\n",
    "\n",
    "Ngoài ra, các thư mục lưu dữ liệu đầu vào, lưu kết quả đầu ra cần được xác lập."
   ]
  },
  {
   "cell_type": "markdown",
   "metadata": {},
   "source": [
    "%%bash\n",
    "\n",
    "OUT_DIR=\"wordcount_result_\"$(date +\"%s%6N\")\n",
    "NUM_REDUCERS=1\n",
    "hdfs dfs cp -copyFromLocal \"lyric.txt\" /user/input-dir\n",
    "\n",
    "hdfs dfs -rm -r -skipTrash ${OUT_DIR} > /dev/null\n",
    "\n",
    "$HADOOP_HOME/bin/hadoop  jar $HADOOP_HOME/hadoop-streaming.jar \\\n",
    "    -D mapred.jab.name=\"Streaming wordCount\" \\\n",
    "    -D mapreduce.job.reduces=${NUM_REDUCERS} \\\n",
    "    -files word_count_mapper2.py,word_count_reducer2.py \\\n",
    "    -mapper \"python word_count_mapper2.py\" \\\n",
    "    -combiner \"python word_count_reducer2.py\" \\\n",
    "    -reducer \"python word_count_reducer2.py\" \\\n",
    "    -input /user/input-dir/\\\n",
    "    -output ${OUT_DIR} > /dev/null\n",
    "\n",
    "hdfs dfs -cat ${OUT_DIR}/part-00000 | head"
   ]
  },
  {
   "cell_type": "markdown",
   "metadata": {},
   "source": [
    "# Bài tập thực hành"
   ]
  },
  {
   "cell_type": "markdown",
   "metadata": {},
   "source": [
    "Bài 1. Viết ứng dụng MapReduce để sắp xếp từ theo số lần xuất hiện giảm dần.\n"
   ]
  },
  {
   "cell_type": "markdown",
   "metadata": {},
   "source": [
    "Bài 2. Viết ứng dụng MapReduce grep để tìm các dòng xuất hiện một chuỗi mẫu (pattern) của tệp đầu vào."
   ]
  },
  {
   "cell_type": "code",
   "execution_count": null,
   "metadata": {},
   "outputs": [],
   "source": []
  }
 ],
 "metadata": {
  "kernelspec": {
   "display_name": "Python 3 (ipykernel)",
   "language": "python",
   "name": "python3"
  },
  "language_info": {
   "codemirror_mode": {
    "name": "ipython",
    "version": 3
   },
   "file_extension": ".py",
   "mimetype": "text/x-python",
   "name": "python",
   "nbconvert_exporter": "python",
   "pygments_lexer": "ipython3",
   "version": "3.9.13"
  },
  "toc": {
   "base_numbering": 1,
   "nav_menu": {},
   "number_sections": true,
   "sideBar": true,
   "skip_h1_title": false,
   "title_cell": "Table of Contents",
   "title_sidebar": "Contents",
   "toc_cell": false,
   "toc_position": {},
   "toc_section_display": true,
   "toc_window_display": false
  }
 },
 "nbformat": 4,
 "nbformat_minor": 4
}
