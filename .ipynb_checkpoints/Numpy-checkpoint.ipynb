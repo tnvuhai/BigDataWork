{
 "cells": [
  {
   "cell_type": "code",
   "execution_count": 1,
   "metadata": {},
   "outputs": [],
   "source": [
    "%matplotlib inline\n",
    "import matplotlib\n",
    "import seaborn as sns\n",
    "matplotlib.rcParams['savefig.dpi'] = 144"
   ]
  },
  {
   "cell_type": "markdown",
   "metadata": {},
   "source": [
    "# 1. Giới thiệu Numpy"
   ]
  },
  {
   "cell_type": "markdown",
   "metadata": {},
   "source": [
    "NumPy = Numerical Python. \n",
    "\n",
    "Numpy là một thư viện Python được sử dụng để làm việc với các mảng N chiều, một **đối tượng** mảng N chiều mạnh mẽ và việc sử dụng nó trong đại số tuyến tính, biến đổi Fourier và các khả năng số ngẫu nhiên. Nó cung cấp một đối tượng mảng nhanh hơn nhiều so với danh sách Python truyền thống. \n",
    "\n",
    "Để sử dụng thư viện, ta dùng câu lệnh sau:"
   ]
  },
  {
   "cell_type": "code",
   "execution_count": 2,
   "metadata": {},
   "outputs": [],
   "source": [
    "import numpy as np"
   ]
  },
  {
   "cell_type": "markdown",
   "metadata": {},
   "source": [
    "# 2. Tạo mảng trong Numpy"
   ]
  },
  {
   "cell_type": "markdown",
   "metadata": {},
   "source": [
    "Trong Numpy cung cấp rất nhiều hàm tiện ích cho việc tạo mảng như: numpy.array(),  numpy.arange(),  numpy.linspace(), numpy.ones() .... \n",
    "\n",
    "**Hàm `numpy.array()`**:\n",
    "\n",
    "Hàm `numpy.array()` được sử dụng để tạo ra một mảng NumPy mới từ các dữ liệu đầu vào. Đầu vào của hàm này có thể là một danh sách, tuple hoặc một mảng đã tồn tại.\n",
    "\n",
    "** Lưu ý: \n",
    "- Kích thước các danh sách truyền vào phải bằng nhau.\n",
    "- Loại dữ liệu trong mảng numpy là đồng nhất. Nếu dữ liệu trong danh sách khác nhau thì numpy array sẽ tự động chuyển tất cả các phần tử về 1 loại dữ liệu.\n",
    "\n",
    "Ví dụ:"
   ]
  },
  {
   "cell_type": "code",
   "execution_count": 36,
   "metadata": {},
   "outputs": [
    {
     "name": "stdout",
     "output_type": "stream",
     "text": [
      "[1 2 3 4] \n",
      " [1 2 3]\n"
     ]
    }
   ],
   "source": [
    "arr_list = np.array([1, 2, 3, 4])\n",
    "arr_tuple = np.array((1,2,3))\n",
    "print(arr_list,\"\\n\", arr_tuple)"
   ]
  },
  {
   "cell_type": "code",
   "execution_count": 1,
   "metadata": {},
   "outputs": [
    {
     "name": "stdout",
     "output_type": "stream",
     "text": [
      "[1, 'A', 3.5]\n"
     ]
    }
   ],
   "source": [
    "list1 = [1, \"A\", 3.5]\n",
    "print(list1)"
   ]
  },
  {
   "cell_type": "code",
   "execution_count": 3,
   "metadata": {},
   "outputs": [
    {
     "name": "stdout",
     "output_type": "stream",
     "text": [
      "['1' 'A' '3.5'] \n",
      " <U32\n"
     ]
    }
   ],
   "source": [
    "arr_list_1 = np.array(list1)\n",
    "print(arr_list_1, \"\\n\", arr_list_1.dtype)"
   ]
  },
  {
   "cell_type": "markdown",
   "metadata": {},
   "source": [
    "**Hàm `numpy.arange()`:**\n",
    "\n",
    "Hàm `numpy.arange()` được sử dụng để tạo một mảng với các giá trị nằm trong khoảng từ `start` đến `stop` với bước nhảy là `step`. Cú pháp: numpy.arange(start, stop, step)\n",
    "\n",
    "Ví dụ: Tạo mảng dùng hàm `arange` từ 1-20 với bước nhảy là 1.5"
   ]
  },
  {
   "cell_type": "code",
   "execution_count": 16,
   "metadata": {},
   "outputs": [
    {
     "data": {
      "text/plain": [
       "array([ 1,  3,  5,  7,  9, 11, 13, 15, 17, 19])"
      ]
     },
     "execution_count": 16,
     "metadata": {},
     "output_type": "execute_result"
    }
   ],
   "source": [
    "arr1 = np.arange(1, 20 , 2)\n",
    "arr1"
   ]
  },
  {
   "cell_type": "markdown",
   "metadata": {},
   "source": [
    "**Hàm `numpy.linspace()`:**\n",
    "\n",
    "Hàm `numpy.linspace()` được sử dụng để tạo một mảng với các giá trị nằm trong khoảng từ `start` đến `stop` với số lượng phần tử là `num`.  Ví dụ:"
   ]
  },
  {
   "cell_type": "code",
   "execution_count": 8,
   "metadata": {},
   "outputs": [
    {
     "name": "stdout",
     "output_type": "stream",
     "text": [
      "[ 1.          1.47368421  1.94736842  2.42105263  2.89473684  3.36842105\n",
      "  3.84210526  4.31578947  4.78947368  5.26315789  5.73684211  6.21052632\n",
      "  6.68421053  7.15789474  7.63157895  8.10526316  8.57894737  9.05263158\n",
      "  9.52631579 10.        ]\n"
     ]
    }
   ],
   "source": [
    "arr3 = np.linspace(1, 10,20)\n",
    "print(arr3)"
   ]
  },
  {
   "cell_type": "markdown",
   "metadata": {},
   "source": [
    "**Hàm `numpy.ones()`:**\n",
    "\n",
    "Hàm `numpy.ones()` được sử dụng để tạo một mảng 1 chiều 1 x N hoặc 2 chiều M x N với các giá trị toàn số 1.  Ví dụ:"
   ]
  },
  {
   "cell_type": "code",
   "execution_count": 12,
   "metadata": {},
   "outputs": [
    {
     "name": "stdout",
     "output_type": "stream",
     "text": [
      "[1. 1. 1. 1. 1. 1. 1. 1. 1. 1.]\n"
     ]
    }
   ],
   "source": [
    "arr_ones = np.ones(10)\n",
    "print(arr_ones)"
   ]
  },
  {
   "cell_type": "markdown",
   "metadata": {},
   "source": [
    "`numpy.random` cung cấp các hàm tạo số ngẫu nhiên như randint(), randn() trong các khoảng giá trị cho trước.\n",
    "Ví dụ:\n"
   ]
  },
  {
   "cell_type": "code",
   "execution_count": 13,
   "metadata": {},
   "outputs": [
    {
     "name": "stdout",
     "output_type": "stream",
     "text": [
      "[34 10 25 22 11 14 38 13 12 15 24 19 16 12 33 16 40 15 10 14]\n"
     ]
    }
   ],
   "source": [
    "# Tạo mảng 20 phần tử gồm các số nguyên có giá trị ngẫu nhiên trong khoảng 10 đến 40\n",
    "arr_x = np.random.randint(10,41,20)\n",
    "print(arr_x)"
   ]
  },
  {
   "cell_type": "markdown",
   "metadata": {},
   "source": [
    "# 3. Các thao tác trên mảng"
   ]
  },
  {
   "cell_type": "markdown",
   "metadata": {},
   "source": [
    "**3.1. Truy cập phần tử trong mảng**\n",
    "\n",
    "Chúng ta có thể truy cập vào các phần tử trong một mảng bằng cách sử dụng chỉ mục của nó. Chỉ mục trong NumPy bắt đầu từ 0. Hãy truy cập vào phần tử đầu tiên và phần tử thứ 5 trong mảng arr:\n"
   ]
  },
  {
   "cell_type": "code",
   "execution_count": 17,
   "metadata": {},
   "outputs": [
    {
     "name": "stdout",
     "output_type": "stream",
     "text": [
      "[ 1  3  5  7  9 11 13 15 17 19]\n",
      "Phần tử đầu tiên của mảng arr1:  1\n",
      "Phần tử thứ 3 của mảng arr1: 5\n",
      "Phần tử cuối cùng của mảng arr1: 19\n"
     ]
    }
   ],
   "source": [
    "# In thông tin mảng\n",
    "print(arr1)\n",
    "# Truy cập vào phần tử đầu tiên, phần tử thứ 5, và phần tử cuối của mảng\n",
    "\n",
    "print(\"Phần tử đầu tiên của mảng arr1: \", arr1[0])\n",
    "print(\"Phần tử thứ 3 của mảng arr1:\",arr1[2])\n",
    "print(\"Phần tử cuối cùng của mảng arr1:\",arr1[-1])"
   ]
  },
  {
   "cell_type": "markdown",
   "metadata": {},
   "source": [
    "**3.2. Slicing mảng** \n",
    "\n",
    "Slicing (phân mảnh) là một phương pháp để lấy một phần của một mảng. Chúng ta có thể slice mảng bằng cách sử dụng chỉ mục bắt đầu và kết thúc. Hãy slice mảng arr từ phần tử thứ 2 đến phần tử thứ 6:"
   ]
  },
  {
   "cell_type": "code",
   "execution_count": 18,
   "metadata": {},
   "outputs": [
    {
     "name": "stdout",
     "output_type": "stream",
     "text": [
      "[ 3  5  7  9 11]\n",
      "[19 17 15 13 11  9  7  5  3  1]\n"
     ]
    }
   ],
   "source": [
    "# Slicing mảng từ phần tử thứ 2 đến phần tử thứ 6\n",
    "print(arr1[1:6])\n",
    "\n",
    "# Đảo phần tử mảng\n",
    "print(arr1[::-1])"
   ]
  },
  {
   "cell_type": "markdown",
   "metadata": {},
   "source": [
    "**3.3.Các phép toán trên mảng**\n",
    "\n",
    "- Để tính toán các giá trị trên một mảng trong NumPy, chúng ta có các hàm như `numpy.sum()`, `numpy.mean()`, `numpy.max()`, và `numpy.min()`. Hãy thực hiện các phép tính này trên mảng arr:"
   ]
  },
  {
   "cell_type": "code",
   "execution_count": 20,
   "metadata": {},
   "outputs": [
    {
     "name": "stdout",
     "output_type": "stream",
     "text": [
      "Tổng các phần tử trong mảng:  100\n",
      "Tổng 5 phần tử đầu tiên trong mảng:  25\n",
      "Giá trị trung bình các phần tử trong mảng:  10.0\n",
      "Phần tử lớn nhất trong mảng:  19\n",
      "Phần tử nhỏ nhất trong mảng:  1\n"
     ]
    }
   ],
   "source": [
    "print(\"Tổng các phần tử trong mảng: \", arr1.sum())\n",
    "print(\"Tổng 5 phần tử đầu tiên trong mảng: \", arr1[0:5].sum())\n",
    "print(\"Giá trị trung bình các phần tử trong mảng: \", arr1.mean())\n",
    "print(\"Phần tử lớn nhất trong mảng: \", arr1.max())\n",
    "print(\"Phần tử nhỏ nhất trong mảng: \", arr1.min())"
   ]
  },
  {
   "cell_type": "markdown",
   "metadata": {},
   "source": [
    "**3.4 Thay đổi giá trị các phần tử trong mảng**\n",
    "\n",
    "Thực hiện phép gán giá trị mới cho 1 phần tử của mảng. Ví dụ, thay đổi giá trị của phần tử thứ 3 trong mảng 1 chiều arr1: "
   ]
  },
  {
   "cell_type": "code",
   "execution_count": 57,
   "metadata": {},
   "outputs": [
    {
     "name": "stdout",
     "output_type": "stream",
     "text": [
      "[  1.    2.5 100.    5.5   7.    8.5  10.   11.5  13.   14.5  16.   17.5\n",
      "  19. ]\n",
      "Sau thay đổi \n",
      " [ 1.   2.5 50.   5.5  7.   8.5 10.  11.5 13.  14.5 16.  17.5 19. ]\n"
     ]
    }
   ],
   "source": [
    "# In thông tin mảng\n",
    "print(arr1)\n",
    "\n",
    "# thay đổi giá trị của phần tử thứ 3\n",
    "arr1[2] = 50\n",
    "\n",
    "print (\"Sau thay đổi \\n\", arr1)"
   ]
  },
  {
   "cell_type": "markdown",
   "metadata": {},
   "source": [
    "**Hàm `reshape()` cho phép thay đổi kích thước của các mảng.**"
   ]
  },
  {
   "cell_type": "code",
   "execution_count": 21,
   "metadata": {},
   "outputs": [
    {
     "name": "stdout",
     "output_type": "stream",
     "text": [
      "[10 11 12 13 14 15 16 17 18 19] \n",
      " [[10 11 12 13 14]\n",
      " [15 16 17 18 19]]\n"
     ]
    }
   ],
   "source": [
    "# Tạo mảng 10 phần từ số nguyên có giá trị từ 10 đến 20. \n",
    "arr_int = np.arange(10,20)\n",
    "\n",
    "# Tạo mảng 2 chiều 2x5 từ mảng trên\n",
    "\n",
    "arr_reshaped = arr_int.reshape(2,5)\n",
    "\n",
    "print(arr_int,\"\\n\",arr_reshaped)"
   ]
  },
  {
   "cell_type": "markdown",
   "metadata": {},
   "source": [
    "# 4. Thao tác trên mảng 2 chiều\n",
    "\n",
    "- Một mảng hai chiều là một mảng kích thước M (hàng) x N (cột) . Chúng ta có thể tạo một mảng hai chiều bằng cách sử dụng hàm numpy.array() và truyền vào một tập các danh sách. \n",
    "\n",
    "- Các thao tác trên mảng 2 chiều cũng tương tự như mảng 1 chiều. "
   ]
  },
  {
   "cell_type": "code",
   "execution_count": 22,
   "metadata": {},
   "outputs": [
    {
     "name": "stdout",
     "output_type": "stream",
     "text": [
      "[[1 2 3 4]\n",
      " [5 6 7 8]]\n",
      "int32\n"
     ]
    }
   ],
   "source": [
    "# Tạo một mảng hai chiều có dữ liệu đồng nhất kiểu int\n",
    "arr_2d = np.array([[1, 2, 3, 4], [5,6,7, 8]])\n",
    "\n",
    "print(arr_2d)\n",
    "print(arr_2d.dtype)\n"
   ]
  },
  {
   "cell_type": "code",
   "execution_count": 23,
   "metadata": {},
   "outputs": [
    {
     "name": "stdout",
     "output_type": "stream",
     "text": [
      "[['1' '2' 'abc']\n",
      " ['3' '4' '5.5']]\n",
      "<U32\n"
     ]
    }
   ],
   "source": [
    "# Tạo một mảng hai chiều từ các list có loại dữ liệu khác nhau\n",
    "arr_2d_1 = np.array([[1, 2, \"abc\"], [3, 4, 5.5]])\n",
    "print(arr_2d_1)\n",
    "print(arr_2d_1.dtype)"
   ]
  },
  {
   "cell_type": "code",
   "execution_count": 54,
   "metadata": {},
   "outputs": [
    {
     "name": "stdout",
     "output_type": "stream",
     "text": [
      "2\n",
      "[[1 2]\n",
      " [3 4]]\n"
     ]
    }
   ],
   "source": [
    "# Truy cập vào phần tử hàng thứ 1 và cột thứ 2 trong mảng 2 chiều\n",
    "print(arr_2d[0, 1])\n",
    "\n",
    "# slicing mảng 2 chiều: ví dụ, in ra 2 hàng, 2 cột đầu tiên:\n",
    "\n",
    "print(arr_2d[:2, :2])\n",
    "\n"
   ]
  },
  {
   "cell_type": "code",
   "execution_count": 24,
   "metadata": {},
   "outputs": [
    {
     "name": "stdout",
     "output_type": "stream",
     "text": [
      "Tổng các phần tử trong mảng:  36\n",
      "Giá trị trung bình các phần tử trong mảng:  4.5\n",
      "Phần tử lớn nhất trong mảng:  8\n",
      "Phần tử nhỏ nhất trong mảng:  1\n"
     ]
    }
   ],
   "source": [
    "# các phép toán trong mảng\n",
    "print(\"Tổng các phần tử trong mảng: \", arr_2d.sum())\n",
    "print(\"Giá trị trung bình các phần tử trong mảng: \", arr_2d.mean())\n",
    "print(\"Phần tử lớn nhất trong mảng: \", arr_2d.max())\n",
    "print(\"Phần tử nhỏ nhất trong mảng: \", arr_2d.min())"
   ]
  },
  {
   "cell_type": "markdown",
   "metadata": {},
   "source": [
    "**Hàm numpy.concatenate()**:\n",
    "\n",
    "Chúng ta có thể gộp các mảng thành một mảng lớn hơn bằng cách sử dụng hàm `numpy.concatenate()`. Các mảng có thể được gộp theo hàng hoặc cột. \n",
    "\n",
    "*Lưu ý:*\n",
    "- Để gộp các mảng theo hàng thì số cột của các mảng cần gộp phải giống nhau.\n",
    "- Để gộp các mảng theo cột thì số hàng của các mảng cần gộp phải giống nhau."
   ]
  },
  {
   "cell_type": "code",
   "execution_count": 27,
   "metadata": {},
   "outputs": [
    {
     "name": "stdout",
     "output_type": "stream",
     "text": [
      "[[ 1  2]\n",
      " [ 3  4]\n",
      " [11 12]\n",
      " [13 14]\n",
      " [15 16]]\n",
      "[[1 2 5 6 6]\n",
      " [3 4 7 8 8]]\n"
     ]
    }
   ],
   "source": [
    "# Tạo hai mảng 2 chiều\n",
    "arr1 = np.array([[1, 2], [3, 4]])\n",
    "arr2 = np.array([[5, 6, 6], [7, 8, 8]])\n",
    "arr3 = np.array([[11,12], [13, 14], [15, 16]])\n",
    "\n",
    "# Gộp các mảng theo hàng (axis = 0)\n",
    "concatenated_arr1 = np.concatenate((arr1, arr3), axis=0)\n",
    "print(concatenated_arr1)\n",
    "\n",
    "# Gộp các mảng theo cột (axis=1)\n",
    "concatenated_arr2 = np.concatenate((arr1, arr2), axis=1)\n",
    "print(concatenated_arr2)\n"
   ]
  },
  {
   "cell_type": "markdown",
   "metadata": {},
   "source": [
    "# Bài tập thực hành\n"
   ]
  },
  {
   "cell_type": "markdown",
   "metadata": {},
   "source": [
    "Bài 1. Hãy tạo một mảng 1 chiều gồm 10 số 5 dùng hàm ones. \n",
    "\n",
    "Bài 2. Tạo mảng số chẵn trong đoạn [10, 50] và tính tổng các phần tử của mảng.\n",
    "\n",
    "Bài 3. Tạo mảng A có kích thước 10x10 với các giá trị từ 0 đến 99. Sau đó tạo mảng mới A1 có giá trị sắp xếp đảo ngược của A\n",
    "\n",
    "Bài 4. Tính tổng, giá trị trung bình của hàng thứ 5 của mảng A (bài 3)\n",
    "\n",
    "Bài 5. Tính tổng, giá trị trung bình của cột thứ 10 của mảng A (bài 3)\n",
    "\n",
    "Bài 6. Hãy tạo mảng B từ 5 hàng, 4 cột đầu tiên của mảng A\n",
    "\n",
    "Bài 7. Hãy tạo mảng C từ 3 hàng, 3 cột cuối cùng của mảng A\n",
    "\n",
    "Bài 8. Hãy tạo mảng D dùng phương pháp array slicing từ hàng thứ 4 đến 6 và từ cột thứ 8 đến 10\n",
    "\n",
    "Bài 9. Hãy tính tổng của tất cả các cột trong mảng A.\n",
    "\n",
    "Bài 10. Hãy tạo mảng 5x4 với các số ngẫu nhiên có giá trị trong khoảng 10 đến 100. Tính tổng, giá trị trung bình, tìm số lớn nhất, số nhỏ nhất trong mảng."
   ]
  },
  {
   "cell_type": "code",
   "execution_count": null,
   "metadata": {},
   "outputs": [],
   "source": []
  }
 ],
 "metadata": {
  "kernelspec": {
   "display_name": "Python 3 (ipykernel)",
   "language": "python",
   "name": "python3"
  },
  "language_info": {
   "codemirror_mode": {
    "name": "ipython",
    "version": 3
   },
   "file_extension": ".py",
   "mimetype": "text/x-python",
   "name": "python",
   "nbconvert_exporter": "python",
   "pygments_lexer": "ipython3",
   "version": "3.9.13"
  },
  "nbclean": true
 },
 "nbformat": 4,
 "nbformat_minor": 1
}
