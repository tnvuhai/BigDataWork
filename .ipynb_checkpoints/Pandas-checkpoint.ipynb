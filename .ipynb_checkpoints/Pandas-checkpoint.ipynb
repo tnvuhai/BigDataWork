{
 "cells": [
  {
   "cell_type": "code",
   "execution_count": 2,
   "metadata": {},
   "outputs": [],
   "source": [
    "%matplotlib inline\n",
    "import matplotlib\n",
    "import seaborn as sns\n",
    "import numpy as np\n",
    "matplotlib.rcParams['savefig.dpi'] = 144"
   ]
  },
  {
   "cell_type": "markdown",
   "metadata": {},
   "source": [
    "# Pandas\n",
    "\n",
    "Pandas là một thư viện phổ biến trong Python được sử dụng để làm việc với dữ liệu và phân tích dữ liệu. \n",
    "Loại dữ liệu chính của Pandas là các bảng dữ liệu (data frames), và chuỗi dữ liệu (Data series).\n",
    "Các thao tác với dữ liệu  thể được sắp xếp, lọc, chọn, thêm mới dữ liệu và thực hiện nhiều thao tác khác trên dữ liệu.\n",
    "\n",
    "\n"
   ]
  },
  {
   "cell_type": "code",
   "execution_count": 3,
   "metadata": {},
   "outputs": [],
   "source": [
    "import pandas as pd"
   ]
  },
  {
   "cell_type": "code",
   "execution_count": 18,
   "metadata": {},
   "outputs": [],
   "source": [
    "?pd.DataFrame"
   ]
  },
  {
   "cell_type": "markdown",
   "metadata": {},
   "source": [
    "**1. Tạo một data frame**\n",
    "\n",
    "Để tạo một đối tượng dataframe trong Pandas, chúng ta có thể sử dụng hàm `pandas.DataFrame()`.\n",
    "\n",
    "Các tham số của hàm này bao gồm dữ liệu (như một mảng NumPy hoặc một dictionary) và các tham số khác như tên các cột hoặc chỉ số của các dòng."
   ]
  },
  {
   "cell_type": "markdown",
   "metadata": {},
   "source": [
    "**2. Các hàm đọc file trong Pandas**\n",
    "\n",
    "Pandas hỗ trợ đọc các file định dạng khác nhau và trả về kiểu dữ liệu dataframe. Các hàm thực hiện gồm có:\n",
    "\n",
    "`read_csv`: đọc dữ liệu từ một file có định dạng (extension) .csv và trả về một DataFrame.\n",
    "\n",
    "`read_excel`: đọc dữ liệu từ một file Excel và trả về một DataFrame.\n",
    "\n",
    "`read_json`: đọc dữ liệu từ một file JSON và trả về một DataFrame.\n",
    "\n",
    "`read_sql`: đọc dữ liệu từ một cơ sở dữ liệu SQL và trả về một DataFrame."
   ]
  },
  {
   "cell_type": "code",
   "execution_count": 4,
   "metadata": {},
   "outputs": [
    {
     "name": "stdout",
     "output_type": "stream",
     "text": [
      "[[0.61517655 0.26984043 0.08845983]\n",
      " [0.49056838 0.06958108 0.92739476]\n",
      " [0.91460094 0.48079776 0.96546449]\n",
      " [0.79584098 0.49054109 0.31245058]]\n"
     ]
    },
    {
     "data": {
      "text/html": [
       "<div>\n",
       "<style scoped>\n",
       "    .dataframe tbody tr th:only-of-type {\n",
       "        vertical-align: middle;\n",
       "    }\n",
       "\n",
       "    .dataframe tbody tr th {\n",
       "        vertical-align: top;\n",
       "    }\n",
       "\n",
       "    .dataframe thead th {\n",
       "        text-align: right;\n",
       "    }\n",
       "</style>\n",
       "<table border=\"1\" class=\"dataframe\">\n",
       "  <thead>\n",
       "    <tr style=\"text-align: right;\">\n",
       "      <th></th>\n",
       "      <th>a</th>\n",
       "      <th>b</th>\n",
       "      <th>c</th>\n",
       "    </tr>\n",
       "  </thead>\n",
       "  <tbody>\n",
       "    <tr>\n",
       "      <th>0</th>\n",
       "      <td>0.615177</td>\n",
       "      <td>0.269840</td>\n",
       "      <td>0.088460</td>\n",
       "    </tr>\n",
       "    <tr>\n",
       "      <th>1</th>\n",
       "      <td>0.490568</td>\n",
       "      <td>0.069581</td>\n",
       "      <td>0.927395</td>\n",
       "    </tr>\n",
       "    <tr>\n",
       "      <th>2</th>\n",
       "      <td>0.914601</td>\n",
       "      <td>0.480798</td>\n",
       "      <td>0.965464</td>\n",
       "    </tr>\n",
       "    <tr>\n",
       "      <th>3</th>\n",
       "      <td>0.795841</td>\n",
       "      <td>0.490541</td>\n",
       "      <td>0.312451</td>\n",
       "    </tr>\n",
       "  </tbody>\n",
       "</table>\n",
       "</div>"
      ],
      "text/plain": [
       "          a         b         c\n",
       "0  0.615177  0.269840  0.088460\n",
       "1  0.490568  0.069581  0.927395\n",
       "2  0.914601  0.480798  0.965464\n",
       "3  0.795841  0.490541  0.312451"
      ]
     },
     "execution_count": 4,
     "metadata": {},
     "output_type": "execute_result"
    }
   ],
   "source": [
    "# Tạo df từ numpy array\n",
    "random_data = np.random.random((4,3))\n",
    "print(random_data)\n",
    "df_random = pd.DataFrame(random_data, columns=['a', 'b', 'c'])\n",
    "df_random"
   ]
  },
  {
   "cell_type": "code",
   "execution_count": 5,
   "metadata": {},
   "outputs": [
    {
     "name": "stdout",
     "output_type": "stream",
     "text": [
      "{'col1': [1, 2, 3, 4], 'col2': ['A', 'B', 'X', 'Y']} \n",
      " <class 'dict'>\n",
      "   col1 col2\n",
      "0     1    A\n",
      "1     2    B\n",
      "2     3    X\n",
      "3     4    Y \n",
      " <class 'pandas.core.frame.DataFrame'>\n"
     ]
    }
   ],
   "source": [
    "# Tạo DataFrame từ các dữ liệu dict of lists\n",
    "d = {\"col1\": [1, 2,3,4], \"col2\": [\"A\",\"B\", \"X\", \"Y\"]}\n",
    "df_d = pd.DataFrame(data=d)\n",
    "print(d, \"\\n\", type(d) )\n",
    "print(df_d, \"\\n\", type(df_d))"
   ]
  },
  {
   "cell_type": "code",
   "execution_count": 6,
   "metadata": {},
   "outputs": [],
   "source": [
    "# Đọc từ file csv vào dataframe\n",
    "df_csv = pd.read_csv(\"data/customers.csv\")"
   ]
  },
  {
   "cell_type": "markdown",
   "metadata": {},
   "source": [
    "**3. Một số hàm xem thông tin của Pandas DataFrame**\n",
    "\n",
    "`dataframe.head()`: Hiển thị 5 dòng đầu tiên của bảng ghi; head(15) hiển thị 15 dòng đầu\n",
    "\n",
    "`dataframe.tail(n)`: Trả về n dòng cuối cùng của dataframe.\n",
    "\n",
    "`dataframe.shape`: Trả về tuple số dòng và số cột của dataframe.\n",
    "\n",
    "`dataframe.size`: Kiểm tra kích thước của bảng ghi (số dòng x số cột)\n",
    "\n",
    "`dataframe.columns`: Trả về danh sách tên cột của dataframe.\n",
    "\n",
    "`dataframe.index`: Trả về chỉ số của các dòng của dataframe.\n",
    "\n",
    "`dataframe.info()`: Hiển thị thông tin về dataframe, bao gồm số lượng giá trị không bị thiếu và kiểu dữ liệu của từng cột.\n",
    "\n",
    "`dataframe.describe()`: Hiển thị thống kê mô tả cho dataframe, bao gồm số lượng, giá trị trung bình, độ lệch chuẩn, giá trị nhỏ nhất, giá trị lớn nhất và các giá trị percentiles.\n",
    "\n",
    " "
   ]
  },
  {
   "cell_type": "code",
   "execution_count": 7,
   "metadata": {},
   "outputs": [
    {
     "data": {
      "text/plain": [
       "(519, 3)"
      ]
     },
     "execution_count": 7,
     "metadata": {},
     "output_type": "execute_result"
    }
   ],
   "source": [
    "# Hiển thị kích thước của dataframe\n",
    "df_csv.shape"
   ]
  },
  {
   "cell_type": "code",
   "execution_count": 8,
   "metadata": {},
   "outputs": [
    {
     "name": "stdout",
     "output_type": "stream",
     "text": [
      "Index(['id', 'name', 'billing_country'], dtype='object')\n"
     ]
    }
   ],
   "source": [
    "# Hiển thị danh sách tên cột của df\n",
    "print(df_csv.columns)"
   ]
  },
  {
   "cell_type": "code",
   "execution_count": 9,
   "metadata": {},
   "outputs": [
    {
     "name": "stdout",
     "output_type": "stream",
     "text": [
      "<class 'pandas.core.frame.DataFrame'>\n",
      "RangeIndex: 519 entries, 0 to 518\n",
      "Data columns (total 3 columns):\n",
      " #   Column           Non-Null Count  Dtype \n",
      "---  ------           --------------  ----- \n",
      " 0   id               519 non-null    int64 \n",
      " 1   name             519 non-null    object\n",
      " 2   billing_country  519 non-null    object\n",
      "dtypes: int64(1), object(2)\n",
      "memory usage: 12.3+ KB\n"
     ]
    }
   ],
   "source": [
    "# hiển thị thông tin chi tiết các cột/columns của df\n",
    "df_csv.info()"
   ]
  },
  {
   "cell_type": "code",
   "execution_count": 10,
   "metadata": {},
   "outputs": [
    {
     "data": {
      "text/html": [
       "<div>\n",
       "<style scoped>\n",
       "    .dataframe tbody tr th:only-of-type {\n",
       "        vertical-align: middle;\n",
       "    }\n",
       "\n",
       "    .dataframe tbody tr th {\n",
       "        vertical-align: top;\n",
       "    }\n",
       "\n",
       "    .dataframe thead th {\n",
       "        text-align: right;\n",
       "    }\n",
       "</style>\n",
       "<table border=\"1\" class=\"dataframe\">\n",
       "  <thead>\n",
       "    <tr style=\"text-align: right;\">\n",
       "      <th></th>\n",
       "      <th>id</th>\n",
       "    </tr>\n",
       "  </thead>\n",
       "  <tbody>\n",
       "    <tr>\n",
       "      <th>count</th>\n",
       "      <td>519.000000</td>\n",
       "    </tr>\n",
       "    <tr>\n",
       "      <th>mean</th>\n",
       "      <td>1073.188825</td>\n",
       "    </tr>\n",
       "    <tr>\n",
       "      <th>std</th>\n",
       "      <td>605.982618</td>\n",
       "    </tr>\n",
       "    <tr>\n",
       "      <th>min</th>\n",
       "      <td>1.000000</td>\n",
       "    </tr>\n",
       "    <tr>\n",
       "      <th>25%</th>\n",
       "      <td>519.000000</td>\n",
       "    </tr>\n",
       "    <tr>\n",
       "      <th>50%</th>\n",
       "      <td>1079.000000</td>\n",
       "    </tr>\n",
       "    <tr>\n",
       "      <th>75%</th>\n",
       "      <td>1593.000000</td>\n",
       "    </tr>\n",
       "    <tr>\n",
       "      <th>max</th>\n",
       "      <td>2096.000000</td>\n",
       "    </tr>\n",
       "  </tbody>\n",
       "</table>\n",
       "</div>"
      ],
      "text/plain": [
       "                id\n",
       "count   519.000000\n",
       "mean   1073.188825\n",
       "std     605.982618\n",
       "min       1.000000\n",
       "25%     519.000000\n",
       "50%    1079.000000\n",
       "75%    1593.000000\n",
       "max    2096.000000"
      ]
     },
     "execution_count": 10,
     "metadata": {},
     "output_type": "execute_result"
    }
   ],
   "source": [
    "# Hiển thị các thống kê mô tả (đối với các cột dữ liệu số)cho df\n",
    "df_csv.describe()"
   ]
  },
  {
   "cell_type": "markdown",
   "metadata": {},
   "source": [
    "**4. Một số thao tác xử lý dữ liệu trong dataframe**\n"
   ]
  },
  {
   "cell_type": "markdown",
   "metadata": {},
   "source": [
    "*4.1. Truy cập phần tử của dataframe*\n",
    "\n",
    "- Sử dụng dấu ngoặc vuông [] để truy cập vào một cột của DataFrame.  Vì `DataFrame` là `dict` của `Series`, nên chúng ta có thể chọn một cột và sau đó chọn một hàng bằng cách sử dụng ký hiệu dấu ngoặc vuông, chứ không phải ngược lại \n",
    "\n",
    "- `dataframe.loc`: Truy cập một nhóm các hàng và cột theo (các) nhãn hoặc một mảng boolean. Cú pháp: `dataframe.loc[row_labels][column_labels]` hoặc`dataframe.loc[row_labels, column_labels]`\n",
    "\n",
    "- `dataframe.iloc`: truy cập vào một nhóm các dòng và cột của DataFrame bằng index số. Cú pháp  `dataframe.iloc[row_index][column_index]`"
   ]
  },
  {
   "cell_type": "code",
   "execution_count": 11,
   "metadata": {},
   "outputs": [
    {
     "data": {
      "text/plain": [
       "0    Serenity Ladner\n",
       "1       Lucy Baldwin\n",
       "2     Skylar Coffman\n",
       "3       Riley Kinsey\n",
       "4     Heidi Spurlock\n",
       "5      Makenna Rojas\n",
       "6    Lillian Strange\n",
       "7        Erin Gorman\n",
       "8         Abigail Le\n",
       "9       Alana Herzog\n",
       "Name: name, dtype: object"
      ]
     },
     "execution_count": 11,
     "metadata": {},
     "output_type": "execute_result"
    }
   ],
   "source": [
    "# Hiển thị 10 dòng đầu của cột \"name\"\n",
    "df_csv['name'].head(10)"
   ]
  },
  {
   "cell_type": "code",
   "execution_count": 12,
   "metadata": {},
   "outputs": [
    {
     "data": {
      "text/plain": [
       "'Alana Herzog'"
      ]
     },
     "execution_count": 12,
     "metadata": {},
     "output_type": "execute_result"
    }
   ],
   "source": [
    "# Xem phần tử thứ/hàng 10 của cột \"name\" \n",
    "df_csv['name'][9]"
   ]
  },
  {
   "cell_type": "code",
   "execution_count": 13,
   "metadata": {},
   "outputs": [
    {
     "ename": "KeyError",
     "evalue": "100",
     "output_type": "error",
     "traceback": [
      "\u001b[1;31m---------------------------------------------------------------------------\u001b[0m",
      "\u001b[1;31mKeyError\u001b[0m                                  Traceback (most recent call last)",
      "\u001b[1;32m~\\anaconda3\\lib\\site-packages\\pandas\\core\\indexes\\base.py\u001b[0m in \u001b[0;36mget_loc\u001b[1;34m(self, key, method, tolerance)\u001b[0m\n\u001b[0;32m   3628\u001b[0m             \u001b[1;32mtry\u001b[0m\u001b[1;33m:\u001b[0m\u001b[1;33m\u001b[0m\u001b[1;33m\u001b[0m\u001b[0m\n\u001b[1;32m-> 3629\u001b[1;33m                 \u001b[1;32mreturn\u001b[0m \u001b[0mself\u001b[0m\u001b[1;33m.\u001b[0m\u001b[0m_engine\u001b[0m\u001b[1;33m.\u001b[0m\u001b[0mget_loc\u001b[0m\u001b[1;33m(\u001b[0m\u001b[0mcasted_key\u001b[0m\u001b[1;33m)\u001b[0m\u001b[1;33m\u001b[0m\u001b[1;33m\u001b[0m\u001b[0m\n\u001b[0m\u001b[0;32m   3630\u001b[0m             \u001b[1;32mexcept\u001b[0m \u001b[0mKeyError\u001b[0m \u001b[1;32mas\u001b[0m \u001b[0merr\u001b[0m\u001b[1;33m:\u001b[0m\u001b[1;33m\u001b[0m\u001b[1;33m\u001b[0m\u001b[0m\n",
      "\u001b[1;32m~\\anaconda3\\lib\\site-packages\\pandas\\_libs\\index.pyx\u001b[0m in \u001b[0;36mpandas._libs.index.IndexEngine.get_loc\u001b[1;34m()\u001b[0m\n",
      "\u001b[1;32m~\\anaconda3\\lib\\site-packages\\pandas\\_libs\\index.pyx\u001b[0m in \u001b[0;36mpandas._libs.index.IndexEngine.get_loc\u001b[1;34m()\u001b[0m\n",
      "\u001b[1;32mpandas\\_libs\\hashtable_class_helper.pxi\u001b[0m in \u001b[0;36mpandas._libs.hashtable.PyObjectHashTable.get_item\u001b[1;34m()\u001b[0m\n",
      "\u001b[1;32mpandas\\_libs\\hashtable_class_helper.pxi\u001b[0m in \u001b[0;36mpandas._libs.hashtable.PyObjectHashTable.get_item\u001b[1;34m()\u001b[0m\n",
      "\u001b[1;31mKeyError\u001b[0m: 100",
      "\nThe above exception was the direct cause of the following exception:\n",
      "\u001b[1;31mKeyError\u001b[0m                                  Traceback (most recent call last)",
      "\u001b[1;32m~\\AppData\\Local\\Temp\\ipykernel_8964\\1649817811.py\u001b[0m in \u001b[0;36m<module>\u001b[1;34m\u001b[0m\n\u001b[0;32m      1\u001b[0m \u001b[1;31m# Câu lệnh này không đúng\u001b[0m\u001b[1;33m\u001b[0m\u001b[1;33m\u001b[0m\u001b[0m\n\u001b[1;32m----> 2\u001b[1;33m \u001b[0mdf_csv\u001b[0m\u001b[1;33m[\u001b[0m\u001b[1;36m100\u001b[0m\u001b[1;33m]\u001b[0m\u001b[1;33m[\u001b[0m\u001b[1;34m'name'\u001b[0m\u001b[1;33m]\u001b[0m\u001b[1;33m\u001b[0m\u001b[1;33m\u001b[0m\u001b[0m\n\u001b[0m",
      "\u001b[1;32m~\\anaconda3\\lib\\site-packages\\pandas\\core\\frame.py\u001b[0m in \u001b[0;36m__getitem__\u001b[1;34m(self, key)\u001b[0m\n\u001b[0;32m   3503\u001b[0m             \u001b[1;32mif\u001b[0m \u001b[0mself\u001b[0m\u001b[1;33m.\u001b[0m\u001b[0mcolumns\u001b[0m\u001b[1;33m.\u001b[0m\u001b[0mnlevels\u001b[0m \u001b[1;33m>\u001b[0m \u001b[1;36m1\u001b[0m\u001b[1;33m:\u001b[0m\u001b[1;33m\u001b[0m\u001b[1;33m\u001b[0m\u001b[0m\n\u001b[0;32m   3504\u001b[0m                 \u001b[1;32mreturn\u001b[0m \u001b[0mself\u001b[0m\u001b[1;33m.\u001b[0m\u001b[0m_getitem_multilevel\u001b[0m\u001b[1;33m(\u001b[0m\u001b[0mkey\u001b[0m\u001b[1;33m)\u001b[0m\u001b[1;33m\u001b[0m\u001b[1;33m\u001b[0m\u001b[0m\n\u001b[1;32m-> 3505\u001b[1;33m             \u001b[0mindexer\u001b[0m \u001b[1;33m=\u001b[0m \u001b[0mself\u001b[0m\u001b[1;33m.\u001b[0m\u001b[0mcolumns\u001b[0m\u001b[1;33m.\u001b[0m\u001b[0mget_loc\u001b[0m\u001b[1;33m(\u001b[0m\u001b[0mkey\u001b[0m\u001b[1;33m)\u001b[0m\u001b[1;33m\u001b[0m\u001b[1;33m\u001b[0m\u001b[0m\n\u001b[0m\u001b[0;32m   3506\u001b[0m             \u001b[1;32mif\u001b[0m \u001b[0mis_integer\u001b[0m\u001b[1;33m(\u001b[0m\u001b[0mindexer\u001b[0m\u001b[1;33m)\u001b[0m\u001b[1;33m:\u001b[0m\u001b[1;33m\u001b[0m\u001b[1;33m\u001b[0m\u001b[0m\n\u001b[0;32m   3507\u001b[0m                 \u001b[0mindexer\u001b[0m \u001b[1;33m=\u001b[0m \u001b[1;33m[\u001b[0m\u001b[0mindexer\u001b[0m\u001b[1;33m]\u001b[0m\u001b[1;33m\u001b[0m\u001b[1;33m\u001b[0m\u001b[0m\n",
      "\u001b[1;32m~\\anaconda3\\lib\\site-packages\\pandas\\core\\indexes\\base.py\u001b[0m in \u001b[0;36mget_loc\u001b[1;34m(self, key, method, tolerance)\u001b[0m\n\u001b[0;32m   3629\u001b[0m                 \u001b[1;32mreturn\u001b[0m \u001b[0mself\u001b[0m\u001b[1;33m.\u001b[0m\u001b[0m_engine\u001b[0m\u001b[1;33m.\u001b[0m\u001b[0mget_loc\u001b[0m\u001b[1;33m(\u001b[0m\u001b[0mcasted_key\u001b[0m\u001b[1;33m)\u001b[0m\u001b[1;33m\u001b[0m\u001b[1;33m\u001b[0m\u001b[0m\n\u001b[0;32m   3630\u001b[0m             \u001b[1;32mexcept\u001b[0m \u001b[0mKeyError\u001b[0m \u001b[1;32mas\u001b[0m \u001b[0merr\u001b[0m\u001b[1;33m:\u001b[0m\u001b[1;33m\u001b[0m\u001b[1;33m\u001b[0m\u001b[0m\n\u001b[1;32m-> 3631\u001b[1;33m                 \u001b[1;32mraise\u001b[0m \u001b[0mKeyError\u001b[0m\u001b[1;33m(\u001b[0m\u001b[0mkey\u001b[0m\u001b[1;33m)\u001b[0m \u001b[1;32mfrom\u001b[0m \u001b[0merr\u001b[0m\u001b[1;33m\u001b[0m\u001b[1;33m\u001b[0m\u001b[0m\n\u001b[0m\u001b[0;32m   3632\u001b[0m             \u001b[1;32mexcept\u001b[0m \u001b[0mTypeError\u001b[0m\u001b[1;33m:\u001b[0m\u001b[1;33m\u001b[0m\u001b[1;33m\u001b[0m\u001b[0m\n\u001b[0;32m   3633\u001b[0m                 \u001b[1;31m# If we have a listlike key, _check_indexing_error will raise\u001b[0m\u001b[1;33m\u001b[0m\u001b[1;33m\u001b[0m\u001b[0m\n",
      "\u001b[1;31mKeyError\u001b[0m: 100"
     ]
    }
   ],
   "source": [
    "# Câu lệnh này không đúng\n",
    "df_csv[100]['name']"
   ]
  },
  {
   "cell_type": "code",
   "execution_count": 14,
   "metadata": {},
   "outputs": [
    {
     "name": "stdout",
     "output_type": "stream",
     "text": [
      "422\n",
      "id                    1\n",
      "name    Serenity Ladner\n",
      "Name: 0, dtype: object\n"
     ]
    }
   ],
   "source": [
    "#  Truy cập phần tử ở hàng 101, cột \"name\"  bằng hàm loc[]\n",
    "print(df_csv.loc[100, 'id'])\n",
    "\n",
    "# Truy cập các phần tử ở 2 cột đầu tiên trong hàng đầu tiên (index=0)\n",
    "print(df_csv.iloc[0][0:2])"
   ]
  },
  {
   "cell_type": "markdown",
   "metadata": {},
   "source": [
    "*4.2 Các phép toán trên dataframe*\n",
    "\n",
    "- Mỗi cột là 1 series tương đương 1 mảng numpy array 1 chiều. Do đó, các phép toán dùng cho numpy array đều dùng cho series trong pandas.\n",
    "\n",
    "- Vì dataframe là kiểu `dict` của `series` nên các hàm toán học và thao tác với `dict` cũng được dùng trong df.\n",
    "\n",
    "- Thao tác làm thay đổi kích thước DF: thêm, xóa hàng/cột, gộp nhiều DF.\n",
    "    - Thêm cột vào vị trí cuối DF, ta chỉ cần gán giá trị cho một cột mới với tên cột tương ứng. Để thêm cột vào vị trí xác định, ta dùng hàm `dataframe.insert()`. Cú pháp: `df.insert(loc, column, value)`\n",
    "    - Thêm hàng vào DF, ta dùng hàm `dataframe.append()`. \n",
    "    - Để xóa cột, hàng, ta dùng hàm `dataframe.drop()`.\n",
    "    - Để hợp nhất nhiều DF ta dùng `dataframe.merge()`.\n",
    "    "
   ]
  },
  {
   "cell_type": "code",
   "execution_count": 15,
   "metadata": {},
   "outputs": [
    {
     "name": "stdout",
     "output_type": "stream",
     "text": [
      "   id             name billing_country\n",
      "0   1  Serenity Ladner          Canada\n",
      "1   2     Lucy Baldwin          Canada\n",
      "2   5   Skylar Coffman             USA\n",
      "3   6     Riley Kinsey             USA\n",
      "4   7   Heidi Spurlock          Canada\n",
      "5  10    Makenna Rojas          Canada\n",
      "6  15  Lillian Strange          Canada\n",
      "7  17      Erin Gorman          Canada\n",
      "8  18       Abigail Le             USA\n",
      "9  22     Alana Herzog             USA \n",
      " (10, 3)\n"
     ]
    }
   ],
   "source": [
    "#Tạo 1 df gồm 10 đối tượng (entries)\n",
    "df_user = pd.read_csv(\"data/customers.csv\").iloc[:10]\n",
    "print(df_user, \"\\n\", df_user.shape)"
   ]
  },
  {
   "cell_type": "code",
   "execution_count": 16,
   "metadata": {},
   "outputs": [
    {
     "name": "stdout",
     "output_type": "stream",
     "text": [
      "   id             name billing_country  age\n",
      "0   1  Serenity Ladner          Canada   21\n",
      "1   2     Lucy Baldwin          Canada   25\n",
      "2   5   Skylar Coffman             USA   56\n",
      "3   6     Riley Kinsey             USA   33\n",
      "4   7   Heidi Spurlock          Canada   28\n",
      "5  10    Makenna Rojas          Canada   26\n",
      "6  15  Lillian Strange          Canada   33\n",
      "7  17      Erin Gorman          Canada   29\n",
      "8  18       Abigail Le             USA   41\n",
      "9  22     Alana Herzog             USA   20\n"
     ]
    }
   ],
   "source": [
    "# Thêm một cột thông tin về tuổi (age) với các giá trị từ list\n",
    "age = [21, 25, 56, 33, 28, 26, 33, 29, 41, 20]\n",
    "df_user[\"age\"] = age\n",
    "print(df_user)"
   ]
  },
  {
   "cell_type": "code",
   "execution_count": 17,
   "metadata": {},
   "outputs": [
    {
     "data": {
      "text/html": [
       "<div>\n",
       "<style scoped>\n",
       "    .dataframe tbody tr th:only-of-type {\n",
       "        vertical-align: middle;\n",
       "    }\n",
       "\n",
       "    .dataframe tbody tr th {\n",
       "        vertical-align: top;\n",
       "    }\n",
       "\n",
       "    .dataframe thead th {\n",
       "        text-align: right;\n",
       "    }\n",
       "</style>\n",
       "<table border=\"1\" class=\"dataframe\">\n",
       "  <thead>\n",
       "    <tr style=\"text-align: right;\">\n",
       "      <th></th>\n",
       "      <th>id</th>\n",
       "      <th>name</th>\n",
       "      <th>billing_country</th>\n",
       "    </tr>\n",
       "  </thead>\n",
       "  <tbody>\n",
       "    <tr>\n",
       "      <th>0</th>\n",
       "      <td>1</td>\n",
       "      <td>Serenity Ladner</td>\n",
       "      <td>Canada</td>\n",
       "    </tr>\n",
       "    <tr>\n",
       "      <th>1</th>\n",
       "      <td>2</td>\n",
       "      <td>Lucy Baldwin</td>\n",
       "      <td>Canada</td>\n",
       "    </tr>\n",
       "    <tr>\n",
       "      <th>2</th>\n",
       "      <td>5</td>\n",
       "      <td>Skylar Coffman</td>\n",
       "      <td>USA</td>\n",
       "    </tr>\n",
       "    <tr>\n",
       "      <th>3</th>\n",
       "      <td>6</td>\n",
       "      <td>Riley Kinsey</td>\n",
       "      <td>USA</td>\n",
       "    </tr>\n",
       "    <tr>\n",
       "      <th>4</th>\n",
       "      <td>7</td>\n",
       "      <td>Heidi Spurlock</td>\n",
       "      <td>Canada</td>\n",
       "    </tr>\n",
       "    <tr>\n",
       "      <th>5</th>\n",
       "      <td>10</td>\n",
       "      <td>Makenna Rojas</td>\n",
       "      <td>Canada</td>\n",
       "    </tr>\n",
       "    <tr>\n",
       "      <th>6</th>\n",
       "      <td>15</td>\n",
       "      <td>Lillian Strange</td>\n",
       "      <td>Canada</td>\n",
       "    </tr>\n",
       "    <tr>\n",
       "      <th>7</th>\n",
       "      <td>17</td>\n",
       "      <td>Erin Gorman</td>\n",
       "      <td>Canada</td>\n",
       "    </tr>\n",
       "    <tr>\n",
       "      <th>8</th>\n",
       "      <td>18</td>\n",
       "      <td>Abigail Le</td>\n",
       "      <td>USA</td>\n",
       "    </tr>\n",
       "    <tr>\n",
       "      <th>9</th>\n",
       "      <td>22</td>\n",
       "      <td>Alana Herzog</td>\n",
       "      <td>USA</td>\n",
       "    </tr>\n",
       "  </tbody>\n",
       "</table>\n",
       "</div>"
      ],
      "text/plain": [
       "   id             name billing_country\n",
       "0   1  Serenity Ladner          Canada\n",
       "1   2     Lucy Baldwin          Canada\n",
       "2   5   Skylar Coffman             USA\n",
       "3   6     Riley Kinsey             USA\n",
       "4   7   Heidi Spurlock          Canada\n",
       "5  10    Makenna Rojas          Canada\n",
       "6  15  Lillian Strange          Canada\n",
       "7  17      Erin Gorman          Canada\n",
       "8  18       Abigail Le             USA\n",
       "9  22     Alana Herzog             USA"
      ]
     },
     "execution_count": 17,
     "metadata": {},
     "output_type": "execute_result"
    }
   ],
   "source": [
    "df_user.drop(\"age\", axis = 1, inplace= True)\n",
    "df_user"
   ]
  },
  {
   "cell_type": "code",
   "execution_count": 18,
   "metadata": {},
   "outputs": [
    {
     "data": {
      "text/html": [
       "<div>\n",
       "<style scoped>\n",
       "    .dataframe tbody tr th:only-of-type {\n",
       "        vertical-align: middle;\n",
       "    }\n",
       "\n",
       "    .dataframe tbody tr th {\n",
       "        vertical-align: top;\n",
       "    }\n",
       "\n",
       "    .dataframe thead th {\n",
       "        text-align: right;\n",
       "    }\n",
       "</style>\n",
       "<table border=\"1\" class=\"dataframe\">\n",
       "  <thead>\n",
       "    <tr style=\"text-align: right;\">\n",
       "      <th></th>\n",
       "      <th>id</th>\n",
       "      <th>name</th>\n",
       "      <th>age</th>\n",
       "      <th>billing_country</th>\n",
       "    </tr>\n",
       "  </thead>\n",
       "  <tbody>\n",
       "    <tr>\n",
       "      <th>0</th>\n",
       "      <td>1</td>\n",
       "      <td>Serenity Ladner</td>\n",
       "      <td>21</td>\n",
       "      <td>Canada</td>\n",
       "    </tr>\n",
       "    <tr>\n",
       "      <th>1</th>\n",
       "      <td>2</td>\n",
       "      <td>Lucy Baldwin</td>\n",
       "      <td>25</td>\n",
       "      <td>Canada</td>\n",
       "    </tr>\n",
       "    <tr>\n",
       "      <th>2</th>\n",
       "      <td>5</td>\n",
       "      <td>Skylar Coffman</td>\n",
       "      <td>56</td>\n",
       "      <td>USA</td>\n",
       "    </tr>\n",
       "    <tr>\n",
       "      <th>3</th>\n",
       "      <td>6</td>\n",
       "      <td>Riley Kinsey</td>\n",
       "      <td>33</td>\n",
       "      <td>USA</td>\n",
       "    </tr>\n",
       "    <tr>\n",
       "      <th>4</th>\n",
       "      <td>7</td>\n",
       "      <td>Heidi Spurlock</td>\n",
       "      <td>28</td>\n",
       "      <td>Canada</td>\n",
       "    </tr>\n",
       "    <tr>\n",
       "      <th>5</th>\n",
       "      <td>10</td>\n",
       "      <td>Makenna Rojas</td>\n",
       "      <td>26</td>\n",
       "      <td>Canada</td>\n",
       "    </tr>\n",
       "    <tr>\n",
       "      <th>6</th>\n",
       "      <td>15</td>\n",
       "      <td>Lillian Strange</td>\n",
       "      <td>33</td>\n",
       "      <td>Canada</td>\n",
       "    </tr>\n",
       "    <tr>\n",
       "      <th>7</th>\n",
       "      <td>17</td>\n",
       "      <td>Erin Gorman</td>\n",
       "      <td>29</td>\n",
       "      <td>Canada</td>\n",
       "    </tr>\n",
       "    <tr>\n",
       "      <th>8</th>\n",
       "      <td>18</td>\n",
       "      <td>Abigail Le</td>\n",
       "      <td>41</td>\n",
       "      <td>USA</td>\n",
       "    </tr>\n",
       "    <tr>\n",
       "      <th>9</th>\n",
       "      <td>22</td>\n",
       "      <td>Alana Herzog</td>\n",
       "      <td>20</td>\n",
       "      <td>USA</td>\n",
       "    </tr>\n",
       "  </tbody>\n",
       "</table>\n",
       "</div>"
      ],
      "text/plain": [
       "   id             name  age billing_country\n",
       "0   1  Serenity Ladner   21          Canada\n",
       "1   2     Lucy Baldwin   25          Canada\n",
       "2   5   Skylar Coffman   56             USA\n",
       "3   6     Riley Kinsey   33             USA\n",
       "4   7   Heidi Spurlock   28          Canada\n",
       "5  10    Makenna Rojas   26          Canada\n",
       "6  15  Lillian Strange   33          Canada\n",
       "7  17      Erin Gorman   29          Canada\n",
       "8  18       Abigail Le   41             USA\n",
       "9  22     Alana Herzog   20             USA"
      ]
     },
     "execution_count": 18,
     "metadata": {},
     "output_type": "execute_result"
    }
   ],
   "source": [
    "# Dùng hàm insert để thêm cột vào vị trí thứ 3\n",
    "df_user.insert(2, \"age\", age)\n",
    "df_user"
   ]
  },
  {
   "cell_type": "code",
   "execution_count": 19,
   "metadata": {},
   "outputs": [
    {
     "data": {
      "text/plain": [
       "(10, 4)"
      ]
     },
     "execution_count": 19,
     "metadata": {},
     "output_type": "execute_result"
    }
   ],
   "source": [
    "# Xóa hàng thứ 3 của DF. \n",
    "df_user.drop(2)\n",
    "df_user.shape"
   ]
  },
  {
   "cell_type": "markdown",
   "metadata": {},
   "source": [
    "Hàm `drop()` trong câu lệnh trên chỉ xóa tạm thời, và kết quả tạo ra 1 bản sao df mới được sửa đổi, df cũ không bị thay đổi. \n",
    "\n",
    "Hầu hết các thao tác trong Pandas trả về một bản sao của DataFrame, thay vì sửa đổi chính đối tượng DataFrame. Do đó, để thay đổi vĩnh viễn DataFrame, chúng ta cần gán lại biến df hoặc sử dụng từ khóa inplace.\n",
    "\n",
    "Ví dụ, để xóa trực tiếp trong df hiện tại (df_user), truyền vào tham số `inplace= True`.\n"
   ]
  },
  {
   "cell_type": "code",
   "execution_count": 20,
   "metadata": {},
   "outputs": [
    {
     "data": {
      "text/plain": [
       "(9, 4)"
      ]
     },
     "execution_count": 20,
     "metadata": {},
     "output_type": "execute_result"
    }
   ],
   "source": [
    "df_user.drop(2, inplace = True)\n",
    "df_user.shape"
   ]
  },
  {
   "cell_type": "code",
   "execution_count": 21,
   "metadata": {},
   "outputs": [
    {
     "data": {
      "text/html": [
       "<div>\n",
       "<style scoped>\n",
       "    .dataframe tbody tr th:only-of-type {\n",
       "        vertical-align: middle;\n",
       "    }\n",
       "\n",
       "    .dataframe tbody tr th {\n",
       "        vertical-align: top;\n",
       "    }\n",
       "\n",
       "    .dataframe thead th {\n",
       "        text-align: right;\n",
       "    }\n",
       "</style>\n",
       "<table border=\"1\" class=\"dataframe\">\n",
       "  <thead>\n",
       "    <tr style=\"text-align: right;\">\n",
       "      <th></th>\n",
       "      <th>id</th>\n",
       "      <th>name</th>\n",
       "      <th>age</th>\n",
       "      <th>billing_country</th>\n",
       "    </tr>\n",
       "  </thead>\n",
       "  <tbody>\n",
       "    <tr>\n",
       "      <th>0</th>\n",
       "      <td>1</td>\n",
       "      <td>Serenity Ladner</td>\n",
       "      <td>21</td>\n",
       "      <td>Canada</td>\n",
       "    </tr>\n",
       "    <tr>\n",
       "      <th>1</th>\n",
       "      <td>2</td>\n",
       "      <td>Lucy Baldwin</td>\n",
       "      <td>25</td>\n",
       "      <td>Canada</td>\n",
       "    </tr>\n",
       "    <tr>\n",
       "      <th>3</th>\n",
       "      <td>6</td>\n",
       "      <td>Riley Kinsey</td>\n",
       "      <td>33</td>\n",
       "      <td>USA</td>\n",
       "    </tr>\n",
       "    <tr>\n",
       "      <th>4</th>\n",
       "      <td>7</td>\n",
       "      <td>Heidi Spurlock</td>\n",
       "      <td>28</td>\n",
       "      <td>Canada</td>\n",
       "    </tr>\n",
       "    <tr>\n",
       "      <th>5</th>\n",
       "      <td>10</td>\n",
       "      <td>Makenna Rojas</td>\n",
       "      <td>26</td>\n",
       "      <td>Canada</td>\n",
       "    </tr>\n",
       "    <tr>\n",
       "      <th>6</th>\n",
       "      <td>15</td>\n",
       "      <td>Lillian Strange</td>\n",
       "      <td>33</td>\n",
       "      <td>Canada</td>\n",
       "    </tr>\n",
       "    <tr>\n",
       "      <th>7</th>\n",
       "      <td>17</td>\n",
       "      <td>Erin Gorman</td>\n",
       "      <td>29</td>\n",
       "      <td>Canada</td>\n",
       "    </tr>\n",
       "    <tr>\n",
       "      <th>8</th>\n",
       "      <td>18</td>\n",
       "      <td>Abigail Le</td>\n",
       "      <td>41</td>\n",
       "      <td>USA</td>\n",
       "    </tr>\n",
       "    <tr>\n",
       "      <th>9</th>\n",
       "      <td>22</td>\n",
       "      <td>Alana Herzog</td>\n",
       "      <td>20</td>\n",
       "      <td>USA</td>\n",
       "    </tr>\n",
       "  </tbody>\n",
       "</table>\n",
       "</div>"
      ],
      "text/plain": [
       "   id             name  age billing_country\n",
       "0   1  Serenity Ladner   21          Canada\n",
       "1   2     Lucy Baldwin   25          Canada\n",
       "3   6     Riley Kinsey   33             USA\n",
       "4   7   Heidi Spurlock   28          Canada\n",
       "5  10    Makenna Rojas   26          Canada\n",
       "6  15  Lillian Strange   33          Canada\n",
       "7  17      Erin Gorman   29          Canada\n",
       "8  18       Abigail Le   41             USA\n",
       "9  22     Alana Herzog   20             USA"
      ]
     },
     "execution_count": 21,
     "metadata": {},
     "output_type": "execute_result"
    }
   ],
   "source": [
    "df_user"
   ]
  },
  {
   "cell_type": "markdown",
   "metadata": {},
   "source": [
    "\n",
    "Hàm `merge()` trong Pandas DataFrame được sử dụng để kết hợp (merge) hai hoặc nhiều DataFrame thành một DataFrame duy nhất dựa trên một hoặc nhiều cột chung (key).\n",
    "\n",
    "`pd.merge(left, right, how='inner', on=None, left_on=None, right_on=None, left_index=False, right_index=False, sort=True, suffixes=('_x', '_y'), copy=True, indicator=False, validate=None)`\n",
    "\n",
    "Trong đó:\n",
    "\n",
    "- left và right là hai DataFrame cần kết hợp\n",
    "- on, left_on và right_on là các cột chung được sử dụng để kết hợp các DataFrame. Nếu không được chỉ định, Pandas sẽ sử dụng tất cả các cột chung trong các DataFrame\n",
    "- how xác định loại kết hợp được sử dụng, bao gồm 'inner' (giao của hai tập hợp), 'outer' (hợp của hai tập hợp), 'left' (tập hợp trái và các phần tử chung) và 'right' (tập hợp phải và các phần tử chung)\n",
    "- left_index và right_index xác định xem liệu chỉ số của DataFrame nào có được sử dụng làm key\n",
    "- sort xác định xem kết quả có được sắp xếp theo key không\n",
    "- suffixes là tên đuôi để thêm vào các tên cột bị trùng lặp trong trường hợp kết hợp có các cột trùng tên\n",
    "- indicator cho biết liệu kết quả có thêm cột _merge để chỉ ra cách mà các key được kết hợp hay không.\n",
    "\n",
    "\n",
    " Ví dụ, để kết hợp hai DataFrame \"df_user\" và \"df2\" theo cột chung \"key\", ta có thể sử dụng mã sau:\n",
    "\n",
    "\n",
    "\n",
    " "
   ]
  },
  {
   "cell_type": "code",
   "execution_count": 37,
   "metadata": {},
   "outputs": [
    {
     "name": "stdout",
     "output_type": "stream",
     "text": [
      "   id  customer_id  product_id delivery_country\n",
      "0   0         1866         686            India\n",
      "1   1         1921         617            China\n",
      "2   1         1921          54          Armenia\n",
      "3   1         1921         566            China\n",
      "4   1         1921         128          Lebanon\n",
      "(2000, 4)\n"
     ]
    }
   ],
   "source": [
    "df2 = pd.read_csv(\"data/orders.csv\")\n",
    "\n",
    "print(df2.head())\n",
    "print(df2.shape)"
   ]
  },
  {
   "cell_type": "markdown",
   "metadata": {},
   "source": [
    "# Lọc khung dữ liệu\n",
    "\n",
    "Một trong những công cụ phân tích mạnh mẽ của Pandas DataFrame là cú pháp lọc dữ liệu của nó. Thông thường, chúng ta sẽ chỉ cần làm việc với một tập hợp con dữ liệu nhất định dựa trên một số tiêu chí.\n",
    "Các hàm lọc dữ liệu như: \n",
    "- count(): đếm số lượng dữ liệu theo 1 tiêu chí cụ thể \n",
    "- unique(): liệt kê danh sách các giá trị khác nhau\n",
    "- fillna(): phương thức fillna() để điền giá trị 0 vào các ô dữ liệu bị thiếu (NaN) của DataFrame  "
   ]
  },
  {
   "cell_type": "code",
   "execution_count": 41,
   "metadata": {},
   "outputs": [
    {
     "data": {
      "text/plain": [
       "(89,)"
      ]
     },
     "execution_count": 41,
     "metadata": {},
     "output_type": "execute_result"
    }
   ],
   "source": [
    "df2['delivery_country'].unique().shape"
   ]
  },
  {
   "cell_type": "code",
   "execution_count": 44,
   "metadata": {},
   "outputs": [
    {
     "name": "stdout",
     "output_type": "stream",
     "text": [
      "    id delivery_country\n",
      "2    1          Armenia\n",
      "11   4           Mexico\n",
      "30  12           Russia\n",
      "38  15           Norway\n",
      "45  19            Qatar\n",
      "(209, 2)\n"
     ]
    }
   ],
   "source": [
    "# Lọc thông tin id và delivery_country của các order có product_id nhỏ hơn hoặc bằng 100\n",
    "partial_df =  df2[df2['product_id'] <= 100][[\"id\", \"delivery_country\"]]  \n",
    "print(partial_df.head())\n",
    "print(partial_df.shape)"
   ]
  },
  {
   "cell_type": "markdown",
   "metadata": {},
   "source": [
    "How does this filtering work?\n",
    "\n",
    "When we write `df['billing_country'] == 'USA'`, Pandas selects the `'billing_country'` column and checks whether each row is `'USA'`. If so, that row is marked `True`, and if not, it is marked `False`. This is how we would normally expect a conditional to work, only now applied to an entire Pandas `Series`. We end up with a Pandas `Series` of Boolean variables."
   ]
  },
  {
   "cell_type": "code",
   "execution_count": 51,
   "metadata": {},
   "outputs": [
    {
     "data": {
      "text/plain": [
       "116"
      ]
     },
     "execution_count": 51,
     "metadata": {},
     "output_type": "execute_result"
    }
   ],
   "source": [
    "# Đếm số đơn hàng được giao tới USA\n",
    "(df2['delivery_country'] == 'China').sum()"
   ]
  },
  {
   "cell_type": "markdown",
   "metadata": {},
   "source": [
    "# Bài tập thực hành\n",
    "\n",
    "Bài 1. Tạo 1 DataFrame tên 'df' từ mảng numpy array kích thước 20x5 các số nguyên có giá trị ngẫu nhiên từ 0 đến 20, với tên cột là ['c0','c1', 'c2'. 'c3', 'c4']. Hãy mô tả các thông số thống kê của 'df'. \n",
    "\n",
    "Bài 2. Thực hiện các thao tác sau với df:\n",
    "    \n",
    "    a. Hiển thị 4 entries đầu tiên và 2 entries cuối cùng của df\n",
    "    b. Hiển thị 10 phần tử đầu tiên của cột \"c1\"\n",
    "    c. Hiển thị 3 phần tử cuối cùng của cột \"c1\"\n",
    "    d. Bổ sung 1 cột \"c5\" gồm dãy các số 10.\n",
    "    e. Tìm phần tử có giá trị lớn nhất trong df.\n",
    "    f. Xóa hàng thứ 5 và cột 'c1' của df.\n",
    " \n",
    "Bài 3. Đọc file Salaries.csv vào dataframe tên df_salary và thực hiện các thao tác sau:\n",
    "\n",
    "    a. Xem kích thước của df_salary\n",
    "    b. Xem thông tin của df_salary\n",
    "    c. Mô tả thống kê các thông tin của df_salary\n",
    "    d. Xác định giá trị trung bình của trường thông tin lương cơ bản \"BasePay\"\n",
    "    e. Tính tổng số tiền trả ngoài giờ \"OvertimePay\"\n",
    "    f. Tìm tên của nhân viên có số tiền trả ngoài giờ \"OvertimePay\" cao nhất\n",
    "    g. Tìm tên của nhân viên được trả lương \"TotalPay\" cao nhất\n",
    "    h. Tìm nghề có mức lương cơ sở cao nhất.\n",
    "    i. Có bao nhiêu nghề nghiệp trong bảng?\n",
    "    j. Hãy thay thế các giá trị trống và thay thế bằng số 0.\n",
    "    "
   ]
  }
 ],
 "metadata": {
  "kernelspec": {
   "display_name": "Python 3 (ipykernel)",
   "language": "python",
   "name": "python3"
  },
  "language_info": {
   "codemirror_mode": {
    "name": "ipython",
    "version": 3
   },
   "file_extension": ".py",
   "mimetype": "text/x-python",
   "name": "python",
   "nbconvert_exporter": "python",
   "pygments_lexer": "ipython3",
   "version": "3.9.13"
  },
  "nbclean": true
 },
 "nbformat": 4,
 "nbformat_minor": 1
}
