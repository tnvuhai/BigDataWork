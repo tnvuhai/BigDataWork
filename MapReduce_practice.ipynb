{
 "cells": [
  {
   "cell_type": "markdown",
   "metadata": {},
   "source": [
    "# Bài tập mẫu\n"
   ]
  },
  {
   "cell_type": "markdown",
   "metadata": {},
   "source": [
    "**Viết ứng dụng Wordcount dùng khung MapReduce:** Đếm số lần xuất hiện của mỗi từ (word) trong tệp dữ liệu đầu vào\n",
    "\n",
    "Gợi ý:\n",
    "\n",
    "- Xây dựng Mapper và Reducer riêng lẻ\n",
    "\n",
    "- Với hỗ trợ của gói `Hadoop streaming` (Link:https://hadoop.apache.org/docs/r1.2.1/streaming.html#How+Streaming+Works),  Mapper và Reducer là các tệp thực thi đọc đầu vào từ luồng stdin (theo từng dòng) và ghi kết quả đầu ra cho stdout. \n",
    "\n",
    "- Mapper: Đọc từng dòng từ stdin và tách các từ; sau đó, mỗi từ được gán cho số đếm = 1. Lưu dữ liệu đầu ra dưới dạng <key,value> pair\n",
    "\n",
    "- Map Output cần được sắp xếp (sort) trước khi đưa vào Reducer.\n",
    "\n",
    "- Reducer: Khi tác vụ Reduce chạy, nó sẽ chuyển đổi các cặp khóa/giá trị đầu vào của nó thành các dòng và cung cấp các dòng này cho stdin của tiến trình (process). Trong quá trình chạy, Reducer thu thập các kết quả hướng dòng từ stdout của tiến trình, chuyển đổi từng dòng thành một <key,value> pair.\n"
   ]
  },
  {
   "cell_type": "markdown",
   "metadata": {},
   "source": [
    "**Tạo Mapper**"
   ]
  },
  {
   "cell_type": "code",
   "execution_count": 7,
   "metadata": {},
   "outputs": [
    {
     "name": "stdout",
     "output_type": "stream",
     "text": [
      "Overwriting word_count_mapper2.py\n"
     ]
    }
   ],
   "source": [
    "%%writefile word_count_mapper2.py\n",
    "\n",
    "import sys \n",
    "\n",
    "\n",
    "for line in sys.stdin:\n",
    "\n",
    "    # remove leading and trailing whitespace \n",
    "    line = line.strip() \n",
    "    # split the line into words \n",
    "    words = line.split() \n",
    "    # increase counters \n",
    "    for word in words: \n",
    "        print('%s\\t%s' % (word, 1))\n"
   ]
  },
  {
   "cell_type": "markdown",
   "metadata": {},
   "source": [
    "**Chạy thử kiểm tra Mapper với bash script (sử dụng Cell magic %%bash)**"
   ]
  },
  {
   "cell_type": "code",
   "execution_count": 16,
   "metadata": {},
   "outputs": [
    {
     "name": "stdout",
     "output_type": "stream",
     "text": [
      "Microsoft Windows [Version 10.0.19044.2728]\n",
      "(c) Microsoft Corporation. All rights reserved.\n",
      "\n",
      "(NLP) F:\\github\\BigDataWork>cat lyric.txt | py word_count_mapper2.py  \n"
     ]
    },
    {
     "name": "stderr",
     "output_type": "stream",
     "text": [
      "'cat' is not recognized as an internal or external command,\n",
      "operable program or batch file.\n"
     ]
    },
    {
     "name": "stdout",
     "output_type": "stream",
     "text": [
      "\n",
      "(NLP) F:\\github\\BigDataWork>"
     ]
    }
   ],
   "source": [
    "%%cmd \n",
    "cat lyric.txt | py word_count_mapper2.py  "
   ]
  },
  {
   "cell_type": "markdown",
   "metadata": {},
   "source": [
    "**Tạo Reducer**"
   ]
  },
  {
   "cell_type": "code",
   "execution_count": 6,
   "metadata": {},
   "outputs": [
    {
     "name": "stdout",
     "output_type": "stream",
     "text": [
      "Overwriting word_count_reducer2.py\n"
     ]
    }
   ],
   "source": [
    "%%writefile word_count_reducer2.py\n",
    "\n",
    "import sys\n",
    "current_word = None\n",
    "current_count = 0\n",
    "word = None\n",
    "for line in sys.stdin:\n",
    "    # remove leading and trailing whitespaces\n",
    "    line = line.strip()\n",
    "    # parse the input we got from mapper.py\n",
    "    word, count = line.split('\\t', 1)\n",
    "    # convert count (currently a string) to int\n",
    "    try:\n",
    "        count = int(count)\n",
    "    except ValueError:\n",
    "        # count was not a number, so silently\n",
    "        # ignore/discard this line\n",
    "        continue\n",
    "    if current_word == word:\n",
    "        current_count += count\n",
    "    else:\n",
    "        if current_word:\n",
    "            print ('%s\\t%s' % (current_word, current_count))\n",
    "        current_count = count\n",
    "        current_word = word\n",
    "if current_word == word:\n",
    "    print('%s\\t%s' % (current_word, current_count))"
   ]
  },
  {
   "cell_type": "markdown",
   "metadata": {},
   "source": [
    "# Thực thi ứng dụng trong Python:\n",
    "\n",
    "Chạy 'MapReduce job' dùng chuỗi câu lệnh bash script:\n",
    "\n",
    "Streaming file -> Mapping -> Sorting -> Reducing"
   ]
  },
  {
   "cell_type": "code",
   "execution_count": 8,
   "metadata": {},
   "outputs": [
    {
     "name": "stdout",
     "output_type": "stream",
     "text": [
      "'bout\t1\n",
      "And\t1\n",
      "Are\t1\n",
      "But\t3\n",
      "Even\t1\n",
      "Ever\t2\n",
      "Funny\t1\n",
      "Gotta\t8\n",
      "How\t1\n",
      "I\t1\n",
      "More\t1\n",
      "Sometimes\t1\n",
      "Tell\t1\n",
      "To\t1\n",
      "When\t1\n",
      "Where\t6\n",
      "Why\t1\n",
      "You've\t7\n",
      "a\t7\n",
      "all\t1\n",
      "and\t15\n",
      "are\t1\n",
      "ask\t1\n",
      "be\t5\n",
      "because\t3\n",
      "better\t1\n",
      "bound\t3\n",
      "burned\t3\n",
      "burns\t3\n",
      "by,\t2\n",
      "by?\t2\n",
      "can\t1\n",
      "couple\t1\n",
      "cry?\t1\n",
      "deceiving\t1\n",
      "desire,\t3\n",
      "die\t3\n",
      "do\t1\n",
      "does\t1\n",
      "doesn't\t3\n",
      "doin'?\t1\n",
      "doing\t2\n",
      "easy\t1\n",
      "fall\t1\n",
      "flame\t3\n",
      "flame,\t3\n",
      "get\t18\n",
      "getting\t2\n",
      "gonna\t6\n",
      "gotta\t7\n",
      "he's\t1\n",
      "heart\t1\n",
      "how\t1\n",
      "in\t1\n",
      "is\t9\n",
      "it\t6\n",
      "it's\t2\n",
      "just\t6\n",
      "lies?\t1\n",
      "love\t1\n",
      "make\t1\n",
      "me,\t1\n",
      "mean\t3\n",
      "might\t1\n",
      "never\t1\n",
      "not\t1\n",
      "out\t1\n",
      "right?\t1\n",
      "ruined\t1\n",
      "so\t1\n",
      "someone's\t3\n",
      "than\t1\n",
      "that\t2\n",
      "the\t1\n",
      "there\t10\n",
      "think\t1\n",
      "times\t1\n",
      "to\t4\n",
      "try\t15\n",
      "try,\t30\n",
      "turned\t1\n",
      "up\t15\n",
      "wanna\t1\n",
      "we\t1\n",
      "what\t2\n",
      "when\t1\n",
      "why\t1\n",
      "wonder\t1\n",
      "worry\t1\n",
      "you\t3\n",
      "you're\t5\n"
     ]
    }
   ],
   "source": [
    "%%bash\n",
    "cat lyric.txt | py word_count_mapper2.py   | sort -k1,1 | py word_count_reducer2.py"
   ]
  },
  {
   "cell_type": "markdown",
   "metadata": {},
   "source": [
    "# Chạy Python MapReduce trong Hadoop \n",
    "\n",
    "**Để chạy trong Hadoop 1 ứng dụng MapReduce viết bằng Python, sử dụng gói Hadoop Streaming**.\n",
    "\n",
    "Ngoài ra, các thư mục lưu dữ liệu đầu vào, lưu kết quả đầu ra cần được xác lập."
   ]
  },
  {
   "cell_type": "markdown",
   "metadata": {},
   "source": [
    "%%bash\n",
    "\n",
    "OUT_DIR=\"wordcount_result_\"$(date +\"%s%6N\")\n",
    "NUM_REDUCERS=1\n",
    "hdfs dfs cp -copyFromLocal \"lyric.txt\" /user/input-dir\n",
    "\n",
    "hdfs dfs -rm -r -skipTrash ${OUT_DIR} > /dev/null\n",
    "\n",
    "$HADOOP_HOME/bin/hadoop  jar $HADOOP_HOME/hadoop-streaming.jar \\\n",
    "    -D mapred.jab.name=\"Streaming wordCount\" \\\n",
    "    -D mapreduce.job.reduces=${NUM_REDUCERS} \\\n",
    "    -files word_count_mapper2.py,word_count_reducer2.py \\\n",
    "    -mapper \"python word_count_mapper2.py\" \\\n",
    "    -combiner \"python word_count_reducer2.py\" \\\n",
    "    -reducer \"python word_count_reducer2.py\" \\\n",
    "    -input /user/input-dir/\\\n",
    "    -output ${OUT_DIR} > /dev/null\n",
    "\n",
    "hdfs dfs -cat ${OUT_DIR}/part-00000 | head"
   ]
  },
  {
   "cell_type": "markdown",
   "metadata": {},
   "source": [
    "# Bài tập thực hành"
   ]
  },
  {
   "cell_type": "markdown",
   "metadata": {},
   "source": [
    "Bài 1. Viết ứng dụng MapReduce để sắp xếp từ theo số lần xuất hiện giảm dần.\n"
   ]
  },
  {
   "cell_type": "markdown",
   "metadata": {},
   "source": [
    "Bài 2. Viết ứng dụng MapReduce grep để tìm các dòng xuất hiện một chuỗi mẫu (pattern) của tệp đầu vào."
   ]
  },
  {
   "cell_type": "code",
   "execution_count": null,
   "metadata": {},
   "outputs": [],
   "source": []
  }
 ],
 "metadata": {
  "kernelspec": {
   "display_name": "Python 3 (ipykernel)",
   "language": "python",
   "name": "python3"
  },
  "language_info": {
   "codemirror_mode": {
    "name": "ipython",
    "version": 3
   },
   "file_extension": ".py",
   "mimetype": "text/x-python",
   "name": "python",
   "nbconvert_exporter": "python",
   "pygments_lexer": "ipython3",
   "version": "3.9.13"
  },
  "toc": {
   "base_numbering": 1,
   "nav_menu": {},
   "number_sections": true,
   "sideBar": true,
   "skip_h1_title": false,
   "title_cell": "Table of Contents",
   "title_sidebar": "Contents",
   "toc_cell": false,
   "toc_position": {},
   "toc_section_display": true,
   "toc_window_display": false
  }
 },
 "nbformat": 4,
 "nbformat_minor": 4
}
