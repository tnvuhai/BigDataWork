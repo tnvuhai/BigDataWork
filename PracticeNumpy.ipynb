{
 "cells": [
  {
   "cell_type": "code",
   "execution_count": 1,
   "id": "8a8402c9-2829-4b6f-8407-9d9b0e9328d9",
   "metadata": {},
   "outputs": [],
   "source": [
    "import numpy as np"
   ]
  },
  {
   "cell_type": "markdown",
   "id": "1d79b7dc-93a1-4892-900e-6f917a88e826",
   "metadata": {},
   "source": [
    "# Bài 1. Hãy tạo một mảng 1 chiều gồm 10 số 5 dùng hàm ones. "
   ]
  },
  {
   "cell_type": "code",
   "execution_count": 13,
   "id": "aeace6a4-2f30-49c1-9d5c-f128a83bdfd1",
   "metadata": {},
   "outputs": [
    {
     "name": "stdout",
     "output_type": "stream",
     "text": [
      "[5. 5. 5. 5. 5. 5. 5. 5. 5. 5.]\n"
     ]
    }
   ],
   "source": [
    "arr_ones = np.ones(10) * 5\n",
    "print(arr_ones)"
   ]
  },
  {
   "cell_type": "markdown",
   "id": "a9e03509-a6af-413b-b8b5-3b01579ee547",
   "metadata": {},
   "source": [
    "# Bài 2. Tạo mảng số chẵn trong đoạn [10, 50] và tính tổng các phần tử của mảng.\n"
   ]
  },
  {
   "cell_type": "code",
   "execution_count": 11,
   "id": "436df71d-a021-4ee0-afaf-9bc58c052e30",
   "metadata": {},
   "outputs": [
    {
     "name": "stdout",
     "output_type": "stream",
     "text": [
      "[10 12 14 16 18 20 22 24 26 28 30 32 34 36 38 40 42 44 46 48 50]\n",
      "630\n"
     ]
    }
   ],
   "source": [
    "arr3 = np.arange(10,51,2)\n",
    "print(arr3)\n",
    "print(np.sum(arr3))"
   ]
  },
  {
   "cell_type": "markdown",
   "id": "9edc3a6c-6cf2-432b-b809-ee851cb864ac",
   "metadata": {
    "tags": []
   },
   "source": [
    "# Bài 3. Tạo mảng A có kích thước 10x10 với các giá trị từ 0 đến 99. Sau đó tạo mảng mới A1 có giá trị sắp xếp đảo ngược của A\n"
   ]
  },
  {
   "cell_type": "code",
   "execution_count": 67,
   "id": "6bcfbf18-a766-48ef-8617-4c67cc8736d7",
   "metadata": {},
   "outputs": [
    {
     "name": "stdout",
     "output_type": "stream",
     "text": [
      "[[ 0  1  2  3  4  5  6  7  8  9]\n",
      " [10 11 12 13 14 15 16 17 18 19]\n",
      " [20 21 22 23 24 25 26 27 28 29]\n",
      " [30 31 32 33 34 35 36 37 38 39]\n",
      " [40 41 42 43 44 45 46 47 48 49]\n",
      " [50 51 52 53 54 55 56 57 58 59]\n",
      " [60 61 62 63 64 65 66 67 68 69]\n",
      " [70 71 72 73 74 75 76 77 78 79]\n",
      " [80 81 82 83 84 85 86 87 88 89]\n",
      " [90 91 92 93 94 95 96 97 98 99]]\n"
     ]
    }
   ],
   "source": [
    "# cách 1\n",
    "# a = 0\n",
    "# b = 10\n",
    "# arrFinal = []\n",
    "# for i in range(10):\n",
    "#     arr = np.arange(a,b,1)\n",
    "#     arrFinal.append(arr)\n",
    "#     a += 10\n",
    "#     b += 10\n",
    "    \n",
    "# for i in arrFinal:\n",
    "#     print(i)\n",
    "arrFinal = np.arange(100).reshape(10,10)\n",
    "print(arrFinal)"
   ]
  },
  {
   "cell_type": "markdown",
   "id": "43105c1e-fcc8-4a1a-8634-3fa2c245fa19",
   "metadata": {},
   "source": [
    "# Bài 4. Tính tổng, giá trị trung bình của hàng thứ 5 của mảng A (bài 3)\n"
   ]
  },
  {
   "cell_type": "code",
   "execution_count": 68,
   "id": "b96b8602-b49c-4d4d-8035-cdeca1348b17",
   "metadata": {},
   "outputs": [
    {
     "name": "stdout",
     "output_type": "stream",
     "text": [
      "Tính tổng của hàng thứ 5 trong mảng bài 3\n",
      "445\n",
      "44.5\n"
     ]
    }
   ],
   "source": [
    "print(\"Tính tổng của hàng thứ 5 trong mảng bài 3\")\n",
    "print(np.sum(arrFinal[4]))\n",
    "print(np.mean(arrFinal[4]))"
   ]
  },
  {
   "cell_type": "markdown",
   "id": "336a209a-e761-456a-9178-836120b126a6",
   "metadata": {},
   "source": [
    "# Bài 5. Tính tổng, giá trị trung bình của cột thứ 10 của mảng A (bài 3)\n"
   ]
  },
  {
   "cell_type": "code",
   "execution_count": 69,
   "id": "2e762aa5-e568-438b-a732-f54dab7437ed",
   "metadata": {},
   "outputs": [
    {
     "name": "stdout",
     "output_type": "stream",
     "text": [
      "Tính tổng của hàng thứ 10 trong mảng bài 3\n",
      "945\n",
      "94.5\n"
     ]
    }
   ],
   "source": [
    "print(\"Tính tổng của hàng thứ 10 trong mảng bài 3\")\n",
    "print(np.sum(arrFinal[9]))\n",
    "print(np.mean(arrFinal[9]))"
   ]
  },
  {
   "cell_type": "markdown",
   "id": "c682994f-4d64-4e7a-a3d5-8662b07bdfee",
   "metadata": {},
   "source": [
    "# Bài 6. Hãy tạo mảng B từ 5 hàng, 4 cột đầu tiên của mảng A\n"
   ]
  },
  {
   "cell_type": "code",
   "execution_count": 80,
   "id": "81e3c505-b540-459d-ae28-50fd5b246d5b",
   "metadata": {},
   "outputs": [
    {
     "name": "stdout",
     "output_type": "stream",
     "text": [
      "[[ 0  1  2  3  4  5  6  7  8  9]\n",
      " [10 11 12 13 14 15 16 17 18 19]\n",
      " [20 21 22 23 24 25 26 27 28 29]\n",
      " [30 31 32 33 34 35 36 37 38 39]\n",
      " [40 41 42 43 44 45 46 47 48 49]]\n",
      "[[ 0  1  2  3]\n",
      " [10 11 12 13]\n",
      " [20 21 22 23]\n",
      " [30 31 32 33]\n",
      " [40 41 42 43]\n",
      " [50 51 52 53]\n",
      " [60 61 62 63]\n",
      " [70 71 72 73]\n",
      " [80 81 82 83]\n",
      " [90 91 92 93]]\n"
     ]
    }
   ],
   "source": [
    "#cách hiểu 1\n",
    "arr5rows = arrFinal[0:5]\n",
    "arr4FirstCols = arrFinal[:10,:4]\n",
    "\n",
    "print(arr5rows)\n",
    "print(arr4FirstCols)"
   ]
  },
  {
   "cell_type": "code",
   "execution_count": 82,
   "id": "0bdf2547-3955-4a72-b112-4494a2d64afd",
   "metadata": {},
   "outputs": [
    {
     "name": "stdout",
     "output_type": "stream",
     "text": [
      "[[ 0  1  2  3]\n",
      " [10 11 12 13]\n",
      " [20 21 22 23]\n",
      " [30 31 32 33]\n",
      " [40 41 42 43]]\n"
     ]
    }
   ],
   "source": [
    "#Cách hiểu 2\n",
    "arr5FirstrowsAnd4FirstCols = arrFinal[:5,:4]\n",
    "print(arr5FirstrowsAnd4FirstCols)"
   ]
  },
  {
   "cell_type": "markdown",
   "id": "10c9eb71-4a57-4815-87ed-b41b7b5d34c9",
   "metadata": {},
   "source": [
    "# Bài 7. Hãy tạo mảng C từ 3 hàng, 3 cột cuối cùng của mảng A\n"
   ]
  },
  {
   "cell_type": "code",
   "execution_count": 85,
   "id": "aff45b00-63c4-4562-9757-e0f8b7260c89",
   "metadata": {},
   "outputs": [
    {
     "name": "stdout",
     "output_type": "stream",
     "text": [
      "Mảng C\n",
      "[[77 78 79]\n",
      " [87 88 89]\n",
      " [97 98 99]]\n"
     ]
    }
   ],
   "source": [
    "arr3LastRowAnd3LastCols = arrFinal[7:,7:]\n",
    "print(\"Mảng C\")\n",
    "print(arr3LastRowAnd3LastCols)"
   ]
  },
  {
   "cell_type": "markdown",
   "id": "d7b2b735-4ae0-4f6b-93ed-9d18b6af5e0f",
   "metadata": {},
   "source": [
    "# Bài 8. Hãy tạo mảng D dùng phương pháp array slicing từ hàng thứ 4 đến 6 và từ cột thứ 8 đến 10"
   ]
  },
  {
   "cell_type": "code",
   "execution_count": 101,
   "id": "4bcf91ac-23d3-44a4-8578-b984af7ee1a7",
   "metadata": {},
   "outputs": [
    {
     "name": "stdout",
     "output_type": "stream",
     "text": [
      "Mảng D:\n",
      "[[37 38 39]\n",
      " [47 48 49]\n",
      " [57 58 59]]\n"
     ]
    }
   ],
   "source": [
    "arr4to6RowsAnd8to10Cols = arrFinal[3:6,7:10]\n",
    "print(\"Mảng D:\")\n",
    "print(arr4to6RowsAnd8to10Cols)"
   ]
  },
  {
   "cell_type": "markdown",
   "id": "3a6f60f4-1dcf-456b-90e8-945e02f76090",
   "metadata": {},
   "source": [
    "# Bài 9. Hãy tính tổng của tất cả các cột trong mảng A.\n"
   ]
  },
  {
   "cell_type": "code",
   "execution_count": 111,
   "id": "5219ade0-ceee-48a2-8e84-5e5cf6d4131c",
   "metadata": {},
   "outputs": [
    {
     "name": "stdout",
     "output_type": "stream",
     "text": [
      "Tổng cột 1: 450\n",
      "Tổng cột 2: 460\n",
      "Tổng cột 3: 470\n",
      "Tổng cột 4: 480\n",
      "Tổng cột 5: 490\n",
      "Tổng cột 6: 500\n",
      "Tổng cột 7: 510\n",
      "Tổng cột 8: 520\n",
      "Tổng cột 9: 530\n",
      "Tổng cột 10: 540\n",
      "Tổng tất cả các cột: 4950\n"
     ]
    }
   ],
   "source": [
    "ToTalCol = 0\n",
    "for i in range(10):\n",
    "    sumCol = np.sum(arrFinal[:,i])\n",
    "    print(f\"Tổng cột {i+1}: {sumCol}\")\n",
    "    ToTalCol += sumCol\n",
    "    \n",
    "print(f\"Tổng tất cả các cột: {ToTalCol}\")"
   ]
  },
  {
   "cell_type": "markdown",
   "id": "0e716f87-bb98-4295-b982-90622fb84a52",
   "metadata": {},
   "source": [
    "# Bài 10. Hãy tạo mảng 5x4 với các số ngẫu nhiên có giá trị trong khoảng 10 đến 100. Tính tổng, giá trị trung bình, tìm số lớn nhất, số nhỏ nhất trong mảng."
   ]
  },
  {
   "cell_type": "code",
   "execution_count": 125,
   "id": "d74bba96-05bd-4682-979a-572cdbf1d708",
   "metadata": {},
   "outputs": [
    {
     "name": "stdout",
     "output_type": "stream",
     "text": [
      "[[92 49 67 20]\n",
      " [28 68 30 21]\n",
      " [95 93 22 20]\n",
      " [40 36 37 21]\n",
      " [61 17 87 10]]\n",
      "Tổng mảng: 914\n",
      "Trung bình mảng: 45.7\n",
      "Số lớn nhất: 95\n",
      "Số nhỏ nhất: 10\n"
     ]
    }
   ],
   "source": [
    "#Cách 1\n",
    "arrRand = np.random.randint(10,100,(5,4))\n",
    "\n",
    "#Cách 2\n",
    "# arrRand = np.random.randint(10,100,1).reshape(5,4)\n",
    "\n",
    "print(arrRand)\n",
    "print(f\"Tổng mảng: {np.sum(arrRand)}\")\n",
    "print(f\"Trung bình mảng: {np.mean(arrRand)}\")\n",
    "print(f\"Số lớn nhất: {np.max(arrRand)}\")\n",
    "print(f\"Số nhỏ nhất: {np.min(arrRand)}\")\n"
   ]
  }
 ],
 "metadata": {
  "kernelspec": {
   "display_name": "Python 3 (ipykernel)",
   "language": "python",
   "name": "python3"
  },
  "language_info": {
   "codemirror_mode": {
    "name": "ipython",
    "version": 3
   },
   "file_extension": ".py",
   "mimetype": "text/x-python",
   "name": "python",
   "nbconvert_exporter": "python",
   "pygments_lexer": "ipython3",
   "version": "3.9.13"
  }
 },
 "nbformat": 4,
 "nbformat_minor": 5
}
